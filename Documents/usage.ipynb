{
 "cells": [
  {
   "cell_type": "markdown",
   "metadata": {},
   "source": [
    "# Usage Documentation"
   ]
  },
  {
   "cell_type": "markdown",
   "metadata": {},
   "source": [
    "## Import Dependencies"
   ]
  },
  {
   "cell_type": "code",
   "execution_count": 1,
   "metadata": {},
   "outputs": [],
   "source": [
    "import sys\n",
    "sys.path.append('../source/ServerlessAppPerfCostMdlOpt')\n",
    "import networkx as nx\n",
    "import matplotlib.pyplot as plt\n",
    "import itertools\n",
    "import warnings\n",
    "warnings.filterwarnings(\"ignore\")\n",
    "from ServerlessAppWorkflow import ServerlessAppWorkflow\n",
    "from AppGenerator import AppGenerator\n",
    "from PerfOpt import PerfOpt"
   ]
  },
  {
   "cell_type": "markdown",
   "metadata": {},
   "source": [
    "## Define the workflow of a serverless application"
   ]
  },
  {
   "cell_type": "code",
   "execution_count": 2,
   "metadata": {},
   "outputs": [
    {
     "data": {
      "image/png": "[encoded data removed]",
      "text/plain": [
       "<Figure size 432x288 with 1 Axes>"
      ]
     },
     "metadata": {},
     "output_type": "display_data"
    }
   ],
   "source": [
    "AppWorkflow_G = nx.DiGraph()\n",
    "\n",
    "# Define functions and structural vertices in the App\n",
    "# AppWorkflow_G.add_node($Vertex_Name, pos=$Vertex_Position)\n",
    "AppWorkflow_G.add_node('Start', pos=(0, 1))\n",
    "AppWorkflow_G.add_node(1, pos=(1, 1))\n",
    "AppWorkflow_G.add_node(2, pos=(2, 2))\n",
    "AppWorkflow_G.add_node(3, pos=(2, 0))\n",
    "AppWorkflow_G.add_node(9, pos=(2.5, -0.5))\n",
    "AppWorkflow_G.add_node(15, pos=(4, -0.5))\n",
    "AppWorkflow_G.add_node(16, pos=(5, -0.5))\n",
    "AppWorkflow_G.add_node(10, pos=(2.5, 0.5))\n",
    "AppWorkflow_G.add_node(4, pos=(4, 2.5))\n",
    "AppWorkflow_G.add_node(5, pos=(3, 1.5))\n",
    "AppWorkflow_G.add_node(11, pos=(3.5, 2))\n",
    "AppWorkflow_G.add_node(12, pos=(3.5, 1))\n",
    "AppWorkflow_G.add_node(13, pos=(4.5, 1))\n",
    "AppWorkflow_G.add_node(14, pos=(5.5, 1))\n",
    "AppWorkflow_G.add_node(6, pos=(6, 0))\n",
    "AppWorkflow_G.add_node(7, pos=(7, 1))\n",
    "AppWorkflow_G.add_node(8, pos=(8, 1))\n",
    "AppWorkflow_G.add_node('End', pos=(9, 1))\n",
    "\n",
    "# Define edges and the transition probability\n",
    "# AppWorkflow_G.add_weighted_edges_from([$start from, $end at, $transition probability])\n",
    "AppWorkflow_G.add_weighted_edges_from([(1, 2, 1),(1, 3, 1),(2, 4, 0.6),(2, 5, 0.4),(4, 7, 1),(5, 11, 1),(5, 12, 1),(11, 7, 1),(12, 13, 1),(13, 14, 1),(14, 13, 0.3),(14, 7, 0.7),(3, 9, 0.8),(3, 10, 0.2),(9, 15, 1),(15, 16, 0.95),(15, 15, 0.05),(16, 6, 1),(10, 6, 1), (6, 7, 0.9), (6, 3, 0.1), (7, 8, 0.8),(7, 7, 0.2)])\n",
    "AppWorkflow_G.add_weighted_edges_from([('Start', 1, 1), (8, 'End', 1)])\n",
    "\n",
    "# Show the workflow graph\n",
    "pos_AppWorkflow_G = nx.get_node_attributes(AppWorkflow_G, 'pos')\n",
    "nx.draw(AppWorkflow_G, pos_AppWorkflow_G, with_labels=True)\n",
    "labels_AppWorkflow_G = nx.get_edge_attributes(AppWorkflow_G, 'weight')\n",
    "nx.draw_networkx_edge_labels(AppWorkflow_G, pos_AppWorkflow_G, edge_labels=labels_AppWorkflow_G)\n",
    "pos_higher_offset_AppWorkflow_G = {}\n",
    "for k, v in pos_AppWorkflow_G.items():\n",
    "    pos_higher_offset_AppWorkflow_G[k] = (v[0], v[1] + 0.15)\n",
    "plt.show()"
   ]
  },
  {
   "cell_type": "markdown",
   "metadata": {},
   "source": [
    "## Use the performance model to get the average end-to-end response time of a serverless application"
   ]
  },
  {
   "cell_type": "markdown",
   "metadata": {},
   "source": [
    "### Define the performance (response time in ms) of functions"
   ]
  },
  {
   "cell_type": "code",
   "execution_count": 3,
   "metadata": {},
   "outputs": [],
   "source": [
    "AppWorkflow_G.nodes[1]['rt'] = 768.23935\n",
    "AppWorkflow_G.nodes[2]['rt'] = 204.44438666666665\n",
    "AppWorkflow_G.nodes[3]['rt'] = 525.3339015713016\n",
    "AppWorkflow_G.nodes[4]['rt'] = 848.5232830820771\n",
    "AppWorkflow_G.nodes[5]['rt'] = 205.84332234130255\n",
    "AppWorkflow_G.nodes[6]['rt'] = 507.06963577139476\n",
    "AppWorkflow_G.nodes[7]['rt'] = 347.58557048748355\n",
    "AppWorkflow_G.nodes[8]['rt'] = 235.33234666666667\n",
    "AppWorkflow_G.nodes[9]['rt'] = 164.18543685756242\n",
    "AppWorkflow_G.nodes[10]['rt'] = 364.45012288786484\n",
    "AppWorkflow_G.nodes[11]['rt'] = 1049.8307584501235\n",
    "AppWorkflow_G.nodes[12]['rt'] = 787.509307502061\n",
    "AppWorkflow_G.nodes[13]['rt'] = 377.8240525114155\n",
    "AppWorkflow_G.nodes[14]['rt'] = 232.72174657534248\n",
    "AppWorkflow_G.nodes[15]['rt'] = 287.0198944033791\n",
    "AppWorkflow_G.nodes[16]['rt'] = 193.61988628026415"
   ]
  },
  {
   "cell_type": "markdown",
   "metadata": {},
   "source": [
    "### Performance modeling"
   ]
  },
  {
   "cell_type": "markdown",
   "metadata": {},
   "source": [
    "* Inputs:\n",
    "    * App workflow graph\n",
    "    * Performance of functions"
   ]
  },
  {
   "cell_type": "code",
   "execution_count": 4,
   "metadata": {},
   "outputs": [
    {
     "name": "stdout",
     "output_type": "stream",
     "text": [
      "Average End-to-end Response Time in ms: 3591.2615397450927 (use the delay model of AWS Step Functions as the transition delay)\n",
      "Average End-to-end Response Time in ms: 3354.881636236321 (the transition delay is 0 everywhere)\n"
     ]
    }
   ],
   "source": [
    "App = ServerlessAppWorkflow(G=AppWorkflow_G.copy(), delayType='SFN') # delayType='SFN': Use the delay model of AWS Step Functions as the transition delay\n",
    "App.get_simple_dag()\n",
    "AppERT = App.get_avg_rt()\n",
    "print(\"Average End-to-end Response Time in ms: {} (use the delay model of AWS Step Functions as the transition delay)\".format(AppERT))\n",
    "\n",
    "App = ServerlessAppWorkflow(G=AppWorkflow_G.copy(), delayType='None') # delayType='None': The transition delay is considered as 0.\n",
    "App.get_simple_dag()\n",
    "AppERT = App.get_avg_rt()\n",
    "print(\"Average End-to-end Response Time in ms: {} (the transition delay is 0 everywhere)\".format(AppERT)) "
   ]
  },
  {
   "cell_type": "code",
   "execution_count": 5,
   "metadata": {},
   "outputs": [
    {
     "name": "stdout",
     "output_type": "stream",
     "text": [
      "Average End-to-end Response Time in ms: 3464.7099570383257 (use the delay from the input)\n"
     ]
    }
   ],
   "source": [
    "# Define Delay\n",
    "AppWorkflow_G.nodes['Start']['delay'] = 0\n",
    "AppWorkflow_G.nodes[1]['delay'] = 0\n",
    "AppWorkflow_G.nodes[2]['delay'] = 0\n",
    "AppWorkflow_G.nodes[3]['delay'] = 0\n",
    "AppWorkflow_G.nodes[4]['delay'] = 0\n",
    "AppWorkflow_G.nodes[5]['delay'] = 0\n",
    "AppWorkflow_G.nodes[6]['delay'] = 0\n",
    "AppWorkflow_G.nodes[7]['delay'] = 0\n",
    "AppWorkflow_G.nodes[8]['delay'] = 0\n",
    "AppWorkflow_G.nodes[9]['delay'] = 0\n",
    "AppWorkflow_G.nodes[10]['delay'] = 0\n",
    "AppWorkflow_G.nodes[11]['delay'] = 0\n",
    "AppWorkflow_G.nodes[12]['delay'] = 0\n",
    "AppWorkflow_G.nodes[13]['delay'] = 0\n",
    "AppWorkflow_G.nodes[14]['delay'] = 0\n",
    "AppWorkflow_G.nodes[15]['delay'] = 0\n",
    "AppWorkflow_G.nodes[16]['delay'] = 0\n",
    "AppWorkflow_G.nodes['End']['delay'] = 0\n",
    "AppWorkflow_G.edges[('Start', 1)]['delay'] = 10\n",
    "AppWorkflow_G.edges[(1, 2)]['delay'] = 10\n",
    "AppWorkflow_G.edges[(1, 3)]['delay'] = 10\n",
    "AppWorkflow_G.edges[(2, 4)]['delay'] = 14\n",
    "AppWorkflow_G.edges[(2, 5)]['delay'] = 10\n",
    "AppWorkflow_G.edges[(3, 9)]['delay'] = 10\n",
    "AppWorkflow_G.edges[(3, 10)]['delay'] = 10\n",
    "AppWorkflow_G.edges[(9, 15)]['delay'] = 10\n",
    "AppWorkflow_G.edges[(15, 16)]['delay'] = 10\n",
    "AppWorkflow_G.edges[(15, 15)]['delay'] = 10\n",
    "AppWorkflow_G.edges[(16, 6)]['delay'] = 10\n",
    "AppWorkflow_G.edges[(10, 6)]['delay'] = 10\n",
    "AppWorkflow_G.edges[(4, 7)]['delay'] = 18\n",
    "AppWorkflow_G.edges[(5, 11)]['delay'] = 10\n",
    "AppWorkflow_G.edges[(5, 12)]['delay'] = 10\n",
    "AppWorkflow_G.edges[(11, 7)]['delay'] = 10\n",
    "AppWorkflow_G.edges[(12, 13)]['delay'] = 10\n",
    "AppWorkflow_G.edges[(13, 14)]['delay'] = 10\n",
    "AppWorkflow_G.edges[(14, 13)]['delay'] = 10\n",
    "AppWorkflow_G.edges[(14, 7)]['delay'] = 10\n",
    "AppWorkflow_G.edges[(6, 7)]['delay'] = 10\n",
    "AppWorkflow_G.edges[(6, 3)]['delay'] = 10\n",
    "AppWorkflow_G.edges[(7, 8)]['delay'] = 10\n",
    "AppWorkflow_G.edges[(7, 7)]['delay'] = 10\n",
    "AppWorkflow_G.edges[(8, 'End')]['delay'] = 10\n",
    "App = ServerlessAppWorkflow(G=AppWorkflow_G.copy(), delayType='Defined') # delayType='Defined': Use the delay from the input.\n",
    "App.get_simple_dag()\n",
    "AppERT = App.get_avg_rt()\n",
    "print(\"Average End-to-end Response Time in ms: {} (use the delay from the input)\".format(AppERT)) "
   ]
  },
  {
   "cell_type": "markdown",
   "metadata": {},
   "source": [
    "## Use the cost model to get the average cost of a serverless application"
   ]
  },
  {
   "cell_type": "markdown",
   "metadata": {},
   "source": [
    "### Define the performance (response time in ms) of functions"
   ]
  },
  {
   "cell_type": "code",
   "execution_count": 7,
   "metadata": {},
   "outputs": [],
   "source": [
    "AppWorkflow_G.nodes[1]['rt'] = 768.23935\n",
    "AppWorkflow_G.nodes[2]['rt'] = 204.44438666666665\n",
    "AppWorkflow_G.nodes[3]['rt'] = 525.3339015713016\n",
    "AppWorkflow_G.nodes[4]['rt'] = 848.5232830820771\n",
    "AppWorkflow_G.nodes[5]['rt'] = 205.84332234130255\n",
    "AppWorkflow_G.nodes[6]['rt'] = 507.06963577139476\n",
    "AppWorkflow_G.nodes[7]['rt'] = 347.58557048748355\n",
    "AppWorkflow_G.nodes[8]['rt'] = 235.33234666666667\n",
    "AppWorkflow_G.nodes[9]['rt'] = 164.18543685756242\n",
    "AppWorkflow_G.nodes[10]['rt'] = 364.45012288786484\n",
    "AppWorkflow_G.nodes[11]['rt'] = 1049.8307584501235\n",
    "AppWorkflow_G.nodes[12]['rt'] = 787.509307502061\n",
    "AppWorkflow_G.nodes[13]['rt'] = 377.8240525114155\n",
    "AppWorkflow_G.nodes[14]['rt'] = 232.72174657534248\n",
    "AppWorkflow_G.nodes[15]['rt'] = 287.0198944033791\n",
    "AppWorkflow_G.nodes[16]['rt'] = 193.61988628026415"
   ]
  },
  {
   "cell_type": "markdown",
   "metadata": {},
   "source": [
    "### Define the memory configuration (allocated memory size in MB) of functions"
   ]
  },
  {
   "cell_type": "code",
   "execution_count": 8,
   "metadata": {},
   "outputs": [],
   "source": [
    "AppWorkflow_G.nodes[1]['mem'] = 1536\n",
    "AppWorkflow_G.nodes[2]['mem'] = 1792\n",
    "AppWorkflow_G.nodes[3]['mem'] = 576\n",
    "AppWorkflow_G.nodes[4]['mem'] = 2240\n",
    "AppWorkflow_G.nodes[5]['mem'] = 896\n",
    "AppWorkflow_G.nodes[6]['mem'] = 1728\n",
    "AppWorkflow_G.nodes[7]['mem'] = 128\n",
    "AppWorkflow_G.nodes[8]['mem'] = 128\n",
    "AppWorkflow_G.nodes[9]['mem'] = 256\n",
    "AppWorkflow_G.nodes[10]['mem'] = 320\n",
    "AppWorkflow_G.nodes[11]['mem'] = 1920\n",
    "AppWorkflow_G.nodes[12]['mem'] = 1984\n",
    "AppWorkflow_G.nodes[13]['mem'] = 1088\n",
    "AppWorkflow_G.nodes[14]['mem'] = 640\n",
    "AppWorkflow_G.nodes[15]['mem'] = 896\n",
    "AppWorkflow_G.nodes[16]['mem'] = 1088"
   ]
  },
  {
   "cell_type": "markdown",
   "metadata": {},
   "source": [
    "### Cost modeling"
   ]
  },
  {
   "cell_type": "markdown",
   "metadata": {},
   "source": [
    "* Inputs:\n",
    "    * App workflow graph\n",
    "    * Performance of functions\n",
    "    * Memory configuration of functions"
   ]
  },
  {
   "cell_type": "code",
   "execution_count": 12,
   "metadata": {},
   "outputs": [
    {
     "name": "stdout",
     "output_type": "stream",
     "text": [
      "NE:\n",
      "{'Start': 0, 1: 1, 2: 1, 3: 1.1111111111111112, 9: 0.888888888888889, 15: 0.935672514619883, 16: 0.888888888888889, 10: 0.22222222222222224, 4: 0.6, 5: 0.4, 11: 0.4, 12: 0.4, 13: 0.5714285714285715, 14: 0.5714285714285715, 6: 1.1111111111111112, 7: 1.25, 8: 1, 'End': 0}\n",
      "Average Cost per 1 Million Executions Reported by Model: 117.71743024227234\n"
     ]
    }
   ],
   "source": [
    "App = ServerlessAppWorkflow(G=AppWorkflow_G.copy(), delayType='SFN')\n",
    "App.update_NE()\n",
    "print('NE:')\n",
    "print(App.ne)\n",
    "AppCost = App.get_avg_cost()\n",
    "print(\"Average Cost per 1 Million Executions Reported by Model: {}\".format(AppCost))"
   ]
  },
  {
   "cell_type": "markdown",
   "metadata": {},
   "source": [
    "## Inputs for the optimization algorithm"
   ]
  },
  {
   "cell_type": "markdown",
   "metadata": {},
   "source": [
    "### Define the workflow"
   ]
  },
  {
   "cell_type": "code",
   "execution_count": 14,
   "metadata": {},
   "outputs": [
    {
     "data": {
      "image/png": "[encoded data removed]",
      "text/plain": [
       "<Figure size 432x288 with 1 Axes>"
      ]
     },
     "metadata": {},
     "output_type": "display_data"
    }
   ],
   "source": [
    "App6_G = nx.DiGraph()\n",
    "\n",
    "# Define functions and structural vertices in the App\n",
    "# AppWorkflow_G.add_node($Vertex_Name, pos=$Vertex_Position)\n",
    "App6_G.add_node('Start', pos=(0, 1))\n",
    "App6_G.add_node(1, pos=(1, 1))\n",
    "App6_G.add_node(2, pos=(2, 0))\n",
    "App6_G.add_node(3, pos=(2, 3))\n",
    "App6_G.add_node(4, pos=(3, 1))\n",
    "App6_G.add_node(5, pos=(2, 2))\n",
    "App6_G.add_node(6, pos=(4, 1))\n",
    "App6_G.add_node('End', pos=(5, 1))\n",
    "\n",
    "# Define edges and the transition probability\n",
    "# AppWorkflow_G.add_weighted_edges_from([$start from, $end at, $transition probability])\n",
    "App6_G.add_weighted_edges_from([(1, 2, 1), (1, 5, 0.2), (1, 3, 0.8), (3, 4, 1), (5, 4, 1), (2, 4, 1), (4, 1, 0.1),\n",
    "                          (4, 4, 0.2), (4, 6, 0.7)])\n",
    "App6_G.add_weighted_edges_from([('Start', 1, 1), (6, 'End', 1)])\n",
    "\n",
    "# Show the workflow graph\n",
    "pos_App6_G = nx.get_node_attributes(App6_G, 'pos')\n",
    "nx.draw(App6_G, pos_App6_G, with_labels=True)\n",
    "labels_App6_G = nx.get_edge_attributes(App6_G, 'weight')\n",
    "nx.draw_networkx_edge_labels(App6_G, pos_App6_G, edge_labels=labels_App6_G)\n",
    "pos_higher_offset_App6_G = {}\n",
    "for k, v in pos_App6_G.items():\n",
    "    pos_higher_offset_App6_G[k] = (v[0], v[1] + 0.15)\n",
    "plt.show()"
   ]
  },
  {
   "cell_type": "markdown",
   "metadata": {
    "toc-hr-collapsed": true
   },
   "source": [
    "### Define the performance profile of functions"
   ]
  },
  {
   "cell_type": "markdown",
   "metadata": {},
   "source": [
    "#### Method 1: Define by passing PF directly"
   ]
  },
  {
   "cell_type": "code",
   "execution_count": 87,
   "metadata": {},
   "outputs": [],
   "source": [
    "f1_pf = {128: 5500.4866999999995, 192: 3674.8530999999994, 256: 2725.8923, 320: 2148.4905000000003, 384: 1771.1575, 448: 1502.8815, 512: 1301.2842, 576: 1144.3912, 640: 1013.1754000000001, 704: 926.5277999999998, 768: 835.1147, 832: 780.8069000000003, 896: 746.0372, 960: 723.9654999999999, 1024: 742.8131000000001, 1088: 715.9623999999999, 1152: 733.8956000000002, 1216: 767.1371000000003, 1280: 707.7513, 1344: 776.39, 1408: 722.9680000000001, 1472: 676.1344000000001, 1536: 707.1422, 1600: 704.9714, 1664: 761.7915000000003, 1728: 698.8906999999999, 1792: 676.2910999999999, 1856: 767.4296, 1920: 787.3432, 1984: 789.8888000000001, 2048: 688.5601999999999, 2112: 789.7145000000002, 2176: 739.7988000000001, 2240: 701.5542999999999, 2304: 743.8631, 2368: 741.6306999999999, 2432: 740.4686999999998, 2496: 785.0328999999999, 2560: 692.6570999999999, 2624: 700.0512999999999, 2688: 764.4642000000001, 2752: 722.9775000000002, 2816: 700.8738000000001, 2880: 732.8464, 2944: 695.5066, 3008: 753.4839}\n",
    "f2_pf = {128: 2898.2188999999994, 192: 1922.4316000000001, 256: 1425.9775999999995, 320: 1150.7265, 384: 953.4348000000001, 448: 811.3380999999999, 512: 700.4040000000002, 576: 629.4998, 640: 556.3427, 704: 510.6892, 768: 464.2314999999999, 832: 423.41310000000004, 896: 399.03869999999995, 960: 369.6110999999999, 1024: 344.49680000000006, 1088: 322.5969, 1152: 304.1409, 1216: 294.3993, 1280: 271.0062, 1344: 267.3689, 1408: 251.153, 1472: 242.73329999999999, 1536: 235.78379999999999, 1600: 223.15850000000003, 1664: 222.29129999999998, 1728: 215.491, 1792: 202.71560000000002, 1856: 204.17969999999997, 1920: 202.31969999999998, 1984: 203.7646, 2048: 201.59859999999998, 2112: 200.0368, 2176: 203.28369999999998, 2240: 200.2895, 2304: 204.58439999999996, 2368: 200.57219999999998, 2432: 201.2618, 2496: 200.9125, 2560: 200.55780000000001, 2624: 203.90529999999995, 2688: 200.66140000000004, 2752: 203.4133, 2816: 203.4614, 2880: 204.29409999999996, 2944: 201.55410000000003, 3008: 200.59420000000003}\n",
    "f3_pf = {128: 2409.1354, 192: 1605.9911, 256: 1202.6657, 320: 939.6917, 384: 790.8393000000001, 448: 696.9177000000001, 512: 591.0748, 576: 518.7573, 640: 482.61339999999996, 704: 420.4162, 768: 383.089, 832: 358.2605, 896: 336.92420000000004, 960: 328.37669999999997, 1024: 292.5811, 1088: 267.7776, 1152: 261.7981, 1216: 248.14419999999996, 1280: 232.6674, 1344: 221.45959999999997, 1408: 211.8561, 1472: 202.5364, 1536: 195.3067, 1600: 191.68619999999996, 1664: 180.68119999999996, 1728: 179.79210000000003, 1792: 170.52989999999997, 1856: 170.1544, 1920: 170.1789, 1984: 168.60920000000002, 2048: 167.9793, 2112: 172.21650000000002, 2176: 165.96130000000002, 2240: 173.9336, 2304: 175.0984, 2368: 165.9825, 2432: 170.70719999999994, 2496: 169.6841, 2560: 169.5686, 2624: 170.42140000000003, 2688: 172.299, 2752: 170.31539999999998, 2816: 170.0025, 2880: 171.7793, 2944: 168.07539999999997, 3008: 169.77300000000002}\n",
    "f4_pf = {128: 6180.600600000001, 192: 4237.538600000001, 256: 3289.4039000000002, 320: 2739.3443000000007, 384: 2489.5899999999997, 448: 2122.9276, 512: 1933.9807, 576: 1765.8597, 640: 1561.9238, 704: 1522.5382999999995, 768: 1362.6908, 832: 1285.8076, 896: 1247.5121, 960: 1241.3156000000001, 1024: 1172.5088000000003, 1088: 1149.2724, 1152: 1046.2866, 1216: 1025.6652000000001, 1280: 973.8288999999997, 1344: 1013.2251000000001, 1408: 960.9827, 1472: 968.9765999999998, 1536: 956.8087999999999, 1600: 897.5600999999998, 1664: 887.0984999999997, 1728: 862.6254999999999, 1792: 852.2578, 1856: 858.3172999999999, 1920: 859.1973000000002, 1984: 877.1611, 2048: 831.638, 2112: 874.2311, 2176: 823.7024, 2240: 791.3352, 2304: 792.9698999999999, 2368: 784.8208999999999, 2432: 806.5761999999999, 2496: 784.4135000000001, 2560: 779.6768, 2624: 805.4515000000001, 2688: 773.9589, 2752: 774.5977, 2816: 922.8518811881189, 2880: 781.5426, 2944: 779.7493000000001, 3008: 795.1290000000001}\n",
    "f5_pf = {128: 1505.1143, 192: 1015.8741, 256: 754.0495999999999, 320: 600.4303, 384: 495.4806000000001, 448: 427.27439999999996, 512: 370.50690000000003, 576: 331.88309999999996, 640: 295.02630000000005, 704: 259.8384, 768: 241.16710000000003, 832: 222.33810000000003, 896: 205.59129999999996, 960: 194.7629, 1024: 181.9845, 1088: 170.3668, 1152: 163.28100000000003, 1216: 153.24939999999998, 1280: 147.034, 1344: 140.9829, 1408: 134.4757, 1472: 128.98669999999998, 1536: 124.48219999999998, 1600: 117.32459999999999, 1664: 115.7402, 1728: 114.93970000000002, 1792: 108.37849999999999, 1856: 108.16319999999997, 1920: 109.36800000000001, 1984: 108.4496, 2048: 108.77069999999999, 2112: 108.6171, 2176: 105.60330000000002, 2240: 108.2027, 2304: 106.6473, 2368: 106.5465, 2432: 109.14479999999998, 2496: 108.62479999999996, 2560: 107.43009999999998, 2624: 107.8927, 2688: 107.98369999999998, 2752: 108.69229999999999, 2816: 105.01710000000001, 2880: 107.6745, 2944: 108.55629999999995, 3008: 108.42310000000002}\n",
    "f6_pf = {128: 6853.313699999999, 192: 4572.3956, 256: 3423.9434, 320: 2735.9797, 384: 2250.8023, 448: 1905.4582, 512: 1678.1624, 576: 1491.6738, 640: 1336.0081, 704: 1219.7976, 768: 1119.3484, 832: 1030.5255, 896: 949.5354000000001, 960: 883.6967999999999, 1024: 833.8498, 1088: 782.1752, 1152: 738.7052, 1216: 702.24, 1280: 666.9503, 1344: 634.9852000000001, 1408: 605.5608000000001, 1472: 578.5933, 1536: 553.5780000000001, 1600: 531.9501, 1664: 528.2779, 1728: 509.11250000000007, 1792: 478.73449999999997, 1856: 482.9731999999999, 1920: 482.23870000000005, 1984: 480.01300000000003, 2048: 467.88990000000007, 2112: 474.2638999999999, 2176: 474.24989999999997, 2240: 464.3179, 2304: 472.7857, 2368: 480.3647, 2432: 470.5216, 2496: 471.72280000000006, 2560: 475.35470000000004, 2624: 471.7776, 2688: 473.9024, 2752: 473.36300000000006, 2816: 479.9838, 2880: 478.5181, 2944: 479.01469999999995, 3008: 475.2245}"
   ]
  },
  {
   "cell_type": "code",
   "execution_count": 93,
   "metadata": {},
   "outputs": [],
   "source": [
    "App6_G.nodes[1]['perf_profile'] = f1_pf\n",
    "App6_G.nodes[2]['perf_profile'] = f2_pf\n",
    "App6_G.nodes[3]['perf_profile'] = f3_pf\n",
    "App6_G.nodes[4]['perf_profile'] = f4_pf\n",
    "App6_G.nodes[5]['perf_profile'] = f5_pf\n",
    "App6_G.nodes[6]['perf_profile'] = f6_pf"
   ]
  },
  {
   "cell_type": "markdown",
   "metadata": {
    "toc-hr-collapsed": true
   },
   "source": [
    "#### Method 2: Define by querying logs from the FaaS platform (AWS in this work)"
   ]
  },
  {
   "cell_type": "code",
   "execution_count": 57,
   "metadata": {},
   "outputs": [],
   "source": [
    "import boto3\n",
    "from datetime import datetime, timezone\n",
    "import time\n",
    "import pandas as pd\n",
    "import numpy as np\n",
    "logclient = boto3.client('logs')"
   ]
  },
  {
   "cell_type": "markdown",
   "metadata": {},
   "source": [
    "##### Functions for parsing Logs"
   ]
  },
  {
   "cell_type": "code",
   "execution_count": 44,
   "metadata": {},
   "outputs": [],
   "source": [
    "def lambda_report_log_to_dict(log):\n",
    "    res={}\n",
    "    lis=[item.split(': ') for item in log.split('\\t')]\n",
    "    res['RequestId']=lis[0][1]\n",
    "    res['Duration']=float(lis[1][1].split(' ')[0])\n",
    "    res['Billed Duration']=int(lis[2][1].split(' ')[0])\n",
    "    res['Memory Size']=int(lis[3][1].split(' ')[0])\n",
    "    res['Max Memory Used']=int(lis[4][1].split(' ')[0])\n",
    "    return res"
   ]
  },
  {
   "cell_type": "code",
   "execution_count": 45,
   "metadata": {},
   "outputs": [],
   "source": [
    "startTime=int(datetime.timestamp(datetime(year=2021,month=4,day=11,hour=22,minute=44,second=0,tzinfo=timezone.utc))) # Log filter start time\n",
    "endTime=int(datetime.timestamp(datetime(year=2021,month=4,day=12,hour=14,minute=30,second=0,tzinfo=timezone.utc))) # Log filter end time"
   ]
  },
  {
   "cell_type": "markdown",
   "metadata": {},
   "source": [
    "##### Query Logs"
   ]
  },
  {
   "cell_type": "code",
   "execution_count": 46,
   "metadata": {},
   "outputs": [],
   "source": [
    "query_f1 = logclient.start_query(\n",
    "    logGroupName='/aws/lambda/{}'.format('ServerlessAppPerfOpt_f1'), # Function name\n",
    "    queryString=\"fields @timestamp, @message| filter @message like 'REPORT'| sort @timestamp desc\",\n",
    "    startTime=startTime,\n",
    "    endTime=endTime,\n",
    "    limit=10000\n",
    ")\n",
    "time.sleep(1)\n",
    "query_f2 = logclient.start_query(\n",
    "    logGroupName='/aws/lambda/{}'.format('ServerlessAppPerfOpt_f2'), # Function name\n",
    "    queryString=\"fields @timestamp, @message| filter @message like 'REPORT'| sort @timestamp desc\",\n",
    "    startTime=startTime,\n",
    "    endTime=endTime,\n",
    "    limit=10000\n",
    ")\n",
    "time.sleep(1)\n",
    "query_f3 = logclient.start_query(\n",
    "    logGroupName='/aws/lambda/{}'.format('ServerlessAppPerfOpt_f3'), # Function name\n",
    "    queryString=\"fields @timestamp, @message| filter @message like 'REPORT'| sort @timestamp desc\",\n",
    "    startTime=startTime,\n",
    "    endTime=endTime,\n",
    "    limit=10000\n",
    ")\n",
    "time.sleep(1)\n",
    "query_f4 = logclient.start_query(\n",
    "    logGroupName='/aws/lambda/{}'.format('ServerlessAppPerfOpt_f4'), # Function name\n",
    "    queryString=\"fields @timestamp, @message| filter @message like 'REPORT'| sort @timestamp desc\",\n",
    "    startTime=startTime,\n",
    "    endTime=endTime,\n",
    "    limit=10000\n",
    ")\n",
    "time.sleep(1)\n",
    "query_f5 = logclient.start_query(\n",
    "    logGroupName='/aws/lambda/{}'.format('ServerlessAppPerfOpt_f5'), # Function name\n",
    "    queryString=\"fields @timestamp, @message| filter @message like 'REPORT'| sort @timestamp desc\",\n",
    "    startTime=int(datetime.timestamp(datetime(year=2021,month=4,day=13,hour=21,minute=27,second=0,tzinfo=timezone.utc))),\n",
    "    endTime=int(datetime.timestamp(datetime(year=2021,month=4,day=14,hour=11,minute=50,second=0,tzinfo=timezone.utc))),\n",
    "    limit=10000\n",
    ")\n",
    "time.sleep(1)\n",
    "query_f6 = logclient.start_query(\n",
    "    logGroupName='/aws/lambda/{}'.format('ServerlessAppPerfOpt_f6'), # Function name\n",
    "    queryString=\"fields @timestamp, @message| filter @message like 'REPORT'| sort @timestamp desc\",\n",
    "    startTime=int(datetime.timestamp(datetime(year=2020,month=1,day=16,hour=21,minute=27,second=0,tzinfo=timezone.utc))),\n",
    "    endTime=int(datetime.timestamp(datetime(year=2020,month=1,day=17,hour=11,minute=50,second=0,tzinfo=timezone.utc))),\n",
    "    limit=10000\n",
    ")"
   ]
  },
  {
   "cell_type": "code",
   "execution_count": 81,
   "metadata": {},
   "outputs": [],
   "source": [
    "query_results_f1 = logclient.get_query_results(\n",
    "    queryId=query_f1['queryId']\n",
    ")\n",
    "time.sleep(1)\n",
    "query_results_f2 = logclient.get_query_results(\n",
    "    queryId=query_f2['queryId']\n",
    ")\n",
    "time.sleep(1)\n",
    "query_results_f3 = logclient.get_query_results(\n",
    "    queryId=query_f3['queryId']\n",
    ")\n",
    "time.sleep(1)\n",
    "query_results_f4 = logclient.get_query_results(\n",
    "    queryId=query_f4['queryId']\n",
    ")\n",
    "time.sleep(1)\n",
    "query_results_f5 = logclient.get_query_results(\n",
    "    queryId=query_f5['queryId']\n",
    ")\n",
    "time.sleep(1)\n",
    "query_results_f6 = logclient.get_query_results(\n",
    "    queryId=query_f6['queryId']\n",
    ")"
   ]
  },
  {
   "cell_type": "code",
   "execution_count": 85,
   "metadata": {},
   "outputs": [],
   "source": [
    "for item in f1_log_list:\n",
    "    item['Function']='f1'\n",
    "for item in f2_log_list:\n",
    "    item['Function']='f2'\n",
    "for item in f3_log_list:\n",
    "    item['Function']='f3'\n",
    "for item in f4_log_list:\n",
    "    item['Function']='f4'\n",
    "for item in f5_log_list:\n",
    "    item['Function']='f5'\n",
    "for item in f6_log_list:\n",
    "    item['Function']='f6'\n",
    "App_Lambda_Logs=pd.DataFrame(f1_log_list).append(pd.DataFrame(f2_log_list)).append(pd.DataFrame(f3_log_list)).append(pd.DataFrame(f4_log_list)).append(pd.DataFrame(f5_log_list)).append(pd.DataFrame(f6_log_list))\n",
    "App_Lambda_Logs.index=range(App_Lambda_Logs.shape[0])\n",
    "App_Lambda_Logs=App_Lambda_Logs[['Function', 'Memory Size', 'Max Memory Used', 'Duration', 'Billed Duration', 'RequestId']]\n",
    "App_Lambda_Logs.to_csv('App_Lambda_Logs.csv',index=False)\n",
    "App_Lambda_Logs = pd.read_csv('App_Lambda_Logs.csv', error_bad_lines=False, warn_bad_lines=False,low_memory=False)\n",
    "App_Lambda_Logs.columns = ['Function', 'Memory_Size', 'Max_Memory_Used', 'Duration', 'Billed_Duration', 'RequestId']"
   ]
  },
  {
   "cell_type": "code",
   "execution_count": 86,
   "metadata": {},
   "outputs": [],
   "source": [
    "f1_log_list=[lambda_report_log_to_dict(item [1]['value']) for item in query_results_f1['results']]\n",
    "f2_log_list=[lambda_report_log_to_dict(item [1]['value']) for item in query_results_f2['results']]\n",
    "f3_log_list=[lambda_report_log_to_dict(item [1]['value']) for item in query_results_f3['results']]\n",
    "f4_log_list=[lambda_report_log_to_dict(item [1]['value']) for item in query_results_f4['results']]\n",
    "f5_log_list=[lambda_report_log_to_dict(item [1]['value']) for item in query_results_f5['results']]\n",
    "f6_log_list=[lambda_report_log_to_dict(item [1]['value']) for item in query_results_f6['results']]\n",
    "# MOpt for all functions\n",
    "available_mem_list=[128, 192, 256, 320, 384, 448, 512, 576, 640, 704, 768, 832, 896, 960, 1024, 1088, 1152, 1216, 1280, 1344, 1408, 1472, 1536, 1600, 1664, 1728, 1792, 1856, 1920, 1984, 2048, 2112, 2176, 2240, 2304, 2368, 2432, 2496, 2560, 2624, 2688, 2752, 2816, 2880, 2944, 3008]\n",
    "f1_pf = [App_Lambda_Logs.query(\"Function == {} and Memory_Size == {}\".format(\"'f1'\",mem))['Duration'].mean() for mem in available_mem_list]\n",
    "f2_pf = [App_Lambda_Logs.query(\"Function == {} and Memory_Size == {}\".format(\"'f2'\",mem))['Duration'].mean() for mem in available_mem_list]\n",
    "f3_pf = [App_Lambda_Logs.query(\"Function == {} and Memory_Size == {}\".format(\"'f3'\",mem))['Duration'].mean() for mem in available_mem_list]\n",
    "f4_pf = [App_Lambda_Logs.query(\"Function == {} and Memory_Size == {}\".format(\"'f4'\",mem))['Duration'].mean() for mem in available_mem_list]\n",
    "f5_pf = [App_Lambda_Logs.query(\"Function == {} and Memory_Size == {}\".format(\"'f5'\",mem))['Duration'].mean() for mem in available_mem_list]\n",
    "f6_pf = [App_Lambda_Logs.query(\"Function == {} and Memory_Size == {}\".format(\"'f6'\",mem))['Duration'].mean() for mem in available_mem_list]"
   ]
  },
  {
   "cell_type": "code",
   "execution_count": 94,
   "metadata": {},
   "outputs": [],
   "source": [
    "App6_G.nodes[1]['perf_profile'] = f1_pf\n",
    "App6_G.nodes[2]['perf_profile'] = f2_pf\n",
    "App6_G.nodes[3]['perf_profile'] = f3_pf\n",
    "App6_G.nodes[4]['perf_profile'] = f4_pf\n",
    "App6_G.nodes[5]['perf_profile'] = f5_pf\n",
    "App6_G.nodes[6]['perf_profile'] = f6_pf"
   ]
  },
  {
   "cell_type": "markdown",
   "metadata": {},
   "source": [
    "### Performance profile curve"
   ]
  },
  {
   "cell_type": "code",
   "execution_count": 89,
   "metadata": {},
   "outputs": [
    {
     "data": {
      "text/plain": [
       "Text(0, 0.5, 'Duration in ms')"
      ]
     },
     "execution_count": 89,
     "metadata": {},
     "output_type": "execute_result"
    },
    {
     "data": {
      "image/png": "[encoded data removed]",
      "text/plain": [
       "<Figure size 576x576 with 1 Axes>"
      ]
     },
     "metadata": {
      "needs_background": "light"
     },
     "output_type": "display_data"
    }
   ],
   "source": [
    "fig=plt.figure(figsize=(8,8))\n",
    "ax=plt.subplot(111)\n",
    "ax.grid()\n",
    "ax.set_xlim(128,3008)\n",
    "ax.plot(available_mem_list, f1_duration, marker='o', label='f1') \n",
    "ax.plot(available_mem_list, f2_duration, marker='o', label='f2') \n",
    "ax.plot(available_mem_list, f3_duration, marker='o', label='f3') \n",
    "ax.plot(available_mem_list, f4_duration, marker='o', label='f4') \n",
    "ax.plot(available_mem_list, f5_duration, marker='o', label='f5') \n",
    "ax.plot(available_mem_list, f6_duration, marker='o', label='f6') \n",
    "ax.legend()\n",
    "ax.set_xlabel('Memory in MB')\n",
    "ax.set_ylabel('Duration in ms')"
   ]
  },
  {
   "cell_type": "markdown",
   "metadata": {},
   "source": [
    "## Use the PRCP algorithm to solve the Best Performance under the Budget Constraint (BPBC) problem"
   ]
  },
  {
   "cell_type": "code",
   "execution_count": 101,
   "metadata": {},
   "outputs": [
    {
     "name": "stdout",
     "output_type": "stream",
     "text": [
      "Without BCR\n",
      "Optimized Memory Configuration: {1: 1088, 2: 1216, 3: 1024, 4: 2688, 5: 960, 6: 2240}\n",
      "Average end-to-end response time: 2876.492557142856\n",
      "Average Cost: 97.68528571428573\n",
      "PRCP_BPBC Optimization Completed.\n",
      "----------------\n",
      "BCR RT/M greedy strategy, BCR threshold is 0.2\n",
      "Optimized Memory Configuration: {1: 1472, 2: 1216, 3: 1024, 4: 2688, 5: 960, 6: 2048}\n",
      "Average end-to-end response time: 2834.5468428571426\n",
      "Average Cost: 99.09628571428571\n",
      "PRCP_BPBC Optimization Completed.\n",
      "----------------\n",
      "BCR ERT/C greedy strategy, BCR threshold is 0.2\n",
      "Optimized Memory Configuration: {1: 1088, 2: 768, 3: 1600, 4: 2688, 5: 1024, 6: 2240}\n",
      "Average end-to-end response time: 3070.586499999999\n",
      "Average Cost: 98.2782\n",
      "PRCP_BPBC Optimization Completed.\n",
      "----------------\n",
      "BCR MAX greedy strategy, BCR threshold is 0.2\n",
      "Optimized Memory Configuration: {1: 1472, 2: 768, 3: 1600, 4: 2688, 5: 1024, 6: 2048}\n",
      "Average end-to-end response time: 3028.6407857142854\n",
      "Average Cost: 99.6892\n",
      "PRCP_BPBC Optimization Completed.\n",
      "----------------\n"
     ]
    }
   ],
   "source": [
    "App = ServerlessAppWorkflow(G=App6_G.copy(), delayType='SFN')\n",
    "optimizer = PerfOpt(App, generate_perf_profile=False)\n",
    "# Budget constraint is 100 US dollars\n",
    "print('Without BCR')\n",
    "res1 = optimizer.PRCPG_BPBC(100, BCR=False) # Without BCR\n",
    "print('----------------')\n",
    "print('BCR RT/M greedy strategy, BCR threshold is 0.2')\n",
    "res2 = optimizer.PRCPG_BPBC(100, BCR=True, BCRtype='RT/M', BCRthreshold=0.2) # BCR RT/M greedy strategy, BCR threshold is 0.2\n",
    "print('----------------')\n",
    "print('BCR ERT/C greedy strategy, BCR threshold is 0.2')\n",
    "res3 = optimizer.PRCPG_BPBC(100, BCR=True, BCRtype='ERT/C', BCRthreshold=0.2) # BCR ERT/C greedy strategy, BCR threshold is 0.2\n",
    "print('----------------')\n",
    "print('BCR MAX greedy strategy, BCR threshold is 0.2')\n",
    "res4 = optimizer.PRCPG_BPBC(100, BCR=True, BCRtype='MAX') # BCR MAX greedy strategy, BCR threshold is 0.2\n",
    "print('----------------')"
   ]
  },
  {
   "cell_type": "markdown",
   "metadata": {},
   "source": [
    "## Use the PRCP algorithm to solve the Best Cost under the Performance Constraint (BCPC) problem"
   ]
  },
  {
   "cell_type": "code",
   "execution_count": 102,
   "metadata": {},
   "outputs": [
    {
     "name": "stdout",
     "output_type": "stream",
     "text": [
      "Without BCR\n",
      "Optimized Memory Configuration: {1: 832, 2: 896, 3: 768, 4: 320, 5: 384, 6: 960}\n",
      "Average end-to-end response time: 6319.304634285715\n",
      "Average Cost: 60.41328571428571\n",
      "PRCPG_BCPC Optimization Completed.\n",
      "----------------\n",
      "BCR M/RT greedy strategy, BCR threshold is 0.2\n",
      "Optimized Memory Configuration: {1: 832, 2: 896, 3: 768, 4: 320, 5: 960, 6: 960}\n",
      "Average end-to-end response time: 6297.260771428572\n",
      "Average Cost: 60.41351428571428\n",
      "PRCPG_BCPC Optimization Completed.\n",
      "----------------\n",
      "BCR C/ERT greedy strategy, BCR threshold is 0.2\n",
      "Optimized Memory Configuration: {1: 832, 2: 896, 3: 768, 4: 320, 5: 960, 6: 960}\n",
      "Average end-to-end response time: 6297.260771428572\n",
      "Average Cost: 60.41351428571428\n",
      "PRCPG_BCPC Optimization Completed.\n",
      "----------------\n",
      "BCR MAX greedy strategy, BCR threshold is 0.2\n",
      "Optimized Memory Configuration: {1: 832, 2: 896, 3: 768, 4: 320, 5: 384, 6: 960}\n",
      "Average end-to-end response time: 6319.304634285715\n",
      "Average Cost: 60.41328571428571\n",
      "PRCPG_BCPC Optimization Completed.\n",
      "----------------\n"
     ]
    }
   ],
   "source": [
    "App = ServerlessAppWorkflow(G=App6_G.copy(), delayType='SFN')\n",
    "optimizer = PerfOpt(App, generate_perf_profile=False)\n",
    "# Performance constraint is 6400 ms\n",
    "print('Without BCR')\n",
    "res5 = optimizer.PRCPG_BCPC(6400, BCR=False) # Without BCR\n",
    "print('----------------')\n",
    "print('BCR M/RT greedy strategy, BCR threshold is 0.2')\n",
    "res6 = optimizer.PRCPG_BCPC(6400, BCR=True, BCRtype='M/RT', BCRthreshold=0.2) # BCR M/RT greedy strategy, BCR threshold is 0.2\n",
    "print('----------------')\n",
    "print('BCR C/ERT greedy strategy, BCR threshold is 0.2')\n",
    "res7 = optimizer.PRCPG_BCPC(6400, BCR=True, BCRtype='C/ERT', BCRthreshold=0.2) # BCR C/ERT greedy strategy, BCR threshold is 0.2\n",
    "print('----------------')\n",
    "print('BCR MAX greedy strategy, BCR threshold is 0.2')\n",
    "res8 = optimizer.PRCPG_BCPC(6400, BCR=True, BCRtype='MAX') # BCR MAX greedy strategy, BCR threshold is 0.2\n",
    "print('----------------')"
   ]
  },
  {
   "cell_type": "code",
   "execution_count": null,
   "metadata": {},
   "outputs": [],
   "source": []
  }
 ],
 "metadata": {
  "kernelspec": {
   "display_name": "Python 3.7.6",
   "language": "python",
   "name": "python3.7"
  },
  "language_info": {
   "codemirror_mode": {
    "name": "ipython",
    "version": 3
   },
   "file_extension": ".py",
   "mimetype": "text/x-python",
   "name": "python",
   "nbconvert_exporter": "python",
   "pygments_lexer": "ipython3",
   "version": "3.7.6"
  }
 },
 "nbformat": 4,
 "nbformat_minor": 4
}
