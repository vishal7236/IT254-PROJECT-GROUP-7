{
 "cells": [
  {
   "cell_type": "markdown",
   "metadata": {},
   "source": [
    "# App3"
   ]
  },
  {
   "cell_type": "markdown",
   "metadata": {},
   "source": [
    "*  An App with 3 functions with different types of workload to validate the performance of the optimization algorithm\n",
    "*  There is 1 cycle in App3"
   ]
  },
  {
   "cell_type": "code",
   "execution_count": 1,
   "metadata": {},
   "outputs": [],
   "source": [
    "import os\n",
    "from io import BytesIO\n",
    "import time\n",
    "import zipfile\n",
    "import numpy as np\n",
    "import boto3\n",
    "from tqdm import tqdm\n",
    "from datetime import datetime, timezone\n",
    "from time import gmtime, strftime\n",
    "import json\n",
    "import pandas as pd\n",
    "import matplotlib.pyplot as plt"
   ]
  },
  {
   "cell_type": "code",
   "execution_count": 2,
   "metadata": {},
   "outputs": [],
   "source": [
    "lambda_client = boto3.client('lambda')"
   ]
  },
  {
   "cell_type": "code",
   "execution_count": 3,
   "metadata": {},
   "outputs": [],
   "source": [
    "function_prefix='ServerlessAppPerfOpt'"
   ]
  },
  {
   "cell_type": "code",
   "execution_count": 4,
   "metadata": {},
   "outputs": [],
   "source": [
    "App_name = 'App3'"
   ]
  },
  {
   "cell_type": "markdown",
   "metadata": {},
   "source": [
    "## Update all Functions in App3"
   ]
  },
  {
   "cell_type": "markdown",
   "metadata": {},
   "source": [
    "### Types of workload"
   ]
  },
  {
   "cell_type": "markdown",
   "metadata": {},
   "source": [
    "* Function 1: Disk IO Intensive\n",
    "    * Write a 1MB file to the disk for 50 times\n",
    "* Function 2: CPU Intensive\n",
    "    * Factorial 28000\n",
    "* Function 4: Network IO Intensive\n",
    "    * Download and upload a 25MB file from and to the S3 bucket in the same region"
   ]
  },
  {
   "cell_type": "markdown",
   "metadata": {},
   "source": [
    "### Update Function Code"
   ]
  },
  {
   "cell_type": "code",
   "execution_count": 5,
   "metadata": {},
   "outputs": [],
   "source": [
    "functions=[]\n",
    "for file in os.listdir('functions'):\n",
    "    path=os.path.abspath(os.path.join(os.path.dirname('__file__'), 'functions/'+file))\n",
    "    if not file.startswith('.') and os.path.isdir(path):\n",
    "        functions.append(file)\n",
    "for function_folder in functions:\n",
    "    buf = BytesIO()\n",
    "    with zipfile.ZipFile(buf, 'w') as z:\n",
    "        for file in os.listdir('functions/'+function_folder):\n",
    "            z.write(os.path.abspath(os.path.join(os.path.dirname('__file__'), 'functions/{}/{}'.format(function_folder,file))), os.path.basename(os.path.join(os.path.dirname('__file__'), 'functions/{}/{}'.format(function_folder,file))))\n",
    "    buf.seek(0)\n",
    "    pkg = buf.read()\n",
    "    lambda_client.update_function_code(FunctionName='{}_{}'.format(function_prefix, function_folder),ZipFile=pkg)"
   ]
  },
  {
   "cell_type": "markdown",
   "metadata": {},
   "source": [
    "### Update Function Memory and Timeout Configuration\n",
    "* Available Memory Configurations: 128, 192, 256, 320, 384, 448, 512, 576, 640, 704, 768, 832, 896, 960, 1024, 1088, 1152, 1216, 1280, 1344, 1408, 1472, 1536, 1600, 1664, 1728, 1792, 1856, 1920, 1984, 2048, 2112, 2176, 2240, 2304, 2368, 2432, 2496, 2560, 2624, 2688, 2752, 2816, 2880, 2944, 3008\n"
   ]
  },
  {
   "cell_type": "code",
   "execution_count": 5,
   "metadata": {},
   "outputs": [],
   "source": [
    "mem_config_list={\n",
    "    'f1':128,\n",
    "    'f2':128,\n",
    "    'f4':128\n",
    "}\n",
    "timeout_config_list={\n",
    "    'f1':60,\n",
    "    'f2':60,\n",
    "    'f4':60\n",
    "}"
   ]
  },
  {
   "cell_type": "code",
   "execution_count": null,
   "metadata": {},
   "outputs": [],
   "source": [
    "for function in mem_config_list.keys():\n",
    "    lambda_client.update_function_configuration(FunctionName='{}_{}'.format(function_prefix, function), MemorySize=mem_config_list[function], Timeout=timeout_config_list[function])"
   ]
  },
  {
   "cell_type": "markdown",
   "metadata": {
    "toc-hr-collapsed": true
   },
   "source": [
    "### Test Run"
   ]
  },
  {
   "cell_type": "markdown",
   "metadata": {},
   "source": [
    "#### Function 1"
   ]
  },
  {
   "cell_type": "code",
   "execution_count": null,
   "metadata": {},
   "outputs": [],
   "source": [
    "lambda_client.invoke(FunctionName='{}_{}'.format(function_prefix, 'f1'), InvocationType='Event')"
   ]
  },
  {
   "cell_type": "markdown",
   "metadata": {},
   "source": [
    "#### Function 2"
   ]
  },
  {
   "cell_type": "code",
   "execution_count": null,
   "metadata": {},
   "outputs": [],
   "source": [
    "lambda_client.invoke(FunctionName='{}_{}'.format(function_prefix, 'f2'), InvocationType='Event')"
   ]
  },
  {
   "cell_type": "markdown",
   "metadata": {},
   "source": [
    "#### Function 4"
   ]
  },
  {
   "cell_type": "code",
   "execution_count": null,
   "metadata": {},
   "outputs": [],
   "source": [
    "lambda_client.invoke(FunctionName='{}_{}'.format(function_prefix, 'f4'), InvocationType='Event')"
   ]
  },
  {
   "cell_type": "markdown",
   "metadata": {},
   "source": [
    "## Execute Functions to Get the Performance Curve"
   ]
  },
  {
   "cell_type": "markdown",
   "metadata": {},
   "source": [
    "* Run each function under each memory configuration for 100 times"
   ]
  },
  {
   "cell_type": "code",
   "execution_count": 6,
   "metadata": {},
   "outputs": [],
   "source": [
    "available_mem_list=[128, 192, 256, 320, 384, 448, 512, 576, 640, 704, 768, 832, 896, 960, 1024, 1088, 1152, 1216, 1280, 1344, 1408, 1472, 1536, 1600, 1664, 1728, 1792, 1856, 1920, 1984, 2048, 2112, 2176, 2240, 2304, 2368, 2432, 2496, 2560, 2624, 2688, 2752, 2816, 2880, 2944, 3008]"
   ]
  },
  {
   "cell_type": "code",
   "execution_count": null,
   "metadata": {},
   "outputs": [],
   "source": [
    "for mem in available_mem_list:\n",
    "    print('Memory: {} Timestamp: {} UTC: {}'.format(mem,time.time(),strftime(\"%d %b %Y %H:%M:%S +0000\", gmtime())))\n",
    "    mem_config={'f1':mem, 'f2':mem, 'f4':mem}\n",
    "    for function in mem_config.keys():\n",
    "        lambda_client.update_function_configuration(FunctionName='{}_{}'.format(function_prefix, function), MemorySize=mem_config[function])\n",
    "    time.sleep(1)\n",
    "    for i in tqdm(range(100)):\n",
    "        time.sleep(10)\n",
    "        lambda_client.invoke(FunctionName='{}_{}'.format(function_prefix, 'f1'), InvocationType='Event')\n",
    "        lambda_client.invoke(FunctionName='{}_{}'.format(function_prefix, 'f2'), InvocationType='Event')\n",
    "        lambda_client.invoke(FunctionName='{}_{}'.format(function_prefix, 'f3'), InvocationType='Event')\n",
    "        lambda_client.invoke(FunctionName='{}_{}'.format(function_prefix, 'f4'), InvocationType='Event')"
   ]
  },
  {
   "cell_type": "markdown",
   "metadata": {
    "toc-hr-collapsed": false
   },
   "source": [
    "## CloudWatch Logs"
   ]
  },
  {
   "cell_type": "code",
   "execution_count": 6,
   "metadata": {},
   "outputs": [],
   "source": [
    "logclient = boto3.client('logs')"
   ]
  },
  {
   "cell_type": "markdown",
   "metadata": {},
   "source": [
    "### Functions for parsing Logs"
   ]
  },
  {
   "cell_type": "code",
   "execution_count": 8,
   "metadata": {},
   "outputs": [],
   "source": [
    "def lambda_report_log_to_dict(log):\n",
    "    res={}\n",
    "    lis=[item.split(': ') for item in log.split('\\t')]\n",
    "    res['RequestId']=lis[0][1]\n",
    "    res['Duration']=float(lis[1][1].split(' ')[0])\n",
    "    res['Billed Duration']=int(lis[2][1].split(' ')[0])\n",
    "    res['Memory Size']=int(lis[3][1].split(' ')[0])\n",
    "    res['Max Memory Used']=int(lis[4][1].split(' ')[0])\n",
    "    return res"
   ]
  },
  {
   "cell_type": "code",
   "execution_count": 7,
   "metadata": {},
   "outputs": [],
   "source": [
    "startTime=int(datetime.timestamp(datetime(year=2021,month=4,day=11,hour=22,minute=44,second=0,tzinfo=timezone.utc)))\n",
    "endTime=int(datetime.timestamp(datetime(year=2021,month=4,day=12,hour=14,minute=30,second=0,tzinfo=timezone.utc)))"
   ]
  },
  {
   "cell_type": "markdown",
   "metadata": {},
   "source": [
    "### Query Logs"
   ]
  },
  {
   "cell_type": "markdown",
   "metadata": {},
   "source": [
    "#### Function 1"
   ]
  },
  {
   "cell_type": "code",
   "execution_count": 10,
   "metadata": {},
   "outputs": [],
   "source": [
    "query_f1 = logclient.start_query(\n",
    "    logGroupName='/aws/lambda/{}_{}'.format(function_prefix, 'f1'),\n",
    "    queryString=\"fields @timestamp, @message| filter @message like 'REPORT'| sort @timestamp desc\",\n",
    "    startTime=startTime,\n",
    "    endTime=endTime,\n",
    "    limit=10000\n",
    ")"
   ]
  },
  {
   "cell_type": "code",
   "execution_count": 12,
   "metadata": {},
   "outputs": [],
   "source": [
    "query_results_f1 = logclient.get_query_results(\n",
    "    queryId=query_f1['queryId']\n",
    ")"
   ]
  },
  {
   "cell_type": "code",
   "execution_count": 15,
   "metadata": {},
   "outputs": [],
   "source": [
    "f1_log_list=[lambda_report_log_to_dict(item [1]['value']) for item in query_results_f1['results']]"
   ]
  },
  {
   "cell_type": "code",
   "execution_count": 16,
   "metadata": {},
   "outputs": [
    {
     "data": {
      "text/plain": [
       "4600"
      ]
     },
     "execution_count": 16,
     "metadata": {},
     "output_type": "execute_result"
    }
   ],
   "source": [
    "len(f1_log_list)"
   ]
  },
  {
   "cell_type": "markdown",
   "metadata": {},
   "source": [
    "#### Function 2"
   ]
  },
  {
   "cell_type": "code",
   "execution_count": 17,
   "metadata": {},
   "outputs": [],
   "source": [
    "query_f2 = logclient.start_query(\n",
    "    logGroupName='/aws/lambda/{}_{}'.format(function_prefix, 'f2'),\n",
    "    queryString=\"fields @timestamp, @message| filter @message like 'REPORT'| sort @timestamp desc\",\n",
    "    startTime=startTime,\n",
    "    endTime=endTime,\n",
    "    limit=10000\n",
    ")"
   ]
  },
  {
   "cell_type": "code",
   "execution_count": 18,
   "metadata": {},
   "outputs": [],
   "source": [
    "query_results_f2 = logclient.get_query_results(\n",
    "    queryId=query_f2['queryId']\n",
    ")"
   ]
  },
  {
   "cell_type": "code",
   "execution_count": 19,
   "metadata": {},
   "outputs": [],
   "source": [
    "f2_log_list=[lambda_report_log_to_dict(item [1]['value']) for item in query_results_f2['results']]"
   ]
  },
  {
   "cell_type": "code",
   "execution_count": 20,
   "metadata": {},
   "outputs": [
    {
     "data": {
      "text/plain": [
       "4600"
      ]
     },
     "execution_count": 20,
     "metadata": {},
     "output_type": "execute_result"
    }
   ],
   "source": [
    "len(f2_log_list)"
   ]
  },
  {
   "cell_type": "markdown",
   "metadata": {},
   "source": [
    "#### Function 4"
   ]
  },
  {
   "cell_type": "code",
   "execution_count": 21,
   "metadata": {},
   "outputs": [],
   "source": [
    "query_f4 = logclient.start_query(\n",
    "    logGroupName='/aws/lambda/{}_{}'.format(function_prefix, 'f4'),\n",
    "    queryString=\"fields @timestamp, @message| filter @message like 'REPORT'| sort @timestamp desc\",\n",
    "    startTime=startTime,\n",
    "    endTime=endTime,\n",
    "    limit=10000\n",
    ")"
   ]
  },
  {
   "cell_type": "code",
   "execution_count": 22,
   "metadata": {},
   "outputs": [],
   "source": [
    "query_results_f4 = logclient.get_query_results(\n",
    "    queryId=query_f4['queryId']\n",
    ")"
   ]
  },
  {
   "cell_type": "code",
   "execution_count": 23,
   "metadata": {},
   "outputs": [],
   "source": [
    "f4_log_list=[lambda_report_log_to_dict(item [1]['value']) for item in query_results_f4['results']]\n",
    "f4_log_list=[item for item in f4_log_list if item['Duration']>=300]"
   ]
  },
  {
   "cell_type": "code",
   "execution_count": 24,
   "metadata": {},
   "outputs": [
    {
     "data": {
      "text/plain": [
       "4600"
      ]
     },
     "execution_count": 24,
     "metadata": {},
     "output_type": "execute_result"
    }
   ],
   "source": [
    "len(f4_log_list)"
   ]
  },
  {
   "cell_type": "markdown",
   "metadata": {},
   "source": [
    "#### Convert Logs into DataFrame and Save as CSV"
   ]
  },
  {
   "cell_type": "code",
   "execution_count": 25,
   "metadata": {},
   "outputs": [],
   "source": [
    "for item in f1_log_list:\n",
    "    item['Function']='f1'\n",
    "for item in f2_log_list:\n",
    "    item['Function']='f2'\n",
    "for item in f4_log_list:\n",
    "    item['Function']='f4'\n",
    "App3_Lambda_Logs=pd.DataFrame(f1_log_list).append(pd.DataFrame(f2_log_list)).append(pd.DataFrame(f4_log_list))\n",
    "App3_Lambda_Logs.index=range(App3_Lambda_Logs.shape[0])\n",
    "App3_Lambda_Logs=App3_Lambda_Logs[['Function', 'Memory Size', 'Max Memory Used', 'Duration', 'Billed Duration', 'RequestId']]\n",
    "App3_Lambda_Logs.to_csv('App3_Lambda_Logs.csv',index=False)"
   ]
  },
  {
   "cell_type": "code",
   "execution_count": 8,
   "metadata": {},
   "outputs": [],
   "source": [
    "App3_Lambda_Logs = pd.read_csv('App3_Lambda_Logs.csv', error_bad_lines=False, warn_bad_lines=False,low_memory=False)\n",
    "App3_Lambda_Logs.columns = ['Function', 'Memory_Size', 'Max_Memory_Used', 'Duration', 'Billed_Duration', 'RequestId']"
   ]
  },
  {
   "cell_type": "code",
   "execution_count": 9,
   "metadata": {},
   "outputs": [
    {
     "data": {
      "text/html": [
       "<div>\n",
       "<style scoped>\n",
       "    .dataframe tbody tr th:only-of-type {\n",
       "        vertical-align: middle;\n",
       "    }\n",
       "\n",
       "    .dataframe tbody tr th {\n",
       "        vertical-align: top;\n",
       "    }\n",
       "\n",
       "    .dataframe thead th {\n",
       "        text-align: right;\n",
       "    }\n",
       "</style>\n",
       "<table border=\"1\" class=\"dataframe\">\n",
       "  <thead>\n",
       "    <tr style=\"text-align: right;\">\n",
       "      <th></th>\n",
       "      <th>Function</th>\n",
       "      <th>Memory_Size</th>\n",
       "      <th>Max_Memory_Used</th>\n",
       "      <th>Duration</th>\n",
       "      <th>Billed_Duration</th>\n",
       "      <th>RequestId</th>\n",
       "    </tr>\n",
       "  </thead>\n",
       "  <tbody>\n",
       "    <tr>\n",
       "      <th>0</th>\n",
       "      <td>f1</td>\n",
       "      <td>3008</td>\n",
       "      <td>62</td>\n",
       "      <td>812.05</td>\n",
       "      <td>900</td>\n",
       "      <td>b6a380ea-ee12-457e-af63-6e3919bb1f2a</td>\n",
       "    </tr>\n",
       "    <tr>\n",
       "      <th>1</th>\n",
       "      <td>f1</td>\n",
       "      <td>3008</td>\n",
       "      <td>62</td>\n",
       "      <td>713.71</td>\n",
       "      <td>800</td>\n",
       "      <td>ff20d6e4-388f-4842-9d1e-c9aae94ca3fd</td>\n",
       "    </tr>\n",
       "    <tr>\n",
       "      <th>2</th>\n",
       "      <td>f1</td>\n",
       "      <td>3008</td>\n",
       "      <td>62</td>\n",
       "      <td>720.99</td>\n",
       "      <td>800</td>\n",
       "      <td>a6110dab-c8e7-491e-8075-6d46bb2ad026</td>\n",
       "    </tr>\n",
       "    <tr>\n",
       "      <th>3</th>\n",
       "      <td>f1</td>\n",
       "      <td>3008</td>\n",
       "      <td>62</td>\n",
       "      <td>711.73</td>\n",
       "      <td>800</td>\n",
       "      <td>56b4cb0a-4d1c-4912-8072-b3e0a634ec3a</td>\n",
       "    </tr>\n",
       "    <tr>\n",
       "      <th>4</th>\n",
       "      <td>f1</td>\n",
       "      <td>3008</td>\n",
       "      <td>62</td>\n",
       "      <td>798.65</td>\n",
       "      <td>800</td>\n",
       "      <td>175ce139-3afe-45a0-8101-db5870227043</td>\n",
       "    </tr>\n",
       "  </tbody>\n",
       "</table>\n",
       "</div>"
      ],
      "text/plain": [
       "  Function  Memory_Size  Max_Memory_Used  Duration  Billed_Duration  \\\n",
       "0       f1         3008               62    812.05              900   \n",
       "1       f1         3008               62    713.71              800   \n",
       "2       f1         3008               62    720.99              800   \n",
       "3       f1         3008               62    711.73              800   \n",
       "4       f1         3008               62    798.65              800   \n",
       "\n",
       "                              RequestId  \n",
       "0  b6a380ea-ee12-457e-af63-6e3919bb1f2a  \n",
       "1  ff20d6e4-388f-4842-9d1e-c9aae94ca3fd  \n",
       "2  a6110dab-c8e7-491e-8075-6d46bb2ad026  \n",
       "3  56b4cb0a-4d1c-4912-8072-b3e0a634ec3a  \n",
       "4  175ce139-3afe-45a0-8101-db5870227043  "
      ]
     },
     "execution_count": 9,
     "metadata": {},
     "output_type": "execute_result"
    }
   ],
   "source": [
    "App3_Lambda_Logs.head()"
   ]
  },
  {
   "cell_type": "markdown",
   "metadata": {},
   "source": [
    "## Performance Curve"
   ]
  },
  {
   "cell_type": "code",
   "execution_count": 10,
   "metadata": {},
   "outputs": [],
   "source": [
    "f1_duration = [App3_Lambda_Logs.query(\"Function == {} and Memory_Size == {}\".format(\"'f1'\",mem))['Duration'].mean() for mem in available_mem_list]\n",
    "f2_duration = [App3_Lambda_Logs.query(\"Function == {} and Memory_Size == {}\".format(\"'f2'\",mem))['Duration'].mean() for mem in available_mem_list]\n",
    "f4_duration = [App3_Lambda_Logs.query(\"Function == {} and Memory_Size == {}\".format(\"'f4'\",mem))['Duration'].mean() for mem in available_mem_list]"
   ]
  },
  {
   "cell_type": "code",
   "execution_count": 11,
   "metadata": {},
   "outputs": [],
   "source": [
    "f1_perf_profile = dict(zip(available_mem_list, f1_duration))\n",
    "f2_perf_profile = dict(zip(available_mem_list, f2_duration))\n",
    "f4_perf_profile = dict(zip(available_mem_list, f4_duration))"
   ]
  },
  {
   "cell_type": "code",
   "execution_count": 12,
   "metadata": {},
   "outputs": [
    {
     "data": {
      "image/png": "[encoded data removed]",
      "text/plain": [
       "<Figure size 576x576 with 1 Axes>"
      ]
     },
     "metadata": {
      "needs_background": "light"
     },
     "output_type": "display_data"
    }
   ],
   "source": [
    "fig=plt.figure(figsize=(8,8))\n",
    "ax=plt.subplot(111)\n",
    "ax.grid()\n",
    "ax.set_xlim(128,3008)\n",
    "ax.plot(available_mem_list, f1_duration, marker='o', label='f1') \n",
    "ax.plot(available_mem_list, f2_duration, marker='o', label='f2') \n",
    "ax.plot(available_mem_list, f4_duration, marker='o', label='f4') \n",
    "ax.legend()\n",
    "ax.set_xlabel('Memory in MB')\n",
    "ax.set_ylabel('Duration in ms')\n",
    "fig.savefig('App3_Performance_Curve', dpi=300)\n",
    "fig.savefig('App3_Performance_Curve.pdf')"
   ]
  },
  {
   "cell_type": "markdown",
   "metadata": {},
   "source": [
    "## Performance Cost Table"
   ]
  },
  {
   "cell_type": "markdown",
   "metadata": {},
   "source": [
    "### Import Libraries"
   ]
  },
  {
   "cell_type": "code",
   "execution_count": 38,
   "metadata": {},
   "outputs": [],
   "source": [
    "import sys\n",
    "sys.path.append('../../../source/ServerlessAppPerfCostMdlOpt')\n",
    "import networkx as nx\n",
    "import itertools\n",
    "import warnings\n",
    "warnings.filterwarnings(\"ignore\")\n",
    "from ServerlessAppWorkflow import ServerlessAppWorkflow\n",
    "from AppGenerator import AppGenerator\n",
    "from PerfOpt import PerfOpt"
   ]
  },
  {
   "cell_type": "markdown",
   "metadata": {},
   "source": [
    "### Sample Performance Curve"
   ]
  },
  {
   "cell_type": "code",
   "execution_count": 14,
   "metadata": {},
   "outputs": [
    {
     "name": "stdout",
     "output_type": "stream",
     "text": [
      "Sampled Memory List: [128, 320, 512, 704, 896, 1088, 1280, 1472, 1664, 1856, 2048, 2240, 2432, 2624, 2816, 3008]\n",
      "Length of the Sampled Memory List: 16\n",
      "Number of Configurations in App3 after Sampling: 4096\n"
     ]
    },
    {
     "data": {
      "text/plain": [
       "Text(0, 0.5, 'Duration in ms')"
      ]
     },
     "execution_count": 14,
     "metadata": {},
     "output_type": "execute_result"
    },
    {
     "data": {
      "image/png": "[encoded data removed]",
      "text/plain": [
       "<Figure size 576x576 with 1 Axes>"
      ]
     },
     "metadata": {
      "needs_background": "light"
     },
     "output_type": "display_data"
    }
   ],
   "source": [
    "sampled_mem_list = list(range(128, 3072, 192))\n",
    "number_of_configurations = np.power(len(sampled_mem_list),3)\n",
    "print('Sampled Memory List:', sampled_mem_list)\n",
    "print('Length of the Sampled Memory List:', len(sampled_mem_list))\n",
    "print('Number of Configurations in App3 after Sampling:', number_of_configurations)\n",
    "\n",
    "fig=plt.figure(figsize=(8,8))\n",
    "ax=plt.subplot(111)\n",
    "ax.grid()\n",
    "ax.set_xlim(128,3008)\n",
    "ax.plot(list(range(128, 3072, 192)), f1_duration[0:46:3], marker='o', label='f1') \n",
    "ax.plot(list(range(128, 3072, 192)), f2_duration[0:46:3], marker='o', label='f2') \n",
    "ax.plot(list(range(128, 3072, 192)), f4_duration[0:46:3], marker='o', label='f4') \n",
    "ax.legend()\n",
    "ax.set_xlabel('Memory in MB')\n",
    "ax.set_ylabel('Duration in ms')"
   ]
  },
  {
   "cell_type": "markdown",
   "metadata": {
    "toc-hr-collapsed": false
   },
   "source": [
    "### Get Performance Cost Table"
   ]
  },
  {
   "cell_type": "markdown",
   "metadata": {},
   "source": [
    "#### Define App Orchestration"
   ]
  },
  {
   "cell_type": "code",
   "execution_count": 41,
   "metadata": {},
   "outputs": [
    {
     "data": {
      "image/png": "[encoded data removed]",
      "text/plain": [
       "<Figure size 432x288 with 1 Axes>"
      ]
     },
     "metadata": {},
     "output_type": "display_data"
    }
   ],
   "source": [
    "App3_G = nx.DiGraph()\n",
    "App3_G.add_node('Start', pos=(0, 1))\n",
    "App3_G.add_node(1, pos=(1, 1), perf_profile={mem:f1_perf_profile[mem] for mem in sampled_mem_list})\n",
    "App3_G.add_node(2, pos=(2, 1), perf_profile={mem:f2_perf_profile[mem] for mem in sampled_mem_list})\n",
    "App3_G.add_node(4, pos=(3, 1), perf_profile={mem:f4_perf_profile[mem] for mem in sampled_mem_list})\n",
    "App3_G.add_node('End', pos=(4, 1))\n",
    "App3_G.add_weighted_edges_from([('Start', 1, 1), (1, 2, 1), (2, 4, 1), (4, 1, 0.1), (4, 'End', 0.9)])\n",
    "pos_App3_G = nx.get_node_attributes(App3_G, 'pos')\n",
    "nx.draw(App3_G, pos_App3_G, with_labels=True)\n",
    "labels_App3_G = nx.get_edge_attributes(App3_G, 'weight')\n",
    "nx.draw_networkx_edge_labels(App3_G, pos_App3_G, edge_labels=labels_App3_G)\n",
    "pos_higher_offset_App3_G = {}\n",
    "for k, v in pos_App3_G.items():\n",
    "    pos_higher_offset_App3_G[k] = (v[0], v[1] + 0.15)\n",
    "plt.show()\n",
    "\n",
    "# Generate workflow PNG\n",
    "# import subprocess\n",
    "# nx.draw(App3_G, with_labels=True)\n",
    "# nx.nx_agraph.write_dot(App3_G,'App3_G.dot')\n",
    "# f = open(\"App3_G.png\", \"w\")\n",
    "# subprocess.run([\"dot\", \"-n\", \"-Tpng\", \"App3_G.dot\"],stdout=f)"
   ]
  },
  {
   "cell_type": "markdown",
   "metadata": {},
   "source": [
    "#### Define the number of workers"
   ]
  },
  {
   "cell_type": "code",
   "execution_count": 16,
   "metadata": {},
   "outputs": [],
   "source": [
    "number_of_workers = 1"
   ]
  },
  {
   "cell_type": "markdown",
   "metadata": {},
   "source": [
    "#### Define the data storage location"
   ]
  },
  {
   "cell_type": "code",
   "execution_count": 17,
   "metadata": {},
   "outputs": [],
   "source": [
    "pct_data_folder = 'perf_cost_data'"
   ]
  },
  {
   "cell_type": "markdown",
   "metadata": {},
   "source": [
    "#### Generate Workload"
   ]
  },
  {
   "cell_type": "code",
   "execution_count": 18,
   "metadata": {},
   "outputs": [],
   "source": [
    "pct_filename_list = [pct_data_folder + '/' + App_name+'_part'+str(n) +'.csv' for n in range(1,number_of_workers+1)]\n",
    "pct_start_iterations_list = [int(number_of_configurations/number_of_workers * (n-1))+1 for n in range(1,number_of_workers+1)]\n",
    "pct_end_iterations_list = [n-1 for n in pct_start_iterations_list[1:]]\n",
    "pct_end_iterations_list.append(number_of_configurations)"
   ]
  },
  {
   "cell_type": "markdown",
   "metadata": {},
   "source": [
    "#### Run Algorithms to get the table"
   ]
  },
  {
   "cell_type": "code",
   "execution_count": 19,
   "metadata": {},
   "outputs": [],
   "source": [
    "def pct_work(App_G, filename, start_iterations, end_iterations):\n",
    "    App = ServerlessAppWorkflow(G=App_G.copy())\n",
    "    optimizer = PerfOpt(App, generate_perf_profile=False)\n",
    "    optimizer.get_perf_cost_table(file=filename, start_iterations=start_iterations, end_iterations=end_iterations)"
   ]
  },
  {
   "cell_type": "code",
   "execution_count": 20,
   "metadata": {},
   "outputs": [
    {
     "name": "stdout",
     "output_type": "stream",
     "text": [
      "Get Performance Cost Table - Task Size: 4096\n"
     ]
    },
    {
     "name": "stderr",
     "output_type": "stream",
     "text": [
      "100%|██████████| 4096/4096 [00:12<00:00, 325.05it/s]\n"
     ]
    }
   ],
   "source": [
    "from multiprocessing import Process\n",
    "for i in range(number_of_workers):\n",
    "    p = Process(target=pct_work, args=(App3_G, pct_filename_list[i], pct_start_iterations_list[i], pct_end_iterations_list[i],))\n",
    "    p.start()"
   ]
  },
  {
   "cell_type": "markdown",
   "metadata": {},
   "source": [
    "### Process Performance Cost Table"
   ]
  },
  {
   "cell_type": "code",
   "execution_count": 21,
   "metadata": {},
   "outputs": [
    {
     "data": {
      "text/html": [
       "<div>\n",
       "<style scoped>\n",
       "    .dataframe tbody tr th:only-of-type {\n",
       "        vertical-align: middle;\n",
       "    }\n",
       "\n",
       "    .dataframe tbody tr th {\n",
       "        vertical-align: top;\n",
       "    }\n",
       "\n",
       "    .dataframe thead th {\n",
       "        text-align: right;\n",
       "    }\n",
       "</style>\n",
       "<table border=\"1\" class=\"dataframe\">\n",
       "  <thead>\n",
       "    <tr style=\"text-align: right;\">\n",
       "      <th></th>\n",
       "      <th>f1</th>\n",
       "      <th>f2</th>\n",
       "      <th>f4</th>\n",
       "      <th>Cost</th>\n",
       "      <th>RT</th>\n",
       "    </tr>\n",
       "  </thead>\n",
       "  <tbody>\n",
       "    <tr>\n",
       "      <th>1</th>\n",
       "      <td>128.0</td>\n",
       "      <td>128.0</td>\n",
       "      <td>128.0</td>\n",
       "      <td>34.640000</td>\n",
       "      <td>16301.681333</td>\n",
       "    </tr>\n",
       "    <tr>\n",
       "      <th>2</th>\n",
       "      <td>128.0</td>\n",
       "      <td>128.0</td>\n",
       "      <td>320.0</td>\n",
       "      <td>36.520000</td>\n",
       "      <td>12478.063222</td>\n",
       "    </tr>\n",
       "    <tr>\n",
       "      <th>3</th>\n",
       "      <td>128.0</td>\n",
       "      <td>128.0</td>\n",
       "      <td>512.0</td>\n",
       "      <td>38.844444</td>\n",
       "      <td>11583.214778</td>\n",
       "    </tr>\n",
       "    <tr>\n",
       "      <th>4</th>\n",
       "      <td>128.0</td>\n",
       "      <td>128.0</td>\n",
       "      <td>704.0</td>\n",
       "      <td>40.684444</td>\n",
       "      <td>11126.056556</td>\n",
       "    </tr>\n",
       "    <tr>\n",
       "      <th>5</th>\n",
       "      <td>128.0</td>\n",
       "      <td>128.0</td>\n",
       "      <td>896.0</td>\n",
       "      <td>41.385556</td>\n",
       "      <td>10820.471889</td>\n",
       "    </tr>\n",
       "  </tbody>\n",
       "</table>\n",
       "</div>"
      ],
      "text/plain": [
       "      f1     f2     f4       Cost            RT\n",
       "1  128.0  128.0  128.0  34.640000  16301.681333\n",
       "2  128.0  128.0  320.0  36.520000  12478.063222\n",
       "3  128.0  128.0  512.0  38.844444  11583.214778\n",
       "4  128.0  128.0  704.0  40.684444  11126.056556\n",
       "5  128.0  128.0  896.0  41.385556  10820.471889"
      ]
     },
     "execution_count": 21,
     "metadata": {},
     "output_type": "execute_result"
    }
   ],
   "source": [
    "perf_cost_data = pd.DataFrame()\n",
    "for filename in pct_filename_list:\n",
    "    data_parts = pd.read_csv(filename, error_bad_lines=False, warn_bad_lines=False,low_memory=False)\n",
    "    perf_cost_data = perf_cost_data.append(data_parts)\n",
    "perf_cost_data = perf_cost_data[['1','2','4','Cost','RT']]\n",
    "perf_cost_data.columns=['f1','f2','f4','Cost','RT']\n",
    "perf_cost_data.index=range(1,perf_cost_data.shape[0]+1)\n",
    "perf_cost_data.head()"
   ]
  },
  {
   "cell_type": "code",
   "execution_count": 22,
   "metadata": {},
   "outputs": [
    {
     "name": "stdout",
     "output_type": "stream",
     "text": [
      "Minimal Cost:  34.21333333333333 per 1 million executions\n",
      "Maximal Cost:  111.45222222222219 per 1 million executions\n",
      "Minimal RT:  1955.5178888888888 ms\n",
      "Maximal RT:  16301.681333333332 ms\n"
     ]
    }
   ],
   "source": [
    "minimal_cost = perf_cost_data['Cost'].min()\n",
    "maximal_cost = perf_cost_data['Cost'].max()\n",
    "minimal_rt = perf_cost_data['RT'].min()\n",
    "maximal_rt = perf_cost_data['RT'].max()\n",
    "print('Minimal Cost: ', minimal_cost, 'per 1 million executions')\n",
    "print('Maximal Cost: ', maximal_cost, 'per 1 million executions')\n",
    "print('Minimal RT: ', minimal_rt, 'ms')\n",
    "print('Maximal RT: ', maximal_rt, 'ms')"
   ]
  },
  {
   "cell_type": "markdown",
   "metadata": {
    "toc-hr-collapsed": false
   },
   "source": [
    "## Optimization Curve"
   ]
  },
  {
   "cell_type": "markdown",
   "metadata": {},
   "source": [
    "### Get Optimization Curve Data"
   ]
  },
  {
   "cell_type": "markdown",
   "metadata": {},
   "source": [
    "#### Define Parameters"
   ]
  },
  {
   "cell_type": "code",
   "execution_count": 23,
   "metadata": {},
   "outputs": [],
   "source": [
    "App3_ocd_budget_num_of_points = 100\n",
    "App3_ocd_performance_constraint_num_of_points = 100\n",
    "App3_ocd_filenameprefix = 'opt_curve_data/App3'"
   ]
  },
  {
   "cell_type": "code",
   "execution_count": 24,
   "metadata": {},
   "outputs": [],
   "source": [
    "def ocd_work(App_G, filenameprefix, budget_num, performance_constraint_num):\n",
    "    App = ServerlessAppWorkflow(G=App_G.copy())\n",
    "    optimizer = PerfOpt(App, generate_perf_profile=False)\n",
    "    optimizer.get_opt_curve(filenameprefix=filenameprefix, budget_list=list(np.linspace(optimizer.minimal_cost, optimizer.maximal_cost, budget_num)), performance_constraint_list=list(np.linspace(optimizer.minimal_avg_rt, optimizer.maximal_avg_rt, performance_constraint_num)))"
   ]
  },
  {
   "cell_type": "markdown",
   "metadata": {},
   "source": [
    "#### Run Algorithms to get the curve"
   ]
  },
  {
   "cell_type": "code",
   "execution_count": 25,
   "metadata": {},
   "outputs": [],
   "source": [
    "%%capture\n",
    "ocd_work(App3_G, App3_ocd_filenameprefix, App3_ocd_budget_num_of_points, App3_ocd_performance_constraint_num_of_points)"
   ]
  },
  {
   "cell_type": "markdown",
   "metadata": {},
   "source": [
    "### Process Optimization Curve Data"
   ]
  },
  {
   "cell_type": "code",
   "execution_count": 42,
   "metadata": {},
   "outputs": [],
   "source": [
    "opt_curve_data_BPBC = pd.read_csv(App3_ocd_filenameprefix+'_BPBC.csv', error_bad_lines=False, warn_bad_lines=False,low_memory=False)\n",
    "opt_curve_data_BPBC = opt_curve_data_BPBC.assign(Best_Answer_RT=lambda opt_curve_data_BPBC: opt_curve_data_BPBC[['BCR_disabled_RT', 'BCR_RT/M_RT', 'BCR_ERT/C_RT', 'BCR_MAX_RT']].min(1))\n",
    "opt_curve_data_BCPC = pd.read_csv(App3_ocd_filenameprefix+'_BCPC.csv', error_bad_lines=False, warn_bad_lines=False,low_memory=False)\n",
    "opt_curve_data_BCPC = opt_curve_data_BCPC.assign(Best_Answer_Cost=lambda opt_curve_data_BCPC: opt_curve_data_BCPC[['BCR_disabled_Cost', 'BCR_M/RT_Cost', 'BCR_C/ERT_Cost', 'BCR_MAX_Cost']].min(1))"
   ]
  },
  {
   "cell_type": "code",
   "execution_count": 43,
   "metadata": {},
   "outputs": [
    {
     "data": {
      "text/html": [
       "<div>\n",
       "<style scoped>\n",
       "    .dataframe tbody tr th:only-of-type {\n",
       "        vertical-align: middle;\n",
       "    }\n",
       "\n",
       "    .dataframe tbody tr th {\n",
       "        vertical-align: top;\n",
       "    }\n",
       "\n",
       "    .dataframe thead th {\n",
       "        text-align: right;\n",
       "    }\n",
       "</style>\n",
       "<table border=\"1\" class=\"dataframe\">\n",
       "  <thead>\n",
       "    <tr style=\"text-align: right;\">\n",
       "      <th></th>\n",
       "      <th>Budget</th>\n",
       "      <th>BCR_disabled_RT</th>\n",
       "      <th>BCR_RT/M_RT</th>\n",
       "      <th>BCR_ERT/C_RT</th>\n",
       "      <th>BCR_MAX_RT</th>\n",
       "      <th>BCR_disabled_Cost</th>\n",
       "      <th>BCR_RT/M_Cost</th>\n",
       "      <th>BCR_ERT/C_Cost</th>\n",
       "      <th>BCR_MAX_Cost</th>\n",
       "      <th>BCR_disabled_Config</th>\n",
       "      <th>BCR_RT/M_Config</th>\n",
       "      <th>BCR_ERT/C_Config</th>\n",
       "      <th>BCR_MAX_Config</th>\n",
       "      <th>BCR_disabled_Iterations</th>\n",
       "      <th>BCR_RT/M_Iterations</th>\n",
       "      <th>BCR_ERT/C_Iterations</th>\n",
       "      <th>BCR_MAX_Iterations</th>\n",
       "      <th>BCR_threshold</th>\n",
       "      <th>Best_Answer_RT</th>\n",
       "    </tr>\n",
       "  </thead>\n",
       "  <tbody>\n",
       "    <tr>\n",
       "      <th>0</th>\n",
       "      <td>34.640000</td>\n",
       "      <td>8242.092778</td>\n",
       "      <td>8242.092778</td>\n",
       "      <td>16301.681333</td>\n",
       "      <td>8242.092778</td>\n",
       "      <td>34.448889</td>\n",
       "      <td>34.448889</td>\n",
       "      <td>34.640000</td>\n",
       "      <td>34.448889</td>\n",
       "      <td>{1: 896, 2: 896, 4: 128}</td>\n",
       "      <td>{1: 896, 2: 896, 4: 128}</td>\n",
       "      <td>{1: 128, 2: 128, 4: 128}</td>\n",
       "      <td>{1: 896, 2: 896, 4: 128}</td>\n",
       "      <td>4.0</td>\n",
       "      <td>4.0</td>\n",
       "      <td>1.0</td>\n",
       "      <td>3.0</td>\n",
       "      <td>0.2</td>\n",
       "      <td>8242.092778</td>\n",
       "    </tr>\n",
       "    <tr>\n",
       "      <th>1</th>\n",
       "      <td>35.341089</td>\n",
       "      <td>8099.834444</td>\n",
       "      <td>8099.834444</td>\n",
       "      <td>11018.959667</td>\n",
       "      <td>8099.834444</td>\n",
       "      <td>34.911111</td>\n",
       "      <td>34.911111</td>\n",
       "      <td>34.666667</td>\n",
       "      <td>34.911111</td>\n",
       "      <td>{1: 896, 2: 1280, 4: 128}</td>\n",
       "      <td>{1: 896, 2: 1280, 4: 128}</td>\n",
       "      <td>{1: 896, 2: 128, 4: 128}</td>\n",
       "      <td>{1: 896, 2: 1280, 4: 128}</td>\n",
       "      <td>3.0</td>\n",
       "      <td>3.0</td>\n",
       "      <td>2.0</td>\n",
       "      <td>3.0</td>\n",
       "      <td>0.2</td>\n",
       "      <td>8099.834444</td>\n",
       "    </tr>\n",
       "  </tbody>\n",
       "</table>\n",
       "</div>"
      ],
      "text/plain": [
       "      Budget  BCR_disabled_RT  BCR_RT/M_RT  BCR_ERT/C_RT   BCR_MAX_RT  \\\n",
       "0  34.640000      8242.092778  8242.092778  16301.681333  8242.092778   \n",
       "1  35.341089      8099.834444  8099.834444  11018.959667  8099.834444   \n",
       "\n",
       "   BCR_disabled_Cost  BCR_RT/M_Cost  BCR_ERT/C_Cost  BCR_MAX_Cost  \\\n",
       "0          34.448889      34.448889       34.640000     34.448889   \n",
       "1          34.911111      34.911111       34.666667     34.911111   \n",
       "\n",
       "         BCR_disabled_Config            BCR_RT/M_Config  \\\n",
       "0   {1: 896, 2: 896, 4: 128}   {1: 896, 2: 896, 4: 128}   \n",
       "1  {1: 896, 2: 1280, 4: 128}  {1: 896, 2: 1280, 4: 128}   \n",
       "\n",
       "           BCR_ERT/C_Config             BCR_MAX_Config  \\\n",
       "0  {1: 128, 2: 128, 4: 128}   {1: 896, 2: 896, 4: 128}   \n",
       "1  {1: 896, 2: 128, 4: 128}  {1: 896, 2: 1280, 4: 128}   \n",
       "\n",
       "   BCR_disabled_Iterations  BCR_RT/M_Iterations  BCR_ERT/C_Iterations  \\\n",
       "0                      4.0                  4.0                   1.0   \n",
       "1                      3.0                  3.0                   2.0   \n",
       "\n",
       "   BCR_MAX_Iterations  BCR_threshold  Best_Answer_RT  \n",
       "0                 3.0            0.2     8242.092778  \n",
       "1                 3.0            0.2     8099.834444  "
      ]
     },
     "execution_count": 43,
     "metadata": {},
     "output_type": "execute_result"
    }
   ],
   "source": [
    "opt_curve_data_BPBC.head(2)"
   ]
  },
  {
   "cell_type": "code",
   "execution_count": 44,
   "metadata": {},
   "outputs": [
    {
     "data": {
      "text/html": [
       "<div>\n",
       "<style scoped>\n",
       "    .dataframe tbody tr th:only-of-type {\n",
       "        vertical-align: middle;\n",
       "    }\n",
       "\n",
       "    .dataframe tbody tr th {\n",
       "        vertical-align: top;\n",
       "    }\n",
       "\n",
       "    .dataframe thead th {\n",
       "        text-align: right;\n",
       "    }\n",
       "</style>\n",
       "<table border=\"1\" class=\"dataframe\">\n",
       "  <thead>\n",
       "    <tr style=\"text-align: right;\">\n",
       "      <th></th>\n",
       "      <th>Performance_Constraint</th>\n",
       "      <th>BCR_disabled_RT</th>\n",
       "      <th>BCR_M/RT_RT</th>\n",
       "      <th>BCR_C/ERT_RT</th>\n",
       "      <th>BCR_MAX_RT</th>\n",
       "      <th>BCR_disabled_Cost</th>\n",
       "      <th>BCR_M/RT_Cost</th>\n",
       "      <th>BCR_C/ERT_Cost</th>\n",
       "      <th>BCR_MAX_Cost</th>\n",
       "      <th>BCR_disabled_Config</th>\n",
       "      <th>BCR_M/RT_Config</th>\n",
       "      <th>BCR_C/ERT_Config</th>\n",
       "      <th>BCR_MAX_Config</th>\n",
       "      <th>BCR_disabled_Iterations</th>\n",
       "      <th>BCR_M/RT_Iterations</th>\n",
       "      <th>BCR_C/ERT_Iterations</th>\n",
       "      <th>BCR_MAX_Iterations</th>\n",
       "      <th>BCR_threshold</th>\n",
       "      <th>Best_Answer_Cost</th>\n",
       "    </tr>\n",
       "  </thead>\n",
       "  <tbody>\n",
       "    <tr>\n",
       "      <th>0</th>\n",
       "      <td>2046.015667</td>\n",
       "      <td>2037.510111</td>\n",
       "      <td>2037.510111</td>\n",
       "      <td>2037.510111</td>\n",
       "      <td>2024.217667</td>\n",
       "      <td>56.123333</td>\n",
       "      <td>56.123333</td>\n",
       "      <td>56.123333</td>\n",
       "      <td>57.856667</td>\n",
       "      <td>{1: 896, 2: 1856, 4: 2240}</td>\n",
       "      <td>{1: 896, 2: 1856, 4: 2240}</td>\n",
       "      <td>{1: 896, 2: 1856, 4: 2240}</td>\n",
       "      <td>{1: 1088, 2: 1664, 4: 2240}</td>\n",
       "      <td>4.0</td>\n",
       "      <td>4.0</td>\n",
       "      <td>4.0</td>\n",
       "      <td>10.0</td>\n",
       "      <td>0.2</td>\n",
       "      <td>56.123333</td>\n",
       "    </tr>\n",
       "    <tr>\n",
       "      <th>1</th>\n",
       "      <td>2190.012290</td>\n",
       "      <td>2186.751111</td>\n",
       "      <td>2186.751111</td>\n",
       "      <td>2186.751111</td>\n",
       "      <td>2186.751111</td>\n",
       "      <td>48.712222</td>\n",
       "      <td>48.712222</td>\n",
       "      <td>48.712222</td>\n",
       "      <td>48.712222</td>\n",
       "      <td>{1: 896, 2: 1472, 4: 1664}</td>\n",
       "      <td>{1: 896, 2: 1472, 4: 1664}</td>\n",
       "      <td>{1: 896, 2: 1472, 4: 1664}</td>\n",
       "      <td>{1: 896, 2: 1472, 4: 1664}</td>\n",
       "      <td>4.0</td>\n",
       "      <td>4.0</td>\n",
       "      <td>4.0</td>\n",
       "      <td>12.0</td>\n",
       "      <td>0.2</td>\n",
       "      <td>48.712222</td>\n",
       "    </tr>\n",
       "  </tbody>\n",
       "</table>\n",
       "</div>"
      ],
      "text/plain": [
       "   Performance_Constraint  BCR_disabled_RT  BCR_M/RT_RT  BCR_C/ERT_RT  \\\n",
       "0             2046.015667      2037.510111  2037.510111   2037.510111   \n",
       "1             2190.012290      2186.751111  2186.751111   2186.751111   \n",
       "\n",
       "    BCR_MAX_RT  BCR_disabled_Cost  BCR_M/RT_Cost  BCR_C/ERT_Cost  \\\n",
       "0  2024.217667          56.123333      56.123333       56.123333   \n",
       "1  2186.751111          48.712222      48.712222       48.712222   \n",
       "\n",
       "   BCR_MAX_Cost         BCR_disabled_Config             BCR_M/RT_Config  \\\n",
       "0     57.856667  {1: 896, 2: 1856, 4: 2240}  {1: 896, 2: 1856, 4: 2240}   \n",
       "1     48.712222  {1: 896, 2: 1472, 4: 1664}  {1: 896, 2: 1472, 4: 1664}   \n",
       "\n",
       "             BCR_C/ERT_Config               BCR_MAX_Config  \\\n",
       "0  {1: 896, 2: 1856, 4: 2240}  {1: 1088, 2: 1664, 4: 2240}   \n",
       "1  {1: 896, 2: 1472, 4: 1664}   {1: 896, 2: 1472, 4: 1664}   \n",
       "\n",
       "   BCR_disabled_Iterations  BCR_M/RT_Iterations  BCR_C/ERT_Iterations  \\\n",
       "0                      4.0                  4.0                   4.0   \n",
       "1                      4.0                  4.0                   4.0   \n",
       "\n",
       "   BCR_MAX_Iterations  BCR_threshold  Best_Answer_Cost  \n",
       "0                10.0            0.2         56.123333  \n",
       "1                12.0            0.2         48.712222  "
      ]
     },
     "execution_count": 44,
     "metadata": {},
     "output_type": "execute_result"
    }
   ],
   "source": [
    "opt_curve_data_BCPC.head(2)"
   ]
  },
  {
   "cell_type": "code",
   "execution_count": 45,
   "metadata": {},
   "outputs": [],
   "source": [
    "best_rt = [perf_cost_data.query(\"Cost<={}\".format(item))['RT'].min() for item in opt_curve_data_BPBC['Budget']]\n",
    "best_cost = [perf_cost_data.query(\"RT<={}\".format(item))['Cost'].min() for item in opt_curve_data_BCPC['Performance_Constraint']]\n",
    "BPBC_accuracy = 100-(opt_curve_data_BPBC['Best_Answer_RT']-best_rt)/opt_curve_data_BPBC['Best_Answer_RT']*100\n",
    "BCPC_accuracy = 100-(opt_curve_data_BCPC['Best_Answer_Cost']-best_cost)/opt_curve_data_BCPC['Best_Answer_Cost']*100"
   ]
  },
  {
   "cell_type": "code",
   "execution_count": 46,
   "metadata": {},
   "outputs": [],
   "source": [
    "with open('results.json', 'w', encoding='utf-8') as f:\n",
    "    json.dump({\n",
    "               \"BPBC_BCR_disabled_Iterations\":opt_curve_data_BPBC[\"BCR_disabled_Iterations\"].mean(),\n",
    "               \"BPBC_BCR_RT/M_Iterations\":opt_curve_data_BPBC[\"BCR_RT/M_Iterations\"].mean(),\n",
    "               \"BPBC_BCR_ERT/C_Iterations\":opt_curve_data_BPBC[\"BCR_ERT/C_Iterations\"].mean(),\n",
    "               \"BPBC_BCR_MAX_Iterations\":opt_curve_data_BPBC[\"BCR_MAX_Iterations\"].mean(),\n",
    "               \"BCPC_BCR_disabled_Iterations\":opt_curve_data_BCPC[\"BCR_disabled_Iterations\"].mean(),\n",
    "               \"BCPC_BCR_M/RT_Iterations\":opt_curve_data_BCPC[\"BCR_M/RT_Iterations\"].mean(),\n",
    "               \"BCPC_BCR_C/ERT_Iterations\":opt_curve_data_BCPC[\"BCR_C/ERT_Iterations\"].mean(),\n",
    "               \"BCPC_BCR_MAX_Iterations\":opt_curve_data_BCPC[\"BCR_MAX_Iterations\"].mean()\n",
    "              }, f, ensure_ascii=False, indent=4)"
   ]
  },
  {
   "cell_type": "markdown",
   "metadata": {},
   "source": [
    "### BPBC Problem"
   ]
  },
  {
   "cell_type": "code",
   "execution_count": 47,
   "metadata": {},
   "outputs": [
    {
     "data": {
      "image/png": "[encoded data removed]",
      "text/plain": [
       "<Figure size 576x576 with 2 Axes>"
      ]
     },
     "metadata": {
      "needs_background": "light"
     },
     "output_type": "display_data"
    }
   ],
   "source": [
    "fig=plt.figure(figsize=(8,8))\n",
    "ax=plt.subplot(111)\n",
    "ax.grid()\n",
    "ax.plot(opt_curve_data_BPBC['Budget'], opt_curve_data_BPBC['BCR_disabled_RT'], marker='o', label='BCR Disabled')\n",
    "ax.plot(opt_curve_data_BPBC['Budget'], opt_curve_data_BPBC['BCR_RT/M_RT'], marker='o', label='BCR RT/M') \n",
    "ax.plot(opt_curve_data_BPBC['Budget'], opt_curve_data_BPBC['BCR_ERT/C_RT'], marker='o', label='BCR ERT/C') \n",
    "ax.plot(opt_curve_data_BPBC['Budget'], opt_curve_data_BPBC['BCR_MAX_RT'], marker='o', label='BCR MAX') \n",
    "ax.plot(opt_curve_data_BPBC['Budget'], opt_curve_data_BPBC['Best_Answer_RT'] , marker='o', label='Best Answer') \n",
    "ax.plot(opt_curve_data_BPBC['Budget'], best_rt, marker='o', label='Ideal BPBC Solution') \n",
    "ax.legend()\n",
    "ax.set_xlabel('Cost in $')\n",
    "ax.set_ylabel('End-to-end Response time in ms')\n",
    "ax2 = ax.twinx()\n",
    "ax2.plot(opt_curve_data_BPBC['Budget'], BPBC_accuracy, marker = 'x', label='Accuracy', color='magenta')\n",
    "ax2.legend(loc='center right')\n",
    "ax2.set_ylim(0,100)\n",
    "ax2.set_ylabel('Accuracy in Percentage')\n",
    "fig.savefig('App3_Optimization_Curve_BPBC', dpi=300)\n",
    "fig.savefig('App3_Optimization_Curve_BPBC.pdf')"
   ]
  },
  {
   "cell_type": "markdown",
   "metadata": {},
   "source": [
    "### BCPC Problem"
   ]
  },
  {
   "cell_type": "code",
   "execution_count": 34,
   "metadata": {},
   "outputs": [
    {
     "data": {
      "image/png": "[encoded data removed]",
      "text/plain": [
       "<Figure size 576x576 with 2 Axes>"
      ]
     },
     "metadata": {
      "needs_background": "light"
     },
     "output_type": "display_data"
    }
   ],
   "source": [
    "fig=plt.figure(figsize=(8,8))\n",
    "ax=plt.subplot(111)\n",
    "ax.grid()\n",
    "ax.plot(opt_curve_data_BCPC['Performance_Constraint'], opt_curve_data_BCPC['BCR_disabled_Cost'], marker='o', label='BCR Disabled')\n",
    "ax.plot(opt_curve_data_BCPC['Performance_Constraint'], opt_curve_data_BCPC['BCR_M/RT_Cost'], marker='o', label='BCR M/RT') \n",
    "ax.plot(opt_curve_data_BCPC['Performance_Constraint'], opt_curve_data_BCPC['BCR_C/ERT_Cost'], marker='o', label='BCR C/ERT') \n",
    "ax.plot(opt_curve_data_BCPC['Performance_Constraint'], opt_curve_data_BCPC['BCR_MAX_Cost'], marker='o', label='BCR MAX') \n",
    "ax.plot(opt_curve_data_BCPC['Performance_Constraint'], opt_curve_data_BCPC['Best_Answer_Cost'] , marker='o', label='Best Answer') \n",
    "ax.plot(opt_curve_data_BCPC['Performance_Constraint'], best_cost, marker='o', label='Ideal BCPC Solution') \n",
    "ax.legend()\n",
    "ax.set_xlabel('End-to-end Response time in ms')\n",
    "ax.set_ylabel('Cost in $')\n",
    "ax2 = ax.twinx()\n",
    "ax2.plot(opt_curve_data_BCPC['Performance_Constraint'], BCPC_accuracy, marker = 'x', label='Accuracy', color='magenta')\n",
    "ax2.legend(loc='center right')\n",
    "ax2.set_ylim(0,100)\n",
    "ax2.set_ylabel('Accuracy in Percentage')\n",
    "fig.savefig('App3_Optimization_Curve_BCPC', dpi=300)\n",
    "fig.savefig('App3_Optimization_Curve_BCPC.pdf')"
   ]
  },
  {
   "cell_type": "code",
   "execution_count": null,
   "metadata": {},
   "outputs": [],
   "source": []
  }
 ],
 "metadata": {
  "kernelspec": {
   "display_name": "Python 3.7.6",
   "language": "python",
   "name": "python3.7"
  },
  "language_info": {
   "codemirror_mode": {
    "name": "ipython",
    "version": 3
   },
   "file_extension": ".py",
   "mimetype": "text/x-python",
   "name": "python",
   "nbconvert_exporter": "python",
   "pygments_lexer": "ipython3",
   "version": "3.7.6"
  }
 },
 "nbformat": 4,
 "nbformat_minor": 4
}
