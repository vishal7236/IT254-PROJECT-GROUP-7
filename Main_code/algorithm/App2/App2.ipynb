{
 "cells": [
  {
   "cell_type": "markdown",
   "metadata": {},
   "source": [
    "# App2"
   ]
  },
  {
   "cell_type": "markdown",
   "metadata": {},
   "source": [
    "*  An App with 2 functions with different types of workload to validate the performance of the optimization algorithm\n",
    "*  There is a cycle in App2"
   ]
  },
  {
   "cell_type": "code",
   "execution_count": 1,
   "metadata": {},
   "outputs": [],
   "source": [
    "import os\n",
    "from io import BytesIO\n",
    "import time\n",
    "import zipfile\n",
    "import numpy as np\n",
    "import boto3\n",
    "from tqdm import tqdm\n",
    "from datetime import datetime, timezone\n",
    "from time import gmtime, strftime\n",
    "import json\n",
    "import pandas as pd\n",
    "import matplotlib.pyplot as plt"
   ]
  },
  {
   "cell_type": "code",
   "execution_count": 2,
   "metadata": {},
   "outputs": [],
   "source": [
    "lambda_client = boto3.client('lambda')"
   ]
  },
  {
   "cell_type": "code",
   "execution_count": 3,
   "metadata": {},
   "outputs": [],
   "source": [
    "function_prefix='ServerlessAppPerfOpt'"
   ]
  },
  {
   "cell_type": "code",
   "execution_count": 4,
   "metadata": {},
   "outputs": [],
   "source": [
    "App_name = 'App2'"
   ]
  },
  {
   "cell_type": "markdown",
   "metadata": {},
   "source": [
    "## Update all Functions in App2"
   ]
  },
  {
   "cell_type": "markdown",
   "metadata": {},
   "source": [
    "### Types of workload"
   ]
  },
  {
   "cell_type": "markdown",
   "metadata": {},
   "source": [
    "* Function 1: Disk IO Intensive\n",
    "    * Write a 1MB file to the disk for 50 times\n",
    "* Function 2: CPU Intensive\n",
    "    * Factorial 28000"
   ]
  },
  {
   "cell_type": "markdown",
   "metadata": {},
   "source": [
    "### Update Function Code"
   ]
  },
  {
   "cell_type": "code",
   "execution_count": 5,
   "metadata": {},
   "outputs": [],
   "source": [
    "functions=[]\n",
    "for file in os.listdir('functions'):\n",
    "    path=os.path.abspath(os.path.join(os.path.dirname('__file__'), 'functions/'+file))\n",
    "    if not file.startswith('.') and os.path.isdir(path):\n",
    "        functions.append(file)\n",
    "for function_folder in functions:\n",
    "    buf = BytesIO()\n",
    "    with zipfile.ZipFile(buf, 'w') as z:\n",
    "        for file in os.listdir('functions/'+function_folder):\n",
    "            z.write(os.path.abspath(os.path.join(os.path.dirname('__file__'), 'functions/{}/{}'.format(function_folder,file))), os.path.basename(os.path.join(os.path.dirname('__file__'), 'functions/{}/{}'.format(function_folder,file))))\n",
    "    buf.seek(0)\n",
    "    pkg = buf.read()\n",
    "    lambda_client.update_function_code(FunctionName='{}_{}'.format(function_prefix, function_folder),ZipFile=pkg)"
   ]
  },
  {
   "cell_type": "markdown",
   "metadata": {},
   "source": [
    "### Update Function Memory and Timeout Configuration\n",
    "* Available Memory Configurations: 128, 192, 256, 320, 384, 448, 512, 576, 640, 704, 768, 832, 896, 960, 1024, 1088, 1152, 1216, 1280, 1344, 1408, 1472, 1536, 1600, 1664, 1728, 1792, 1856, 1920, 1984, 2048, 2112, 2176, 2240, 2304, 2368, 2432, 2496, 2560, 2624, 2688, 2752, 2816, 2880, 2944, 3008\n"
   ]
  },
  {
   "cell_type": "code",
   "execution_count": 6,
   "metadata": {},
   "outputs": [],
   "source": [
    "mem_config_list={\n",
    "    'f1':128,\n",
    "    'f2':128\n",
    "}\n",
    "timeout_config_list={\n",
    "    'f1':60,\n",
    "    'f2':60\n",
    "}"
   ]
  },
  {
   "cell_type": "code",
   "execution_count": null,
   "metadata": {},
   "outputs": [],
   "source": [
    "for function in mem_config_list.keys():\n",
    "    lambda_client.update_function_configuration(FunctionName='{}_{}'.format(function_prefix, function), MemorySize=mem_config_list[function], Timeout=timeout_config_list[function])"
   ]
  },
  {
   "cell_type": "markdown",
   "metadata": {
    "toc-hr-collapsed": true
   },
   "source": [
    "### Test Run"
   ]
  },
  {
   "cell_type": "markdown",
   "metadata": {},
   "source": [
    "#### Function 1"
   ]
  },
  {
   "cell_type": "code",
   "execution_count": null,
   "metadata": {},
   "outputs": [],
   "source": [
    "lambda_client.invoke(FunctionName='{}_{}'.format(function_prefix, 'f1'), InvocationType='Event')"
   ]
  },
  {
   "cell_type": "markdown",
   "metadata": {},
   "source": [
    "#### Function 2"
   ]
  },
  {
   "cell_type": "code",
   "execution_count": null,
   "metadata": {},
   "outputs": [],
   "source": [
    "lambda_client.invoke(FunctionName='{}_{}'.format(function_prefix, 'f2'), InvocationType='Event')"
   ]
  },
  {
   "cell_type": "markdown",
   "metadata": {},
   "source": [
    "## Execute Functions to Get the Performance Curve"
   ]
  },
  {
   "cell_type": "markdown",
   "metadata": {},
   "source": [
    "* Run each function under each memory configuration for 100 times"
   ]
  },
  {
   "cell_type": "code",
   "execution_count": 7,
   "metadata": {},
   "outputs": [],
   "source": [
    "available_mem_list=[128, 192, 256, 320, 384, 448, 512, 576, 640, 704, 768, 832, 896, 960, 1024, 1088, 1152, 1216, 1280, 1344, 1408, 1472, 1536, 1600, 1664, 1728, 1792, 1856, 1920, 1984, 2048, 2112, 2176, 2240, 2304, 2368, 2432, 2496, 2560, 2624, 2688, 2752, 2816, 2880, 2944, 3008]"
   ]
  },
  {
   "cell_type": "code",
   "execution_count": null,
   "metadata": {},
   "outputs": [],
   "source": [
    "for mem in available_mem_list:\n",
    "    print('Memory: {} Timestamp: {} UTC: {}'.format(mem,time.time(),strftime(\"%d %b %Y %H:%M:%S +0000\", gmtime())))\n",
    "    mem_config={'f1':mem, 'f2':mem, 'f4':mem}\n",
    "    for function in mem_config.keys():\n",
    "        lambda_client.update_function_configuration(FunctionName='{}_{}'.format(function_prefix, function), MemorySize=mem_config[function])\n",
    "    time.sleep(1)\n",
    "    for i in tqdm(range(100)):\n",
    "        time.sleep(10)\n",
    "        lambda_client.invoke(FunctionName='{}_{}'.format(function_prefix, 'f1'), InvocationType='Event')\n",
    "        lambda_client.invoke(FunctionName='{}_{}'.format(function_prefix, 'f2'), InvocationType='Event')\n",
    "        lambda_client.invoke(FunctionName='{}_{}'.format(function_prefix, 'f3'), InvocationType='Event')\n",
    "        lambda_client.invoke(FunctionName='{}_{}'.format(function_prefix, 'f4'), InvocationType='Event')"
   ]
  },
  {
   "cell_type": "markdown",
   "metadata": {
    "toc-hr-collapsed": false
   },
   "source": [
    "## CloudWatch Logs"
   ]
  },
  {
   "cell_type": "code",
   "execution_count": 6,
   "metadata": {},
   "outputs": [],
   "source": [
    "logclient = boto3.client('logs')"
   ]
  },
  {
   "cell_type": "markdown",
   "metadata": {},
   "source": [
    "### Functions for parsing Logs"
   ]
  },
  {
   "cell_type": "code",
   "execution_count": 7,
   "metadata": {},
   "outputs": [],
   "source": [
    "def lambda_report_log_to_dict(log):\n",
    "    res={}\n",
    "    lis=[item.split(': ') for item in log.split('\\t')]\n",
    "    res['RequestId']=lis[0][1]\n",
    "    res['Duration']=float(lis[1][1].split(' ')[0])\n",
    "    res['Billed Duration']=int(lis[2][1].split(' ')[0])\n",
    "    res['Memory Size']=int(lis[3][1].split(' ')[0])\n",
    "    res['Max Memory Used']=int(lis[4][1].split(' ')[0])\n",
    "    return res"
   ]
  },
  {
   "cell_type": "code",
   "execution_count": 8,
   "metadata": {},
   "outputs": [],
   "source": [
    "startTime=int(datetime.timestamp(datetime(year=2021,month=4,day=11,hour=22,minute=44,second=0,tzinfo=timezone.utc)))\n",
    "endTime=int(datetime.timestamp(datetime(year=2021,month=4,day=12,hour=14,minute=30,second=0,tzinfo=timezone.utc)))"
   ]
  },
  {
   "cell_type": "markdown",
   "metadata": {},
   "source": [
    "### Query Logs"
   ]
  },
  {
   "cell_type": "markdown",
   "metadata": {},
   "source": [
    "#### Function 1"
   ]
  },
  {
   "cell_type": "code",
   "execution_count": 9,
   "metadata": {},
   "outputs": [],
   "source": [
    "query_f1 = logclient.start_query(\n",
    "    logGroupName='/aws/lambda/{}_{}'.format(function_prefix, 'f1'),\n",
    "    queryString=\"fields @timestamp, @message| filter @message like 'REPORT'| sort @timestamp desc\",\n",
    "    startTime=startTime,\n",
    "    endTime=endTime,\n",
    "    limit=10000\n",
    ")"
   ]
  },
  {
   "cell_type": "code",
   "execution_count": 10,
   "metadata": {},
   "outputs": [],
   "source": [
    "query_results_f1 = logclient.get_query_results(\n",
    "    queryId=query_f1['queryId']\n",
    ")"
   ]
  },
  {
   "cell_type": "code",
   "execution_count": 11,
   "metadata": {},
   "outputs": [],
   "source": [
    "f1_log_list=[lambda_report_log_to_dict(item [1]['value']) for item in query_results_f1['results']]"
   ]
  },
  {
   "cell_type": "code",
   "execution_count": 14,
   "metadata": {},
   "outputs": [
    {
     "data": {
      "text/plain": [
       "4600"
      ]
     },
     "execution_count": 14,
     "metadata": {},
     "output_type": "execute_result"
    }
   ],
   "source": [
    "len(f1_log_list)"
   ]
  },
  {
   "cell_type": "markdown",
   "metadata": {},
   "source": [
    "#### Function 2"
   ]
  },
  {
   "cell_type": "code",
   "execution_count": 15,
   "metadata": {},
   "outputs": [],
   "source": [
    "query_f2 = logclient.start_query(\n",
    "    logGroupName='/aws/lambda/{}_{}'.format(function_prefix, 'f2'),\n",
    "    queryString=\"fields @timestamp, @message| filter @message like 'REPORT'| sort @timestamp desc\",\n",
    "    startTime=startTime,\n",
    "    endTime=endTime,\n",
    "    limit=10000\n",
    ")"
   ]
  },
  {
   "cell_type": "code",
   "execution_count": 16,
   "metadata": {},
   "outputs": [],
   "source": [
    "query_results_f2 = logclient.get_query_results(\n",
    "    queryId=query_f2['queryId']\n",
    ")"
   ]
  },
  {
   "cell_type": "code",
   "execution_count": 17,
   "metadata": {},
   "outputs": [],
   "source": [
    "f2_log_list=[lambda_report_log_to_dict(item [1]['value']) for item in query_results_f2['results']]"
   ]
  },
  {
   "cell_type": "code",
   "execution_count": 18,
   "metadata": {},
   "outputs": [
    {
     "data": {
      "text/plain": [
       "4600"
      ]
     },
     "execution_count": 18,
     "metadata": {},
     "output_type": "execute_result"
    }
   ],
   "source": [
    "len(f2_log_list)"
   ]
  },
  {
   "cell_type": "markdown",
   "metadata": {},
   "source": [
    "#### Convert Logs into DataFrame and Save as CSV"
   ]
  },
  {
   "cell_type": "code",
   "execution_count": 19,
   "metadata": {},
   "outputs": [],
   "source": [
    "for item in f1_log_list:\n",
    "    item['Function']='f1'\n",
    "for item in f2_log_list:\n",
    "    item['Function']='f2'\n",
    "App2_Lambda_Logs=pd.DataFrame(f1_log_list).append(pd.DataFrame(f2_log_list))\n",
    "App2_Lambda_Logs.index=range(App2_Lambda_Logs.shape[0])\n",
    "App2_Lambda_Logs=App2_Lambda_Logs[['Function', 'Memory Size', 'Max Memory Used', 'Duration', 'Billed Duration', 'RequestId']]\n",
    "App2_Lambda_Logs.to_csv('App2_Lambda_Logs.csv',index=False)"
   ]
  },
  {
   "cell_type": "code",
   "execution_count": 9,
   "metadata": {},
   "outputs": [],
   "source": [
    "App2_Lambda_Logs = pd.read_csv('App2_Lambda_Logs.csv', error_bad_lines=False, warn_bad_lines=False,low_memory=False)\n",
    "App2_Lambda_Logs.columns = ['Function', 'Memory_Size', 'Max_Memory_Used', 'Duration', 'Billed_Duration', 'RequestId']"
   ]
  },
  {
   "cell_type": "code",
   "execution_count": 10,
   "metadata": {},
   "outputs": [
    {
     "data": {
      "text/html": [
       "<div>\n",
       "<style scoped>\n",
       "    .dataframe tbody tr th:only-of-type {\n",
       "        vertical-align: middle;\n",
       "    }\n",
       "\n",
       "    .dataframe tbody tr th {\n",
       "        vertical-align: top;\n",
       "    }\n",
       "\n",
       "    .dataframe thead th {\n",
       "        text-align: right;\n",
       "    }\n",
       "</style>\n",
       "<table border=\"1\" class=\"dataframe\">\n",
       "  <thead>\n",
       "    <tr style=\"text-align: right;\">\n",
       "      <th></th>\n",
       "      <th>Function</th>\n",
       "      <th>Memory_Size</th>\n",
       "      <th>Max_Memory_Used</th>\n",
       "      <th>Duration</th>\n",
       "      <th>Billed_Duration</th>\n",
       "      <th>RequestId</th>\n",
       "    </tr>\n",
       "  </thead>\n",
       "  <tbody>\n",
       "    <tr>\n",
       "      <th>0</th>\n",
       "      <td>f1</td>\n",
       "      <td>3008</td>\n",
       "      <td>62</td>\n",
       "      <td>812.05</td>\n",
       "      <td>900</td>\n",
       "      <td>b6a380ea-ee12-457e-af63-6e3919bb1f2a</td>\n",
       "    </tr>\n",
       "    <tr>\n",
       "      <th>1</th>\n",
       "      <td>f1</td>\n",
       "      <td>3008</td>\n",
       "      <td>62</td>\n",
       "      <td>713.71</td>\n",
       "      <td>800</td>\n",
       "      <td>ff20d6e4-388f-4842-9d1e-c9aae94ca3fd</td>\n",
       "    </tr>\n",
       "    <tr>\n",
       "      <th>2</th>\n",
       "      <td>f1</td>\n",
       "      <td>3008</td>\n",
       "      <td>62</td>\n",
       "      <td>720.99</td>\n",
       "      <td>800</td>\n",
       "      <td>a6110dab-c8e7-491e-8075-6d46bb2ad026</td>\n",
       "    </tr>\n",
       "    <tr>\n",
       "      <th>3</th>\n",
       "      <td>f1</td>\n",
       "      <td>3008</td>\n",
       "      <td>62</td>\n",
       "      <td>711.73</td>\n",
       "      <td>800</td>\n",
       "      <td>56b4cb0a-4d1c-4912-8072-b3e0a634ec3a</td>\n",
       "    </tr>\n",
       "    <tr>\n",
       "      <th>4</th>\n",
       "      <td>f1</td>\n",
       "      <td>3008</td>\n",
       "      <td>62</td>\n",
       "      <td>798.65</td>\n",
       "      <td>800</td>\n",
       "      <td>175ce139-3afe-45a0-8101-db5870227043</td>\n",
       "    </tr>\n",
       "  </tbody>\n",
       "</table>\n",
       "</div>"
      ],
      "text/plain": [
       "  Function  Memory_Size  Max_Memory_Used  Duration  Billed_Duration  \\\n",
       "0       f1         3008               62    812.05              900   \n",
       "1       f1         3008               62    713.71              800   \n",
       "2       f1         3008               62    720.99              800   \n",
       "3       f1         3008               62    711.73              800   \n",
       "4       f1         3008               62    798.65              800   \n",
       "\n",
       "                              RequestId  \n",
       "0  b6a380ea-ee12-457e-af63-6e3919bb1f2a  \n",
       "1  ff20d6e4-388f-4842-9d1e-c9aae94ca3fd  \n",
       "2  a6110dab-c8e7-491e-8075-6d46bb2ad026  \n",
       "3  56b4cb0a-4d1c-4912-8072-b3e0a634ec3a  \n",
       "4  175ce139-3afe-45a0-8101-db5870227043  "
      ]
     },
     "execution_count": 10,
     "metadata": {},
     "output_type": "execute_result"
    }
   ],
   "source": [
    "App2_Lambda_Logs.head()"
   ]
  },
  {
   "cell_type": "markdown",
   "metadata": {},
   "source": [
    "## Performance Curve"
   ]
  },
  {
   "cell_type": "code",
   "execution_count": 11,
   "metadata": {},
   "outputs": [],
   "source": [
    "f1_duration = [App2_Lambda_Logs.query(\"Function == {} and Memory_Size == {}\".format(\"'f1'\",mem))['Duration'].mean() for mem in available_mem_list]\n",
    "f2_duration = [App2_Lambda_Logs.query(\"Function == {} and Memory_Size == {}\".format(\"'f2'\",mem))['Duration'].mean() for mem in available_mem_list]"
   ]
  },
  {
   "cell_type": "code",
   "execution_count": 12,
   "metadata": {},
   "outputs": [],
   "source": [
    "f1_perf_profile = dict(zip(available_mem_list, f1_duration))\n",
    "f2_perf_profile = dict(zip(available_mem_list, f2_duration))"
   ]
  },
  {
   "cell_type": "code",
   "execution_count": 13,
   "metadata": {},
   "outputs": [
    {
     "data": {
      "image/png": "[encoded data removed]",
      "text/plain": [
       "<Figure size 576x576 with 1 Axes>"
      ]
     },
     "metadata": {
      "needs_background": "light"
     },
     "output_type": "display_data"
    }
   ],
   "source": [
    "fig=plt.figure(figsize=(8,8))\n",
    "ax=plt.subplot(111)\n",
    "ax.grid()\n",
    "ax.set_xlim(128,3008)\n",
    "ax.plot(available_mem_list, f1_duration, marker='o', label='f1') \n",
    "ax.plot(available_mem_list, f2_duration, marker='o', label='f2') \n",
    "ax.legend()\n",
    "ax.set_xlabel('Memory in MB')\n",
    "ax.set_ylabel('Duration in ms')\n",
    "fig.savefig('App2_Performance_Curve', dpi=300)\n",
    "fig.savefig('App2_Performance_Curve.pdf')"
   ]
  },
  {
   "cell_type": "markdown",
   "metadata": {},
   "source": [
    "## Performance Cost Table"
   ]
  },
  {
   "cell_type": "markdown",
   "metadata": {},
   "source": [
    "### Import Libraries"
   ]
  },
  {
   "cell_type": "code",
   "execution_count": 14,
   "metadata": {},
   "outputs": [],
   "source": [
    "import sys\n",
    "sys.path.append('../../../source/ServerlessAppPerfCostMdlOpt')\n",
    "import networkx as nx\n",
    "import itertools\n",
    "import warnings\n",
    "warnings.filterwarnings(\"ignore\")\n",
    "from ServerlessAppWorkflow import ServerlessAppWorkflow\n",
    "from AppGenerator import AppGenerator\n",
    "from PerfOpt import PerfOpt"
   ]
  },
  {
   "cell_type": "markdown",
   "metadata": {},
   "source": [
    "### Sample Performance Curve"
   ]
  },
  {
   "cell_type": "code",
   "execution_count": 15,
   "metadata": {},
   "outputs": [
    {
     "name": "stdout",
     "output_type": "stream",
     "text": [
      "Sampled Memory List: [128, 320, 512, 704, 896, 1088, 1280, 1472, 1664, 1856, 2048, 2240, 2432, 2624, 2816, 3008]\n",
      "Length of the Sampled Memory List: 16\n",
      "Number of Configurations in App2 after Sampling: 256\n"
     ]
    },
    {
     "data": {
      "text/plain": [
       "Text(0, 0.5, 'Duration in ms')"
      ]
     },
     "execution_count": 15,
     "metadata": {},
     "output_type": "execute_result"
    },
    {
     "data": {
      "image/png": "[encoded data removed]",
      "text/plain": [
       "<Figure size 576x576 with 1 Axes>"
      ]
     },
     "metadata": {
      "needs_background": "light"
     },
     "output_type": "display_data"
    }
   ],
   "source": [
    "sampled_mem_list = list(range(128, 3072, 192))\n",
    "number_of_configurations = np.power(len(sampled_mem_list),2)\n",
    "print('Sampled Memory List:', sampled_mem_list)\n",
    "print('Length of the Sampled Memory List:', len(sampled_mem_list))\n",
    "print('Number of Configurations in App2 after Sampling:', number_of_configurations)\n",
    "\n",
    "fig=plt.figure(figsize=(8,8))\n",
    "ax=plt.subplot(111)\n",
    "ax.grid()\n",
    "ax.set_xlim(128,3008)\n",
    "ax.plot(list(range(128, 3072, 192)), f1_duration[0:46:3], marker='o', label='f1') \n",
    "ax.plot(list(range(128, 3072, 192)), f2_duration[0:46:3], marker='o', label='f2') \n",
    "ax.legend()\n",
    "ax.set_xlabel('Memory in MB')\n",
    "ax.set_ylabel('Duration in ms')"
   ]
  },
  {
   "cell_type": "markdown",
   "metadata": {
    "toc-hr-collapsed": false
   },
   "source": [
    "### Get Performance Cost Table"
   ]
  },
  {
   "cell_type": "markdown",
   "metadata": {},
   "source": [
    "#### Define App Orchestration"
   ]
  },
  {
   "cell_type": "code",
   "execution_count": 43,
   "metadata": {},
   "outputs": [
    {
     "data": {
      "image/png": "[encoded data removed]",
      "text/plain": [
       "<Figure size 432x288 with 1 Axes>"
      ]
     },
     "metadata": {},
     "output_type": "display_data"
    },
    {
     "data": {
      "text/plain": [
       "CompletedProcess(args=['dot', '-n', '-Tpng', 'App2_G.dot'], returncode=0)"
      ]
     },
     "execution_count": 43,
     "metadata": {},
     "output_type": "execute_result"
    },
    {
     "data": {
      "image/png": "[encoded data removed]",
      "text/plain": [
       "<Figure size 432x288 with 1 Axes>"
      ]
     },
     "metadata": {},
     "output_type": "display_data"
    }
   ],
   "source": [
    "App2_G = nx.DiGraph()\n",
    "App2_G.add_node('Start', pos=(0, 1))\n",
    "App2_G.add_node(1, pos=(1, 1), perf_profile={mem:f1_perf_profile[mem] for mem in sampled_mem_list})\n",
    "App2_G.add_node(2, pos=(2, 1), perf_profile={mem:f2_perf_profile[mem] for mem in sampled_mem_list})\n",
    "App2_G.add_node('End', pos=(3, 1))\n",
    "App2_G.add_weighted_edges_from([('Start', 1, 1), (1, 2, 1), (2, 1, 0.1), (2, 'End', 0.9)])\n",
    "pos_App2_G = nx.get_node_attributes(App2_G, 'pos')\n",
    "nx.draw(App2_G, pos_App2_G, with_labels=True)\n",
    "labels_App2_G = nx.get_edge_attributes(App2_G, 'weight')\n",
    "nx.draw_networkx_edge_labels(App2_G, pos_App2_G, edge_labels=labels_App2_G)\n",
    "pos_higher_offset_App2_G = {}\n",
    "for k, v in pos_App2_G.items():\n",
    "    pos_higher_offset_App2_G[k] = (v[0], v[1] + 0.15)\n",
    "plt.show()\n",
    "\n",
    "# Generate workflow PNG\n",
    "# import subprocess\n",
    "# nx.draw(App2_G, with_labels=True)\n",
    "# nx.nx_agraph.write_dot(App2_G,'App2_G.dot')\n",
    "# f = open(\"App2_G.png\", \"w\")\n",
    "# subprocess.run([\"dot\", \"-n\", \"-Tpng\", \"App2_G.dot\"],stdout=f)"
   ]
  },
  {
   "cell_type": "markdown",
   "metadata": {},
   "source": [
    "#### Define the number of workers"
   ]
  },
  {
   "cell_type": "code",
   "execution_count": 17,
   "metadata": {},
   "outputs": [],
   "source": [
    "number_of_workers = 1"
   ]
  },
  {
   "cell_type": "markdown",
   "metadata": {},
   "source": [
    "#### Define the data storage location"
   ]
  },
  {
   "cell_type": "code",
   "execution_count": 18,
   "metadata": {},
   "outputs": [],
   "source": [
    "pct_data_folder = 'perf_cost_data'"
   ]
  },
  {
   "cell_type": "markdown",
   "metadata": {},
   "source": [
    "#### Generate Workload"
   ]
  },
  {
   "cell_type": "code",
   "execution_count": 19,
   "metadata": {},
   "outputs": [],
   "source": [
    "pct_filename_list = [pct_data_folder + '/' + App_name+'_part'+str(n) +'.csv' for n in range(1,number_of_workers+1)]\n",
    "pct_start_iterations_list = [int(number_of_configurations/number_of_workers * (n-1))+1 for n in range(1,number_of_workers+1)]\n",
    "pct_end_iterations_list = [n-1 for n in pct_start_iterations_list[1:]]\n",
    "pct_end_iterations_list.append(number_of_configurations)"
   ]
  },
  {
   "cell_type": "markdown",
   "metadata": {},
   "source": [
    "#### Run Algorithms to get the table"
   ]
  },
  {
   "cell_type": "code",
   "execution_count": 20,
   "metadata": {},
   "outputs": [],
   "source": [
    "def pct_work(App_G, filename, start_iterations, end_iterations):\n",
    "    App = ServerlessAppWorkflow(G=App_G.copy())\n",
    "    optimizer = PerfOpt(App, generate_perf_profile=False)\n",
    "    optimizer.get_perf_cost_table(file=filename, start_iterations=start_iterations, end_iterations=end_iterations)"
   ]
  },
  {
   "cell_type": "code",
   "execution_count": 21,
   "metadata": {},
   "outputs": [
    {
     "name": "stdout",
     "output_type": "stream",
     "text": [
      "Get Performance Cost Table - Task Size: 256\n"
     ]
    },
    {
     "name": "stderr",
     "output_type": "stream",
     "text": [
      "100%|██████████| 256/256 [00:00<00:00, 309.09it/s]\n"
     ]
    }
   ],
   "source": [
    "from multiprocessing import Process\n",
    "for i in range(number_of_workers):\n",
    "    p = Process(target=pct_work, args=(App2_G, pct_filename_list[i], pct_start_iterations_list[i], pct_end_iterations_list[i],))\n",
    "    p.start()"
   ]
  },
  {
   "cell_type": "markdown",
   "metadata": {},
   "source": [
    "### Process Performance Cost Table"
   ]
  },
  {
   "cell_type": "code",
   "execution_count": 22,
   "metadata": {},
   "outputs": [
    {
     "data": {
      "text/html": [
       "<div>\n",
       "<style scoped>\n",
       "    .dataframe tbody tr th:only-of-type {\n",
       "        vertical-align: middle;\n",
       "    }\n",
       "\n",
       "    .dataframe tbody tr th {\n",
       "        vertical-align: top;\n",
       "    }\n",
       "\n",
       "    .dataframe thead th {\n",
       "        text-align: right;\n",
       "    }\n",
       "</style>\n",
       "<table border=\"1\" class=\"dataframe\">\n",
       "  <thead>\n",
       "    <tr style=\"text-align: right;\">\n",
       "      <th></th>\n",
       "      <th>f1</th>\n",
       "      <th>f2</th>\n",
       "      <th>Cost</th>\n",
       "      <th>RT</th>\n",
       "    </tr>\n",
       "  </thead>\n",
       "  <tbody>\n",
       "    <tr>\n",
       "      <th>1</th>\n",
       "      <td>128.0</td>\n",
       "      <td>128.0</td>\n",
       "      <td>20.088889</td>\n",
       "      <td>9412.336222</td>\n",
       "    </tr>\n",
       "    <tr>\n",
       "      <th>2</th>\n",
       "      <td>128.0</td>\n",
       "      <td>320.0</td>\n",
       "      <td>20.333333</td>\n",
       "      <td>7470.678000</td>\n",
       "    </tr>\n",
       "    <tr>\n",
       "      <th>3</th>\n",
       "      <td>128.0</td>\n",
       "      <td>512.0</td>\n",
       "      <td>20.800000</td>\n",
       "      <td>6970.319667</td>\n",
       "    </tr>\n",
       "    <tr>\n",
       "      <th>4</th>\n",
       "      <td>128.0</td>\n",
       "      <td>704.0</td>\n",
       "      <td>21.026667</td>\n",
       "      <td>6759.525444</td>\n",
       "    </tr>\n",
       "    <tr>\n",
       "      <th>5</th>\n",
       "      <td>128.0</td>\n",
       "      <td>896.0</td>\n",
       "      <td>19.871111</td>\n",
       "      <td>6635.469333</td>\n",
       "    </tr>\n",
       "  </tbody>\n",
       "</table>\n",
       "</div>"
      ],
      "text/plain": [
       "      f1     f2       Cost           RT\n",
       "1  128.0  128.0  20.088889  9412.336222\n",
       "2  128.0  320.0  20.333333  7470.678000\n",
       "3  128.0  512.0  20.800000  6970.319667\n",
       "4  128.0  704.0  21.026667  6759.525444\n",
       "5  128.0  896.0  19.871111  6635.469333"
      ]
     },
     "execution_count": 22,
     "metadata": {},
     "output_type": "execute_result"
    }
   ],
   "source": [
    "perf_cost_data = pd.DataFrame()\n",
    "for filename in pct_filename_list:\n",
    "    data_parts = pd.read_csv(filename, error_bad_lines=False, warn_bad_lines=False,low_memory=False)\n",
    "    perf_cost_data = perf_cost_data.append(data_parts)\n",
    "perf_cost_data = perf_cost_data[['1','2','Cost','RT']]\n",
    "perf_cost_data.columns=['f1','f2','Cost','RT']\n",
    "perf_cost_data.index=range(1,perf_cost_data.shape[0]+1)\n",
    "perf_cost_data.head()"
   ]
  },
  {
   "cell_type": "code",
   "execution_count": 23,
   "metadata": {},
   "outputs": [
    {
     "name": "stdout",
     "output_type": "stream",
     "text": [
      "Minimal Cost:  19.66222222222222 per 1 million executions\n",
      "Maximal Cost:  60.29666666666666 per 1 million executions\n",
      "Minimal RT:  1054.2454444444445 ms\n",
      "Maximal RT:  9412.33622222222 ms\n"
     ]
    }
   ],
   "source": [
    "minimal_cost = perf_cost_data['Cost'].min()\n",
    "maximal_cost = perf_cost_data['Cost'].max()\n",
    "minimal_rt = perf_cost_data['RT'].min()\n",
    "maximal_rt = perf_cost_data['RT'].max()\n",
    "print('Minimal Cost: ', minimal_cost, 'per 1 million executions')\n",
    "print('Maximal Cost: ', maximal_cost, 'per 1 million executions')\n",
    "print('Minimal RT: ', minimal_rt, 'ms')\n",
    "print('Maximal RT: ', maximal_rt, 'ms')"
   ]
  },
  {
   "cell_type": "markdown",
   "metadata": {
    "toc-hr-collapsed": false
   },
   "source": [
    "## Optimization Curve"
   ]
  },
  {
   "cell_type": "markdown",
   "metadata": {},
   "source": [
    "### Get Optimization Curve Data"
   ]
  },
  {
   "cell_type": "markdown",
   "metadata": {},
   "source": [
    "#### Define Parameters"
   ]
  },
  {
   "cell_type": "code",
   "execution_count": 24,
   "metadata": {},
   "outputs": [],
   "source": [
    "App2_ocd_budget_num_of_points = 100\n",
    "App2_ocd_performance_constraint_num_of_points = 100\n",
    "App2_ocd_filenameprefix = 'opt_curve_data/App2'"
   ]
  },
  {
   "cell_type": "code",
   "execution_count": 25,
   "metadata": {},
   "outputs": [],
   "source": [
    "def ocd_work(App_G, filenameprefix, budget_num, performance_constraint_num):\n",
    "    App = ServerlessAppWorkflow(G=App_G.copy())\n",
    "    optimizer = PerfOpt(App, generate_perf_profile=False)\n",
    "    optimizer.get_opt_curve(filenameprefix=filenameprefix, budget_list=list(np.linspace(optimizer.minimal_cost, optimizer.maximal_cost, budget_num)), performance_constraint_list=list(np.linspace(optimizer.minimal_avg_rt, optimizer.maximal_avg_rt, performance_constraint_num)))"
   ]
  },
  {
   "cell_type": "markdown",
   "metadata": {},
   "source": [
    "#### Run Algorithms to get the curve"
   ]
  },
  {
   "cell_type": "code",
   "execution_count": 26,
   "metadata": {},
   "outputs": [],
   "source": [
    "%%capture\n",
    "ocd_work(App2_G, App2_ocd_filenameprefix, App2_ocd_budget_num_of_points, App2_ocd_performance_constraint_num_of_points)"
   ]
  },
  {
   "cell_type": "markdown",
   "metadata": {},
   "source": [
    "### Process Optimization Curve Data"
   ]
  },
  {
   "cell_type": "code",
   "execution_count": 28,
   "metadata": {},
   "outputs": [],
   "source": [
    "opt_curve_data_BPBC = pd.read_csv(App2_ocd_filenameprefix+'_BPBC.csv', error_bad_lines=False, warn_bad_lines=False,low_memory=False)\n",
    "opt_curve_data_BPBC = opt_curve_data_BPBC.assign(Best_Answer_RT=lambda opt_curve_data_BPBC: opt_curve_data_BPBC[['BCR_disabled_RT', 'BCR_RT/M_RT', 'BCR_ERT/C_RT', 'BCR_MAX_RT']].min(1))\n",
    "opt_curve_data_BCPC = pd.read_csv(App2_ocd_filenameprefix+'_BCPC.csv', error_bad_lines=False, warn_bad_lines=False,low_memory=False)\n",
    "opt_curve_data_BCPC = opt_curve_data_BCPC.assign(Best_Answer_Cost=lambda opt_curve_data_BCPC: opt_curve_data_BCPC[['BCR_disabled_Cost', 'BCR_M/RT_Cost', 'BCR_C/ERT_Cost', 'BCR_MAX_Cost']].min(1))"
   ]
  },
  {
   "cell_type": "code",
   "execution_count": 29,
   "metadata": {},
   "outputs": [
    {
     "data": {
      "text/html": [
       "<div>\n",
       "<style scoped>\n",
       "    .dataframe tbody tr th:only-of-type {\n",
       "        vertical-align: middle;\n",
       "    }\n",
       "\n",
       "    .dataframe tbody tr th {\n",
       "        vertical-align: top;\n",
       "    }\n",
       "\n",
       "    .dataframe thead th {\n",
       "        text-align: right;\n",
       "    }\n",
       "</style>\n",
       "<table border=\"1\" class=\"dataframe\">\n",
       "  <thead>\n",
       "    <tr style=\"text-align: right;\">\n",
       "      <th></th>\n",
       "      <th>Budget</th>\n",
       "      <th>BCR_disabled_RT</th>\n",
       "      <th>BCR_RT/M_RT</th>\n",
       "      <th>BCR_ERT/C_RT</th>\n",
       "      <th>BCR_MAX_RT</th>\n",
       "      <th>BCR_disabled_Cost</th>\n",
       "      <th>BCR_RT/M_Cost</th>\n",
       "      <th>BCR_ERT/C_Cost</th>\n",
       "      <th>BCR_MAX_Cost</th>\n",
       "      <th>BCR_disabled_Config</th>\n",
       "      <th>BCR_RT/M_Config</th>\n",
       "      <th>BCR_ERT/C_Config</th>\n",
       "      <th>BCR_MAX_Config</th>\n",
       "      <th>BCR_disabled_Iterations</th>\n",
       "      <th>BCR_RT/M_Iterations</th>\n",
       "      <th>BCR_ERT/C_Iterations</th>\n",
       "      <th>BCR_MAX_Iterations</th>\n",
       "      <th>BCR_threshold</th>\n",
       "      <th>Best_Answer_RT</th>\n",
       "    </tr>\n",
       "  </thead>\n",
       "  <tbody>\n",
       "    <tr>\n",
       "      <th>0</th>\n",
       "      <td>20.088889</td>\n",
       "      <td>1352.747667</td>\n",
       "      <td>1352.747667</td>\n",
       "      <td>9412.336222</td>\n",
       "      <td>1352.747667</td>\n",
       "      <td>19.897778</td>\n",
       "      <td>19.897778</td>\n",
       "      <td>20.088889</td>\n",
       "      <td>19.897778</td>\n",
       "      <td>{1: 896, 2: 896}</td>\n",
       "      <td>{1: 896, 2: 896}</td>\n",
       "      <td>{1: 128, 2: 128}</td>\n",
       "      <td>{1: 896, 2: 896}</td>\n",
       "      <td>4.0</td>\n",
       "      <td>4.0</td>\n",
       "      <td>1.0</td>\n",
       "      <td>3.0</td>\n",
       "      <td>0.2</td>\n",
       "      <td>1352.747667</td>\n",
       "    </tr>\n",
       "    <tr>\n",
       "      <th>1</th>\n",
       "      <td>20.495028</td>\n",
       "      <td>1210.489333</td>\n",
       "      <td>1210.489333</td>\n",
       "      <td>4129.614556</td>\n",
       "      <td>1210.489333</td>\n",
       "      <td>20.360000</td>\n",
       "      <td>20.360000</td>\n",
       "      <td>20.115556</td>\n",
       "      <td>20.360000</td>\n",
       "      <td>{1: 896, 2: 1280}</td>\n",
       "      <td>{1: 896, 2: 1280}</td>\n",
       "      <td>{1: 896, 2: 128}</td>\n",
       "      <td>{1: 896, 2: 1280}</td>\n",
       "      <td>3.0</td>\n",
       "      <td>3.0</td>\n",
       "      <td>2.0</td>\n",
       "      <td>3.0</td>\n",
       "      <td>0.2</td>\n",
       "      <td>1210.489333</td>\n",
       "    </tr>\n",
       "  </tbody>\n",
       "</table>\n",
       "</div>"
      ],
      "text/plain": [
       "      Budget  BCR_disabled_RT  BCR_RT/M_RT  BCR_ERT/C_RT   BCR_MAX_RT  \\\n",
       "0  20.088889      1352.747667  1352.747667   9412.336222  1352.747667   \n",
       "1  20.495028      1210.489333  1210.489333   4129.614556  1210.489333   \n",
       "\n",
       "   BCR_disabled_Cost  BCR_RT/M_Cost  BCR_ERT/C_Cost  BCR_MAX_Cost  \\\n",
       "0          19.897778      19.897778       20.088889     19.897778   \n",
       "1          20.360000      20.360000       20.115556     20.360000   \n",
       "\n",
       "  BCR_disabled_Config    BCR_RT/M_Config  BCR_ERT/C_Config     BCR_MAX_Config  \\\n",
       "0    {1: 896, 2: 896}   {1: 896, 2: 896}  {1: 128, 2: 128}   {1: 896, 2: 896}   \n",
       "1   {1: 896, 2: 1280}  {1: 896, 2: 1280}  {1: 896, 2: 128}  {1: 896, 2: 1280}   \n",
       "\n",
       "   BCR_disabled_Iterations  BCR_RT/M_Iterations  BCR_ERT/C_Iterations  \\\n",
       "0                      4.0                  4.0                   1.0   \n",
       "1                      3.0                  3.0                   2.0   \n",
       "\n",
       "   BCR_MAX_Iterations  BCR_threshold  Best_Answer_RT  \n",
       "0                 3.0            0.2     1352.747667  \n",
       "1                 3.0            0.2     1210.489333  "
      ]
     },
     "execution_count": 29,
     "metadata": {},
     "output_type": "execute_result"
    }
   ],
   "source": [
    "opt_curve_data_BPBC.head(2)"
   ]
  },
  {
   "cell_type": "code",
   "execution_count": 30,
   "metadata": {},
   "outputs": [
    {
     "data": {
      "text/html": [
       "<div>\n",
       "<style scoped>\n",
       "    .dataframe tbody tr th:only-of-type {\n",
       "        vertical-align: middle;\n",
       "    }\n",
       "\n",
       "    .dataframe tbody tr th {\n",
       "        vertical-align: top;\n",
       "    }\n",
       "\n",
       "    .dataframe thead th {\n",
       "        text-align: right;\n",
       "    }\n",
       "</style>\n",
       "<table border=\"1\" class=\"dataframe\">\n",
       "  <thead>\n",
       "    <tr style=\"text-align: right;\">\n",
       "      <th></th>\n",
       "      <th>Performance_Constraint</th>\n",
       "      <th>BCR_disabled_RT</th>\n",
       "      <th>BCR_M/RT_RT</th>\n",
       "      <th>BCR_C/ERT_RT</th>\n",
       "      <th>BCR_MAX_RT</th>\n",
       "      <th>BCR_disabled_Cost</th>\n",
       "      <th>BCR_M/RT_Cost</th>\n",
       "      <th>BCR_C/ERT_Cost</th>\n",
       "      <th>BCR_MAX_Cost</th>\n",
       "      <th>BCR_disabled_Config</th>\n",
       "      <th>BCR_M/RT_Config</th>\n",
       "      <th>BCR_C/ERT_Config</th>\n",
       "      <th>BCR_MAX_Config</th>\n",
       "      <th>BCR_disabled_Iterations</th>\n",
       "      <th>BCR_M/RT_Iterations</th>\n",
       "      <th>BCR_C/ERT_Iterations</th>\n",
       "      <th>BCR_MAX_Iterations</th>\n",
       "      <th>BCR_threshold</th>\n",
       "      <th>Best_Answer_Cost</th>\n",
       "    </tr>\n",
       "  </thead>\n",
       "  <tbody>\n",
       "    <tr>\n",
       "      <th>0</th>\n",
       "      <td>1140.527889</td>\n",
       "      <td>1136.237667</td>\n",
       "      <td>1136.237667</td>\n",
       "      <td>1136.237667</td>\n",
       "      <td>1136.237667</td>\n",
       "      <td>23.483333</td>\n",
       "      <td>23.483333</td>\n",
       "      <td>23.483333</td>\n",
       "      <td>23.483333</td>\n",
       "      <td>{1: 896, 2: 1856}</td>\n",
       "      <td>{1: 896, 2: 1856}</td>\n",
       "      <td>{1: 896, 2: 1856}</td>\n",
       "      <td>{1: 896, 2: 1856}</td>\n",
       "      <td>3.0</td>\n",
       "      <td>3.0</td>\n",
       "      <td>3.0</td>\n",
       "      <td>8.0</td>\n",
       "      <td>0.2</td>\n",
       "      <td>23.483333</td>\n",
       "    </tr>\n",
       "    <tr>\n",
       "      <th>1</th>\n",
       "      <td>1224.081508</td>\n",
       "      <td>1210.489333</td>\n",
       "      <td>1210.489333</td>\n",
       "      <td>1210.489333</td>\n",
       "      <td>1210.489333</td>\n",
       "      <td>20.360000</td>\n",
       "      <td>20.360000</td>\n",
       "      <td>20.360000</td>\n",
       "      <td>20.360000</td>\n",
       "      <td>{1: 896, 2: 1280}</td>\n",
       "      <td>{1: 896, 2: 1280}</td>\n",
       "      <td>{1: 896, 2: 1280}</td>\n",
       "      <td>{1: 896, 2: 1280}</td>\n",
       "      <td>3.0</td>\n",
       "      <td>3.0</td>\n",
       "      <td>3.0</td>\n",
       "      <td>9.0</td>\n",
       "      <td>0.2</td>\n",
       "      <td>20.360000</td>\n",
       "    </tr>\n",
       "  </tbody>\n",
       "</table>\n",
       "</div>"
      ],
      "text/plain": [
       "   Performance_Constraint  BCR_disabled_RT  BCR_M/RT_RT  BCR_C/ERT_RT  \\\n",
       "0             1140.527889      1136.237667  1136.237667   1136.237667   \n",
       "1             1224.081508      1210.489333  1210.489333   1210.489333   \n",
       "\n",
       "    BCR_MAX_RT  BCR_disabled_Cost  BCR_M/RT_Cost  BCR_C/ERT_Cost  \\\n",
       "0  1136.237667          23.483333      23.483333       23.483333   \n",
       "1  1210.489333          20.360000      20.360000       20.360000   \n",
       "\n",
       "   BCR_MAX_Cost BCR_disabled_Config    BCR_M/RT_Config   BCR_C/ERT_Config  \\\n",
       "0     23.483333   {1: 896, 2: 1856}  {1: 896, 2: 1856}  {1: 896, 2: 1856}   \n",
       "1     20.360000   {1: 896, 2: 1280}  {1: 896, 2: 1280}  {1: 896, 2: 1280}   \n",
       "\n",
       "      BCR_MAX_Config  BCR_disabled_Iterations  BCR_M/RT_Iterations  \\\n",
       "0  {1: 896, 2: 1856}                      3.0                  3.0   \n",
       "1  {1: 896, 2: 1280}                      3.0                  3.0   \n",
       "\n",
       "   BCR_C/ERT_Iterations  BCR_MAX_Iterations  BCR_threshold  Best_Answer_Cost  \n",
       "0                   3.0                 8.0            0.2         23.483333  \n",
       "1                   3.0                 9.0            0.2         20.360000  "
      ]
     },
     "execution_count": 30,
     "metadata": {},
     "output_type": "execute_result"
    }
   ],
   "source": [
    "opt_curve_data_BCPC.head(2)"
   ]
  },
  {
   "cell_type": "code",
   "execution_count": 31,
   "metadata": {},
   "outputs": [],
   "source": [
    "best_rt = [perf_cost_data.query(\"Cost<={}\".format(item))['RT'].min() for item in opt_curve_data_BPBC['Budget']]\n",
    "best_cost = [perf_cost_data.query(\"RT<={}\".format(item))['Cost'].min() for item in opt_curve_data_BCPC['Performance_Constraint']]\n",
    "BPBC_accuracy = 100-(opt_curve_data_BPBC['Best_Answer_RT']-best_rt)/opt_curve_data_BPBC['Best_Answer_RT']*100\n",
    "BCPC_accuracy = 100-(opt_curve_data_BCPC['Best_Answer_Cost']-best_cost)/opt_curve_data_BCPC['Best_Answer_Cost']*100"
   ]
  },
  {
   "cell_type": "code",
   "execution_count": 35,
   "metadata": {},
   "outputs": [],
   "source": [
    "with open('results.json', 'w', encoding='utf-8') as f:\n",
    "    json.dump({\n",
    "               \"BPBC_BCR_disabled_Iterations\":opt_curve_data_BPBC[\"BCR_disabled_Iterations\"].mean(),\n",
    "               \"BPBC_BCR_RT/M_Iterations\":opt_curve_data_BPBC[\"BCR_RT/M_Iterations\"].mean(),\n",
    "               \"BPBC_BCR_ERT/C_Iterations\":opt_curve_data_BPBC[\"BCR_ERT/C_Iterations\"].mean(),\n",
    "               \"BPBC_BCR_MAX_Iterations\":opt_curve_data_BPBC[\"BCR_MAX_Iterations\"].mean(),\n",
    "               \"BCPC_BCR_disabled_Iterations\":opt_curve_data_BCPC[\"BCR_disabled_Iterations\"].mean(),\n",
    "               \"BCPC_BCR_M/RT_Iterations\":opt_curve_data_BCPC[\"BCR_M/RT_Iterations\"].mean(),\n",
    "               \"BCPC_BCR_C/ERT_Iterations\":opt_curve_data_BCPC[\"BCR_C/ERT_Iterations\"].mean(),\n",
    "               \"BCPC_BCR_MAX_Iterations\":opt_curve_data_BCPC[\"BCR_MAX_Iterations\"].mean()\n",
    "              }, f, ensure_ascii=False, indent=4)"
   ]
  },
  {
   "cell_type": "markdown",
   "metadata": {},
   "source": [
    "### BPBC Problem"
   ]
  },
  {
   "cell_type": "code",
   "execution_count": 39,
   "metadata": {},
   "outputs": [
    {
     "data": {
      "image/png": "[encoded data removed]",
      "text/plain": [
       "<Figure size 576x576 with 2 Axes>"
      ]
     },
     "metadata": {
      "needs_background": "light"
     },
     "output_type": "display_data"
    }
   ],
   "source": [
    "fig=plt.figure(figsize=(8,8))\n",
    "ax=plt.subplot(111)\n",
    "ax.grid()\n",
    "ax.plot(opt_curve_data_BPBC['Budget'], opt_curve_data_BPBC['BCR_disabled_RT'], marker='o', label='BCR Disabled')\n",
    "ax.plot(opt_curve_data_BPBC['Budget'], opt_curve_data_BPBC['BCR_RT/M_RT'], marker='o', label='BCR RT/M') \n",
    "ax.plot(opt_curve_data_BPBC['Budget'], opt_curve_data_BPBC['BCR_ERT/C_RT'], marker='o', label='BCR ERT/C') \n",
    "ax.plot(opt_curve_data_BPBC['Budget'], opt_curve_data_BPBC['BCR_MAX_RT'], marker='o', label='BCR MAX') \n",
    "ax.plot(opt_curve_data_BPBC['Budget'], opt_curve_data_BPBC['Best_Answer_RT'] , marker='o', label='Best Answer') \n",
    "ax.plot(opt_curve_data_BPBC['Budget'], best_rt, marker='o', label='Ideal BPBC Solution') \n",
    "ax.legend()\n",
    "ax.set_xlabel('Cost in $')\n",
    "ax.set_ylabel('End-to-end Response time in ms')\n",
    "ax2 = ax.twinx()\n",
    "ax2.plot(opt_curve_data_BPBC['Budget'], BPBC_accuracy, marker = 'x', label='Accuracy', color='magenta')\n",
    "ax2.legend(loc='center right')\n",
    "ax2.set_ylim(0,100)\n",
    "ax2.set_ylabel('Accuracy in Percentage')\n",
    "fig.savefig('App2_Optimization_Curve_BPBC', dpi=300)\n",
    "fig.savefig('App2_Optimization_Curve_BPBC.pdf')"
   ]
  },
  {
   "cell_type": "markdown",
   "metadata": {},
   "source": [
    "### BCPC Problem"
   ]
  },
  {
   "cell_type": "code",
   "execution_count": 40,
   "metadata": {},
   "outputs": [
    {
     "data": {
      "image/png": "[encoded data removed]",
      "text/plain": [
       "<Figure size 576x576 with 2 Axes>"
      ]
     },
     "metadata": {
      "needs_background": "light"
     },
     "output_type": "display_data"
    }
   ],
   "source": [
    "fig=plt.figure(figsize=(8,8))\n",
    "ax=plt.subplot(111)\n",
    "ax.grid()\n",
    "ax.plot(opt_curve_data_BCPC['Performance_Constraint'], opt_curve_data_BCPC['BCR_disabled_Cost'], marker='o', label='BCR Disabled')\n",
    "ax.plot(opt_curve_data_BCPC['Performance_Constraint'], opt_curve_data_BCPC['BCR_M/RT_Cost'], marker='o', label='BCR M/RT') \n",
    "ax.plot(opt_curve_data_BCPC['Performance_Constraint'], opt_curve_data_BCPC['BCR_C/ERT_Cost'], marker='o', label='BCR C/ERT') \n",
    "ax.plot(opt_curve_data_BCPC['Performance_Constraint'], opt_curve_data_BCPC['BCR_MAX_Cost'], marker='o', label='BCR MAX') \n",
    "ax.plot(opt_curve_data_BCPC['Performance_Constraint'], opt_curve_data_BCPC['Best_Answer_Cost'] , marker='o', label='Best Answer') \n",
    "ax.plot(opt_curve_data_BCPC['Performance_Constraint'], best_cost, marker='o', label='Ideal BCPC Solution') \n",
    "ax.legend()\n",
    "ax.set_xlabel('End-to-end Response time in ms')\n",
    "ax.set_ylabel('Cost in $')\n",
    "ax2 = ax.twinx()\n",
    "ax2.plot(opt_curve_data_BCPC['Performance_Constraint'], BCPC_accuracy, marker = 'x', label='Accuracy', color='magenta')\n",
    "ax2.legend(loc='center right')\n",
    "ax2.set_ylim(0,100)\n",
    "ax2.set_ylabel('Accuracy in Percentage')\n",
    "fig.savefig('App2_Optimization_Curve_BCPC', dpi=300)\n",
    "fig.savefig('App2_Optimization_Curve_BCPC.pdf')"
   ]
  },
  {
   "cell_type": "code",
   "execution_count": null,
   "metadata": {},
   "outputs": [],
   "source": []
  }
 ],
 "metadata": {
  "kernelspec": {
   "display_name": "Python 3.7.6",
   "language": "python",
   "name": "python3.7"
  },
  "language_info": {
   "codemirror_mode": {
    "name": "ipython",
    "version": 3
   },
   "file_extension": ".py",
   "mimetype": "text/x-python",
   "name": "python",
   "nbconvert_exporter": "python",
   "pygments_lexer": "ipython3",
   "version": "3.7.6"
  }
 },
 "nbformat": 4,
 "nbformat_minor": 4
}
