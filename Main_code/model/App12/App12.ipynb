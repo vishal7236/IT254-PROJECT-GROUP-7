{
 "cells": [
  {
   "cell_type": "markdown",
   "metadata": {},
   "source": [
    "# App12"
   ]
  },
  {
   "cell_type": "markdown",
   "metadata": {},
   "source": [
    "* A complex App with 12 functions.\n",
    "* There are 2 branches, 2 parallels, 1 cycle, and 1 self-loop in App12"
   ]
  },
  {
   "cell_type": "code",
   "execution_count": 1,
   "metadata": {},
   "outputs": [],
   "source": [
    "import os\n",
    "from io import BytesIO\n",
    "import time\n",
    "import zipfile\n",
    "import numpy as np\n",
    "import boto3\n",
    "from tqdm import tqdm\n",
    "from datetime import datetime, timezone\n",
    "from time import gmtime, strftime\n",
    "import json\n",
    "import pandas as pd\n",
    "import matplotlib.pyplot as plt"
   ]
  },
  {
   "cell_type": "code",
   "execution_count": 2,
   "metadata": {},
   "outputs": [],
   "source": [
    "client = boto3.client('lambda')"
   ]
  },
  {
   "cell_type": "code",
   "execution_count": 3,
   "metadata": {},
   "outputs": [],
   "source": [
    "function_prefix='App12'"
   ]
  },
  {
   "cell_type": "code",
   "execution_count": 4,
   "metadata": {},
   "outputs": [],
   "source": [
    "function_number = 12"
   ]
  },
  {
   "cell_type": "code",
   "execution_count": 5,
   "metadata": {},
   "outputs": [],
   "source": [
    "# The difference between UTC and local timezone\n",
    "timezone_offset = -7"
   ]
  },
  {
   "cell_type": "markdown",
   "metadata": {},
   "source": [
    "## Create Functions of App12"
   ]
  },
  {
   "cell_type": "markdown",
   "metadata": {},
   "source": [
    "### Function Name List"
   ]
  },
  {
   "cell_type": "code",
   "execution_count": 6,
   "metadata": {},
   "outputs": [
    {
     "name": "stdout",
     "output_type": "stream",
     "text": [
      "['App12_f1', 'App12_f2', 'App12_f3', 'App12_f4', 'App12_f5', 'App12_f6', 'App12_f7', 'App12_f8', 'App12_f9', 'App12_f10', 'App12_f11', 'App12_f12']\n"
     ]
    }
   ],
   "source": [
    "function_name_list = [function_prefix+'_f'+str(i) for i in range(1, function_number+1)]\n",
    "print(function_name_list)"
   ]
  },
  {
   "cell_type": "markdown",
   "metadata": {},
   "source": [
    "### Send Requests to Create Lambda Functions"
   ]
  },
  {
   "cell_type": "code",
   "execution_count": 8,
   "metadata": {},
   "outputs": [
    {
     "name": "stdout",
     "output_type": "stream",
     "text": [
      "['Successful', 'Successful', 'Successful', 'Successful', 'Successful', 'Successful', 'Successful', 'Successful', 'Successful', 'Successful', 'Successful', 'Successful']\n"
     ]
    }
   ],
   "source": [
    "function_creation_response = []\n",
    "for function in function_name_list:\n",
    "    response = client.create_function(\n",
    "        FunctionName=function,\n",
    "        Runtime='python3.7',\n",
    "        Role='arn:aws:iam::646551611971:role/ServerlessAppPerfOpt',\n",
    "        Handler='lambda_function.lambda_handler',\n",
    "        Code={\n",
    "            'ZipFile': b\"PK\\x03\\x04\\x14\\x00\\x00\\x00\\x00\\x00\\xf3s;P\\x84\\xf0r\\x96Z\\x00\\x00\\x00Z\\x00\\x00\\x00\\x12\\x00\\x00\\x00lambda_function.pydef lambda_handler(event, context):\\n    pass\\n    return {\\n        'statusCode': 200\\n    }\\nPK\\x03\\x04\\x14\\x00\\x00\\x00\\x00\\x00\\x05q;P\\x00\\x00\\x00\\x00\\x00\\x00\\x00\\x00\\x00\\x00\\x00\\x00\\x13\\x00\\x00\\x00.ipynb_checkpoints/PK\\x01\\x02\\x14\\x03\\x14\\x00\\x00\\x00\\x00\\x00\\xf3s;P\\x84\\xf0r\\x96Z\\x00\\x00\\x00Z\\x00\\x00\\x00\\x12\\x00\\x00\\x00\\x00\\x00\\x00\\x00\\x00\\x00\\x00\\x00\\xb4\\x81\\x00\\x00\\x00\\x00lambda_function.pyPK\\x01\\x02\\x14\\x03\\x14\\x00\\x00\\x00\\x00\\x00\\x05q;P\\x00\\x00\\x00\\x00\\x00\\x00\\x00\\x00\\x00\\x00\\x00\\x00\\x13\\x00\\x00\\x00\\x00\\x00\\x00\\x00\\x00\\x00\\x10\\x00\\xfdA\\x8a\\x00\\x00\\x00.ipynb_checkpoints/PK\\x05\\x06\\x00\\x00\\x00\\x00\\x02\\x00\\x02\\x00\\x81\\x00\\x00\\x00\\xbb\\x00\\x00\\x00\\x00\\x00\"\n",
    "        },\n",
    "        Description='Analytical Model Evaluation {}'.format(function),\n",
    "        Timeout=60,\n",
    "        MemorySize=128\n",
    "    )\n",
    "    function_creation_response.append(response)\n",
    "    time.sleep(0.1)\n",
    "print([item['LastUpdateStatus'] for item in function_creation_response])"
   ]
  },
  {
   "cell_type": "markdown",
   "metadata": {},
   "source": [
    "## Update all Functions in App12"
   ]
  },
  {
   "cell_type": "markdown",
   "metadata": {},
   "source": [
    "### Update Function Code"
   ]
  },
  {
   "cell_type": "code",
   "execution_count": 9,
   "metadata": {},
   "outputs": [],
   "source": [
    "functions=[]\n",
    "for file in os.listdir('functions'):\n",
    "    path=os.path.abspath(os.path.join(os.path.dirname('__file__'), 'functions/'+file))\n",
    "    if not file.startswith('.') and os.path.isdir(path):\n",
    "        functions.append(file)\n",
    "for function_folder in functions:\n",
    "    buf = BytesIO()\n",
    "    with zipfile.ZipFile(buf, 'w') as z:\n",
    "        for file in os.listdir('functions/'+function_folder):\n",
    "            z.write(os.path.abspath(os.path.join(os.path.dirname('__file__'), 'functions/{}/{}'.format(function_folder,file))), os.path.basename(os.path.join(os.path.dirname('__file__'), 'functions/{}/{}'.format(function_folder,file))))\n",
    "    buf.seek(0)\n",
    "    pkg = buf.read()\n",
    "    client.update_function_code(FunctionName='{}_{}'.format(function_prefix, function_folder),ZipFile=pkg)"
   ]
  },
  {
   "cell_type": "markdown",
   "metadata": {},
   "source": [
    "### Update Function Memory Configuration\n",
    "* Available Memory Configurations: 128, 192, 256, 320, 384, 448, 512, 576, 640, 704, 768, 832, 896, 960, 1024, 1088, 1152, 1216, 1280, 1344, 1408, 1472, 1536, 1600, 1664, 1728, 1792, 1856, 1920, 1984, 2048, 2112, 2176, 2240, 2304, 2368, 2432, 2496, 2560, 2624, 2688, 2752, 2816, 2880, 2944, 3008\n"
   ]
  },
  {
   "cell_type": "code",
   "execution_count": 7,
   "metadata": {},
   "outputs": [],
   "source": [
    "mem_config_list={\n",
    "    'f1':1536,\n",
    "    'f2':1792,\n",
    "    'f3':576,\n",
    "    'f4':2240,\n",
    "    'f5':896,\n",
    "    'f6':1728,\n",
    "    'f7':128,\n",
    "    'f8':128,\n",
    "    'f9':256,\n",
    "    'f10':320,\n",
    "    'f11':1920,\n",
    "    'f12':1984\n",
    "}"
   ]
  },
  {
   "cell_type": "code",
   "execution_count": 11,
   "metadata": {},
   "outputs": [],
   "source": [
    "for function in mem_config_list.keys():\n",
    "    client.update_function_configuration(FunctionName='{}_{}'.format(function_prefix, function), MemorySize=mem_config_list[function])"
   ]
  },
  {
   "cell_type": "markdown",
   "metadata": {},
   "source": [
    "## Execute the Application"
   ]
  },
  {
   "cell_type": "code",
   "execution_count": 12,
   "metadata": {},
   "outputs": [],
   "source": [
    "sfn_client = boto3.client('stepfunctions')"
   ]
  },
  {
   "cell_type": "code",
   "execution_count": 14,
   "metadata": {},
   "outputs": [],
   "source": [
    "stateMachineArn='arn:aws:states:us-east-2:646551611971:stateMachine:App12'"
   ]
  },
  {
   "cell_type": "markdown",
   "metadata": {},
   "source": [
    "### Test run"
   ]
  },
  {
   "cell_type": "code",
   "execution_count": 15,
   "metadata": {},
   "outputs": [
    {
     "data": {
      "text/plain": [
       "{'executionArn': 'arn:aws:states:us-east-2:499537426559:express:App12:fa175ea8-e106-4270-aecc-253cdb95cf77:b71217a4-d9f4-4913-bcbc-25077c8e8ca7',\n",
       " 'startDate': datetime.datetime(2020, 1, 29, 19, 26, 46, 91000, tzinfo=tzlocal()),\n",
       " 'ResponseMetadata': {'RequestId': '9fb3ddff-da50-40bf-b1e7-8d1e2d5693ac',\n",
       "  'HTTPStatusCode': 200,\n",
       "  'HTTPHeaders': {'x-amzn-requestid': '9fb3ddff-da50-40bf-b1e7-8d1e2d5693ac',\n",
       "   'content-type': 'application/x-amz-json-1.0',\n",
       "   'content-length': '173'},\n",
       "  'RetryAttempts': 0}}"
      ]
     },
     "execution_count": 15,
     "metadata": {},
     "output_type": "execute_result"
    }
   ],
   "source": [
    "sfn_client.start_execution(\n",
    "    stateMachineArn=stateMachineArn,\n",
    "    input=\"{\\\"para1\\\":96, \\\"para2\\\":[1,2,3,4,100], \\\"para3\\\":[1,100], \\\"para4\\\":64}\"\n",
    ")"
   ]
  },
  {
   "cell_type": "markdown",
   "metadata": {},
   "source": [
    "### Execute App12"
   ]
  },
  {
   "cell_type": "markdown",
   "metadata": {},
   "source": [
    "* Execute App12 for 5 periods.\n",
    "* Execute App12 for 720 times in each exuection period\n",
    "* The interval between executions is 10 seconds.\n",
    "* The interval between each execution periods is 2 hours (7200 seconds)."
   ]
  },
  {
   "cell_type": "code",
   "execution_count": 16,
   "metadata": {},
   "outputs": [],
   "source": [
    "np.random.seed(64)"
   ]
  },
  {
   "cell_type": "code",
   "execution_count": 17,
   "metadata": {},
   "outputs": [
    {
     "name": "stdout",
     "output_type": "stream",
     "text": [
      "Execution Period 1 Timestamp: 1580351336.7936165 UTC: 30 Jan 2020 02:28:56 +0000\n"
     ]
    },
    {
     "name": "stderr",
     "output_type": "stream",
     "text": [
      "100%|██████████| 720/720 [2:02:21<00:00, 10.20s/it]  \n"
     ]
    },
    {
     "name": "stdout",
     "output_type": "stream",
     "text": [
      "Execution Period 2 Timestamp: 1580365879.0981343 UTC: 30 Jan 2020 06:31:19 +0000\n"
     ]
    },
    {
     "name": "stderr",
     "output_type": "stream",
     "text": [
      "100%|██████████| 720/720 [2:02:18<00:00, 10.19s/it]  \n"
     ]
    },
    {
     "name": "stdout",
     "output_type": "stream",
     "text": [
      "Execution Period 3 Timestamp: 1580380419.0727472 UTC: 30 Jan 2020 10:33:39 +0000\n"
     ]
    },
    {
     "name": "stderr",
     "output_type": "stream",
     "text": [
      "100%|██████████| 720/720 [2:02:18<00:00, 10.19s/it]  \n"
     ]
    },
    {
     "name": "stdout",
     "output_type": "stream",
     "text": [
      "Execution Period 4 Timestamp: 1580394958.4936492 UTC: 30 Jan 2020 14:35:58 +0000\n"
     ]
    },
    {
     "name": "stderr",
     "output_type": "stream",
     "text": [
      "100%|██████████| 720/720 [2:02:21<00:00, 10.20s/it]  \n"
     ]
    },
    {
     "name": "stdout",
     "output_type": "stream",
     "text": [
      "Execution Period 5 Timestamp: 1580409501.5316503 UTC: 30 Jan 2020 18:38:21 +0000\n"
     ]
    },
    {
     "name": "stderr",
     "output_type": "stream",
     "text": [
      "100%|██████████| 720/720 [2:02:42<00:00, 10.23s/it]  \n"
     ]
    }
   ],
   "source": [
    "for period in range(1, 6):\n",
    "    print('Execution Period {} Timestamp: {} UTC: {}'.format(period,time.time(),strftime(\"%d %b %Y %H:%M:%S +0000\", gmtime())))\n",
    "    time.sleep(1)\n",
    "    for i in tqdm(range(720)):\n",
    "        time.sleep(10)\n",
    "        input_str=\"{\"+ \"\\\"para1\\\":{}, \\\"para2\\\":{}, \\\"para3\\\":{}, \\\"para4\\\":{}\".format(\n",
    "            np.random.randint(1, 101),\n",
    "            list(np.random.randint(1, 101, 20)), \n",
    "            list(np.random.randint(1, 101, 20)),\n",
    "            np.random.randint(1, 101)\n",
    "        ) +\"}\"\n",
    "        sfn_client.start_execution(\n",
    "            stateMachineArn=stateMachineArn,\n",
    "            input=input_str\n",
    "        )\n",
    "    if(period!=5):\n",
    "        time.sleep(7200)"
   ]
  },
  {
   "cell_type": "markdown",
   "metadata": {
    "toc-hr-collapsed": false
   },
   "source": [
    "## CloudWatch Logs"
   ]
  },
  {
   "cell_type": "code",
   "execution_count": 18,
   "metadata": {},
   "outputs": [],
   "source": [
    "logclient = boto3.client('logs')"
   ]
  },
  {
   "cell_type": "markdown",
   "metadata": {
    "toc-hr-collapsed": false
   },
   "source": [
    "### Query App12 Step Functions Logs"
   ]
  },
  {
   "cell_type": "markdown",
   "metadata": {},
   "source": [
    "#### Define Timestamps"
   ]
  },
  {
   "cell_type": "code",
   "execution_count": 8,
   "metadata": {},
   "outputs": [],
   "source": [
    "startTime_sfn_App12=int(datetime.timestamp(datetime(year=2021,month=4,day=15,hour=2,minute=28,second=54,tzinfo=timezone.utc)))\n",
    "endTime_sfn_App12=int(datetime.timestamp(datetime(year=2021,month=4,day=15,hour=20,minute=44,second=0,tzinfo=timezone.utc)))"
   ]
  },
  {
   "cell_type": "code",
   "execution_count": 9,
   "metadata": {},
   "outputs": [],
   "source": [
    "execution_start_index = [60 + 720*i for i in range(5)]\n",
    "execution_end_index = [item + 600 for item in execution_start_index]"
   ]
  },
  {
   "cell_type": "code",
   "execution_count": 10,
   "metadata": {},
   "outputs": [
    {
     "data": {
      "text/plain": [
       "[60, 780, 1500, 2220, 2940]"
      ]
     },
     "execution_count": 10,
     "metadata": {},
     "output_type": "execute_result"
    }
   ],
   "source": [
    "execution_start_index"
   ]
  },
  {
   "cell_type": "code",
   "execution_count": 11,
   "metadata": {},
   "outputs": [
    {
     "data": {
      "text/plain": [
       "[660, 1380, 2100, 2820, 3540]"
      ]
     },
     "execution_count": 11,
     "metadata": {},
     "output_type": "execute_result"
    }
   ],
   "source": [
    "execution_end_index"
   ]
  },
  {
   "cell_type": "markdown",
   "metadata": {},
   "source": [
    "#### Query CloudWatch Logs"
   ]
  },
  {
   "cell_type": "code",
   "execution_count": 23,
   "metadata": {},
   "outputs": [],
   "source": [
    "query_sfn_App12 = logclient.start_query(\n",
    "    logGroupName='/aws/states/{}-Logs'.format('App12'),\n",
    "    queryString=\"fields type, @timestamp| filter type = 'ExecutionStarted' or type = 'ExecutionSucceeded' | sort id desc\",\n",
    "    startTime=startTime_sfn_App12,\n",
    "    endTime=endTime_sfn_App12,\n",
    "    limit = 10000\n",
    ")"
   ]
  },
  {
   "cell_type": "code",
   "execution_count": 24,
   "metadata": {},
   "outputs": [],
   "source": [
    "query_results_sfn_App12 = logclient.get_query_results(\n",
    "    queryId=query_sfn_App12['queryId']\n",
    ")"
   ]
  },
  {
   "cell_type": "code",
   "execution_count": 25,
   "metadata": {},
   "outputs": [],
   "source": [
    "App12_starttimestamp=np.sort([datetime.timestamp(datetime.strptime(item[1]['value'], '%Y-%m-%d %H:%M:%S.%f'))+timezone_offset*3600 for item in query_results_sfn_App12['results'] if item[0]['value']=='ExecutionStarted'])\n",
    "App12_endtimestamp=np.sort([datetime.timestamp(datetime.strptime(item[1]['value'], '%Y-%m-%d %H:%M:%S.%f'))+timezone_offset*3600 for item in query_results_sfn_App12['results'] if item[0]['value']=='ExecutionSucceeded'])"
   ]
  },
  {
   "cell_type": "code",
   "execution_count": 26,
   "metadata": {},
   "outputs": [],
   "source": [
    "pd.DataFrame({'Start': App12_starttimestamp, 'End':App12_endtimestamp}).to_csv('App12_SFN_Logs.csv', index=False)"
   ]
  },
  {
   "cell_type": "code",
   "execution_count": 12,
   "metadata": {},
   "outputs": [],
   "source": [
    "App12_sfn_logs = pd.read_csv('App12_SFN_Logs.csv', error_bad_lines=False, warn_bad_lines=False,low_memory=False)"
   ]
  },
  {
   "cell_type": "code",
   "execution_count": 28,
   "metadata": {},
   "outputs": [
    {
     "data": {
      "text/plain": [
       "(3600, 2)"
      ]
     },
     "execution_count": 28,
     "metadata": {},
     "output_type": "execute_result"
    }
   ],
   "source": [
    "App12_sfn_logs.shape"
   ]
  },
  {
   "cell_type": "code",
   "execution_count": 29,
   "metadata": {},
   "outputs": [],
   "source": [
    "App12_sfn_logs_trimmed = pd.DataFrame()\n",
    "for i in range(5):\n",
    "    App12_sfn_logs_trimmed = App12_sfn_logs_trimmed.append(App12_sfn_logs[execution_start_index[i] : execution_end_index[i]])"
   ]
  },
  {
   "cell_type": "code",
   "execution_count": 30,
   "metadata": {},
   "outputs": [
    {
     "data": {
      "text/plain": [
       "(3000, 2)"
      ]
     },
     "execution_count": 30,
     "metadata": {},
     "output_type": "execute_result"
    }
   ],
   "source": [
    "App12_sfn_logs_trimmed.shape"
   ]
  },
  {
   "cell_type": "code",
   "execution_count": 31,
   "metadata": {},
   "outputs": [],
   "source": [
    "App12_duration=pd.DataFrame((App12_sfn_logs_trimmed['End']-App12_sfn_logs_trimmed['Start'])*1000, columns=['Duration'])\n",
    "App12_duration.to_csv('App12_Duration_AWS.csv', index=True)\n",
    "App12_duration = pd.read_csv('App12_Duration_AWS.csv', error_bad_lines=False, warn_bad_lines=False,low_memory=False, index_col=0)"
   ]
  },
  {
   "cell_type": "markdown",
   "metadata": {},
   "source": [
    "#### End-to-end Response Time Distribution"
   ]
  },
  {
   "cell_type": "code",
   "execution_count": 32,
   "metadata": {},
   "outputs": [
    {
     "name": "stdout",
     "output_type": "stream",
     "text": [
      "Number of Executions:  3000\n",
      "Average Duration Reported by Step Function:  3003.345674832662 ms\n",
      "Standard Deviation of Duration Reported by Step Function:  557.593680387393 ms\n"
     ]
    }
   ],
   "source": [
    "print('Number of Executions: ', len(App12_duration['Duration']))\n",
    "App12_avg_duration_aws = np.mean(App12_duration['Duration'])\n",
    "print('Average Duration Reported by Step Function: ', App12_avg_duration_aws, 'ms')\n",
    "print('Standard Deviation of Duration Reported by Step Function: ', np.std(App12_duration['Duration']), 'ms')"
   ]
  },
  {
   "cell_type": "code",
   "execution_count": 33,
   "metadata": {},
   "outputs": [
    {
     "data": {
      "image/png": "[encoded data removed]",
      "text/plain": [
       "<Figure size 720x432 with 1 Axes>"
      ]
     },
     "metadata": {
      "needs_background": "light"
     },
     "output_type": "display_data"
    }
   ],
   "source": [
    "plt.rc('font', size=8)\n",
    "plt.rc('axes', titlesize=6)\n",
    "plt.rc('axes', labelsize=8)\n",
    "fig, ax = plt.subplots(figsize=(10, 6))\n",
    "App12_ExecutionTime_Bplot = ax.boxplot(App12_duration['Duration'], notch=True, patch_artist=False, labels=['App12'], showfliers=False, showmeans=False)\n",
    "ax.plot(np.average(App12_ExecutionTime_Bplot['medians'][0].get_xdata()), np.average(App12_duration['Duration']),color='red', marker='s', markeredgecolor='red')\n",
    "ax.set_ylabel('Execution Time in ms')\n",
    "plt.show()"
   ]
  },
  {
   "cell_type": "markdown",
   "metadata": {
    "toc-hr-collapsed": false
   },
   "source": [
    "### Query App12 Lambda Function Logs"
   ]
  },
  {
   "cell_type": "markdown",
   "metadata": {},
   "source": [
    "#### Functions for parsing Logs"
   ]
  },
  {
   "cell_type": "code",
   "execution_count": 34,
   "metadata": {},
   "outputs": [],
   "source": [
    "def lambda_report_log_to_dict(log):\n",
    "    res={}\n",
    "    lis=[item.split(': ') for item in log[1]['value'].split('\\t')]\n",
    "    res['RequestId']=lis[0][1]\n",
    "    res['Duration']=float(lis[1][1].split(' ')[0])\n",
    "    res['Billed Duration']=int(lis[2][1].split(' ')[0])\n",
    "    res['Memory Size']=int(lis[3][1].split(' ')[0])\n",
    "    res['Max Memory Used']=int(lis[4][1].split(' ')[0])\n",
    "    res['UTCTimestamp'] = time.mktime(datetime.strptime(log[0]['value'], \"%Y-%m-%d %H:%M:%S.%f\").timetuple()) +timezone_offset*3600\n",
    "    return res"
   ]
  },
  {
   "cell_type": "code",
   "execution_count": 35,
   "metadata": {},
   "outputs": [],
   "source": [
    "query_lambda = []\n",
    "for function in function_name_list:\n",
    "    query_lambda.append(logclient.start_query(\n",
    "        logGroupName='/aws/lambda/{}'.format(function),\n",
    "        queryString=\"fields @timestamp, @message| filter @message like 'REPORT'| sort @timestamp asc\",\n",
    "        startTime=startTime_sfn_App12,\n",
    "        endTime=endTime_sfn_App12,\n",
    "        limit=10000\n",
    "        ))\n",
    "    time.sleep(4)\n",
    "time.sleep(10)"
   ]
  },
  {
   "cell_type": "code",
   "execution_count": 36,
   "metadata": {},
   "outputs": [],
   "source": [
    "query_lambda_results = []\n",
    "for q in query_lambda:\n",
    "    query_lambda_results.append(logclient.get_query_results(\n",
    "        queryId=q['queryId']\n",
    "    ))\n",
    "    time.sleep(4)"
   ]
  },
  {
   "cell_type": "code",
   "execution_count": 37,
   "metadata": {},
   "outputs": [],
   "source": [
    "App12_lambda_logs = {'f'+str(i):None for i in range(1, function_number+1)}\n",
    "for i in range(1, function_number+1):\n",
    "    App12_lambda_logs['f'+str(i)] = [lambda_report_log_to_dict(item) for item in query_lambda_results[i-1]['results']]\n",
    "    for item in App12_lambda_logs['f'+str(i)]:\n",
    "        item['Function']='f'+str(i)"
   ]
  },
  {
   "cell_type": "markdown",
   "metadata": {},
   "source": [
    "#### Convert Logs into DataFrame and Save as CSV"
   ]
  },
  {
   "cell_type": "code",
   "execution_count": 38,
   "metadata": {},
   "outputs": [],
   "source": [
    "App12_Lambda_Logs=pd.DataFrame()\n",
    "for i in range(1, function_number+1):\n",
    "    App12_Lambda_Logs = App12_Lambda_Logs.append(pd.DataFrame(App12_lambda_logs['f'+str(i)]))\n",
    "App12_Lambda_Logs.index=range(App12_Lambda_Logs.shape[0])\n",
    "App12_Lambda_Logs=App12_Lambda_Logs[['Function', 'Memory Size', 'Max Memory Used', 'Duration', 'Billed Duration', 'UTCTimestamp', 'RequestId']]\n",
    "App12_Lambda_Logs.to_csv('App12_Lambda_Logs.csv',index=False)"
   ]
  },
  {
   "cell_type": "code",
   "execution_count": 15,
   "metadata": {},
   "outputs": [],
   "source": [
    "App12_Lambda_Logs = pd.read_csv('App12_Lambda_Logs.csv', error_bad_lines=False, warn_bad_lines=False,low_memory=False)\n",
    "App12_Lambda_Logs.columns = ['Function', 'Memory_Size', 'Max_Memory_Used', 'Duration', 'Billed_Duration', 'UTCTimestamp', 'RequestId']"
   ]
  },
  {
   "cell_type": "code",
   "execution_count": 16,
   "metadata": {},
   "outputs": [
    {
     "data": {
      "text/html": [
       "<div>\n",
       "<style scoped>\n",
       "    .dataframe tbody tr th:only-of-type {\n",
       "        vertical-align: middle;\n",
       "    }\n",
       "\n",
       "    .dataframe tbody tr th {\n",
       "        vertical-align: top;\n",
       "    }\n",
       "\n",
       "    .dataframe thead th {\n",
       "        text-align: right;\n",
       "    }\n",
       "</style>\n",
       "<table border=\"1\" class=\"dataframe\">\n",
       "  <thead>\n",
       "    <tr style=\"text-align: right;\">\n",
       "      <th></th>\n",
       "      <th>Function</th>\n",
       "      <th>Memory_Size</th>\n",
       "      <th>Max_Memory_Used</th>\n",
       "      <th>Duration</th>\n",
       "      <th>Billed_Duration</th>\n",
       "      <th>UTCTimestamp</th>\n",
       "      <th>RequestId</th>\n",
       "    </tr>\n",
       "  </thead>\n",
       "  <tbody>\n",
       "    <tr>\n",
       "      <th>0</th>\n",
       "      <td>f1</td>\n",
       "      <td>1536</td>\n",
       "      <td>59</td>\n",
       "      <td>413.98</td>\n",
       "      <td>500</td>\n",
       "      <td>1.580351e+09</td>\n",
       "      <td>08736d9a-963c-4002-baff-ba63b4ccd553</td>\n",
       "    </tr>\n",
       "    <tr>\n",
       "      <th>1</th>\n",
       "      <td>f1</td>\n",
       "      <td>1536</td>\n",
       "      <td>59</td>\n",
       "      <td>413.30</td>\n",
       "      <td>500</td>\n",
       "      <td>1.580351e+09</td>\n",
       "      <td>3a674580-afad-4bae-b436-bd82455f8841</td>\n",
       "    </tr>\n",
       "    <tr>\n",
       "      <th>2</th>\n",
       "      <td>f1</td>\n",
       "      <td>1536</td>\n",
       "      <td>59</td>\n",
       "      <td>415.95</td>\n",
       "      <td>500</td>\n",
       "      <td>1.580351e+09</td>\n",
       "      <td>720cf02a-c50e-4123-977a-d5e64e6b8d5a</td>\n",
       "    </tr>\n",
       "    <tr>\n",
       "      <th>3</th>\n",
       "      <td>f1</td>\n",
       "      <td>1536</td>\n",
       "      <td>59</td>\n",
       "      <td>717.88</td>\n",
       "      <td>800</td>\n",
       "      <td>1.580351e+09</td>\n",
       "      <td>337219ca-256b-4b81-8c9d-c53c9d83a984</td>\n",
       "    </tr>\n",
       "    <tr>\n",
       "      <th>4</th>\n",
       "      <td>f1</td>\n",
       "      <td>1536</td>\n",
       "      <td>59</td>\n",
       "      <td>820.47</td>\n",
       "      <td>900</td>\n",
       "      <td>1.580351e+09</td>\n",
       "      <td>7f99ff4b-178d-4529-a7a1-564b8e9fc3ee</td>\n",
       "    </tr>\n",
       "  </tbody>\n",
       "</table>\n",
       "</div>"
      ],
      "text/plain": [
       "  Function  Memory_Size  Max_Memory_Used  Duration  Billed_Duration  \\\n",
       "0       f1         1536               59    413.98              500   \n",
       "1       f1         1536               59    413.30              500   \n",
       "2       f1         1536               59    415.95              500   \n",
       "3       f1         1536               59    717.88              800   \n",
       "4       f1         1536               59    820.47              900   \n",
       "\n",
       "   UTCTimestamp                             RequestId  \n",
       "0  1.580351e+09  08736d9a-963c-4002-baff-ba63b4ccd553  \n",
       "1  1.580351e+09  3a674580-afad-4bae-b436-bd82455f8841  \n",
       "2  1.580351e+09  720cf02a-c50e-4123-977a-d5e64e6b8d5a  \n",
       "3  1.580351e+09  337219ca-256b-4b81-8c9d-c53c9d83a984  \n",
       "4  1.580351e+09  7f99ff4b-178d-4529-a7a1-564b8e9fc3ee  "
      ]
     },
     "execution_count": 16,
     "metadata": {},
     "output_type": "execute_result"
    }
   ],
   "source": [
    "App12_Lambda_Logs.head()"
   ]
  },
  {
   "cell_type": "markdown",
   "metadata": {},
   "source": [
    "#### Trim Lambda Function Logs"
   ]
  },
  {
   "cell_type": "code",
   "execution_count": 17,
   "metadata": {},
   "outputs": [],
   "source": [
    "execution_start_timestamp = [App12_sfn_logs['Start'][i] for i in execution_start_index]\n",
    "execution_end_timestamp = [App12_sfn_logs['End'][i] for i in execution_end_index]"
   ]
  },
  {
   "cell_type": "markdown",
   "metadata": {},
   "source": [
    "#### Average Duration and Number of Executions of Functions"
   ]
  },
  {
   "cell_type": "code",
   "execution_count": 18,
   "metadata": {},
   "outputs": [],
   "source": [
    "function_duration_dict = {}\n",
    "function_ne_dict = {}\n",
    "for i in range(1,function_number+1):\n",
    "    temp_df = pd.DataFrame()\n",
    "    for j in range(len(execution_start_timestamp)):\n",
    "        temp_df = temp_df.append(App12_Lambda_Logs.query(\"Function=='{}' and UTCTimestamp>{} and UTCTimestamp<{}\".format('f'+str(i), execution_start_timestamp[j]+1, execution_end_timestamp[j]-1)))\n",
    "    function_duration_dict['f'+str(i)] = temp_df['Duration'].mean()\n",
    "    function_ne_dict['f'+str(i)]  = temp_df.shape[0]"
   ]
  },
  {
   "cell_type": "code",
   "execution_count": 19,
   "metadata": {},
   "outputs": [
    {
     "name": "stdout",
     "output_type": "stream",
     "text": [
      "Average Duration of Functions:\n",
      "{'f1': 762.0240333333333, 'f2': 203.90929, 'f3': 522.5909033989267, 'f4': 834.7361279646993, 'f5': 204.36830394626364, 'f6': 508.01780560524736, 'f7': 348.3006303418804, 'f8': 238.93273666666664, 'f9': 163.15264496820052, 'f10': 363.3962261380323, 'f11': 1009.2928967254406, 'f12': 787.6848782535684}\n",
      "Aboslute Number of Executions of Functions Reported by AWS:\n",
      "{'f1': 3000, 'f2': 3000, 'f3': 3354, 'f4': 1813, 'f5': 1191, 'f6': 3354, 'f7': 3744, 'f8': 3000, 'f9': 2673, 'f10': 681, 'f11': 1191, 'f12': 1191}\n",
      "Relative Number of Executions of Functions Reported by AWS:\n",
      "{'f1': 1.0, 'f2': 1.0, 'f3': 1.118, 'f4': 0.6043333333333333, 'f5': 0.397, 'f6': 1.118, 'f7': 1.248, 'f8': 1.0, 'f9': 0.891, 'f10': 0.227, 'f11': 0.397, 'f12': 0.397}\n"
     ]
    }
   ],
   "source": [
    "print('Average Duration of Functions:')\n",
    "print(function_duration_dict)\n",
    "print('Aboslute Number of Executions of Functions Reported by AWS:')\n",
    "print(function_ne_dict)\n",
    "print('Relative Number of Executions of Functions Reported by AWS:')\n",
    "function_ne_dict_relative = {func:function_ne_dict[func]/function_ne_dict['f1'] for func in function_ne_dict.keys()}\n",
    "print(function_ne_dict_relative)"
   ]
  },
  {
   "cell_type": "markdown",
   "metadata": {},
   "source": [
    "#### Cost per 1 Million Executions Distribution"
   ]
  },
  {
   "cell_type": "code",
   "execution_count": 20,
   "metadata": {},
   "outputs": [],
   "source": [
    "pricing_model={0:0, 128:0.000000208,192:0.000000313,256:0.000000417,320:0.000000521,384:0.000000625,448:0.000000729,512:0.000000834,576:0.000000938,640:0.000001042,704:0.000001146,768:0.00000125,832:0.000001354,896:0.000001459,960:0.000001563,1024:0.000001667,1088:0.000001771,1152:0.000001875,1216:0.00000198,1280:0.000002084,1344:0.000002188,1408:0.000002292,1472:0.000002396,1536:0.000002501,1600:0.000002605,1664:0.000002709,1728:0.000002813,1792:0.000002917,1856:0.000003021,1920:0.000003126,1984:0.00000323,2048:0.000003334,2112:0.000003438,2176:0.000003542,2240:0.000003647,2304:0.000003751,2368:0.000003855,2432:0.000003959,2496:0.000004063,2560:0.000004168,2624:0.000004272,2688:0.000004376,2752:0.00000448,2816:0.000004584,2880:0.000004688,2944:0.000004793,3008:0.000004897}"
   ]
  },
  {
   "cell_type": "code",
   "execution_count": 46,
   "metadata": {},
   "outputs": [],
   "source": [
    "App12_avg_cost_aws_df = pd.DataFrame(columns=['1M_Exe_Cost'])\n",
    "for i in App12_sfn_logs_trimmed.index:\n",
    "    temp_df = App12_Lambda_Logs.query(\"UTCTimestamp>={} and UTCTimestamp<={}\".format(App12_sfn_logs_trimmed['Start'][i]-1, App12_sfn_logs_trimmed['End'][i]+1))\n",
    "    cost = 0\n",
    "    for index, row in temp_df.iterrows():\n",
    "        cost += pricing_model[row['Memory_Size']]*row['Billed_Duration']/100 + 0.0000002\n",
    "    App12_avg_cost_aws_df.loc[i] = [cost*1000000]\n",
    "App12_avg_cost_aws_df.to_csv('App12_Cost_AWS.csv', index=True)\n",
    "App12_avg_cost_aws_df = pd.read_csv('App12_Cost_AWS.csv', error_bad_lines=False, warn_bad_lines=False,low_memory=False, index_col=0)"
   ]
  },
  {
   "cell_type": "code",
   "execution_count": 47,
   "metadata": {},
   "outputs": [
    {
     "name": "stdout",
     "output_type": "stream",
     "text": [
      "Number of Executions:  3000\n",
      "Average Cost per 1 Million Executions Reported by AWS:  103.15497033333334 USD\n",
      "Standard Deviation of Average Cost per 1 Million Executions Reported by AWS:  23.734455395973445 USD\n"
     ]
    }
   ],
   "source": [
    "print('Number of Executions: ', len(App12_avg_cost_aws_df))\n",
    "App12_avg_cost_aws =  np.mean(App12_avg_cost_aws_df['1M_Exe_Cost'])\n",
    "print('Average Cost per 1 Million Executions Reported by AWS: ', App12_avg_cost_aws, 'USD')\n",
    "print('Standard Deviation of Average Cost per 1 Million Executions Reported by AWS: ', np.std(App12_avg_cost_aws_df['1M_Exe_Cost']), 'USD')"
   ]
  },
  {
   "cell_type": "code",
   "execution_count": 48,
   "metadata": {},
   "outputs": [
    {
     "data": {
      "image/png": "[encoded data removed]",
      "text/plain": [
       "<Figure size 720x432 with 1 Axes>"
      ]
     },
     "metadata": {
      "needs_background": "light"
     },
     "output_type": "display_data"
    }
   ],
   "source": [
    "plt.rc('font', size=8)\n",
    "plt.rc('axes', titlesize=6)\n",
    "plt.rc('axes', labelsize=8)\n",
    "fig, ax = plt.subplots(figsize=(10, 6))\n",
    "App12_Cost_Bplot = ax.boxplot(App12_avg_cost_aws_df['1M_Exe_Cost'], notch=True, patch_artist=False, labels=['App12'], showfliers=False, showmeans=False)\n",
    "ax.plot(np.average(App12_Cost_Bplot['medians'][0].get_xdata()), np.average(App12_avg_cost_aws_df['1M_Exe_Cost']),color='red', marker='s', markeredgecolor='red')\n",
    "ax.set_ylabel('Cost per 1 Million Executions in US Dollars')\n",
    "plt.show()"
   ]
  },
  {
   "cell_type": "markdown",
   "metadata": {},
   "source": [
    "## Analytical Model"
   ]
  },
  {
   "cell_type": "code",
   "execution_count": 22,
   "metadata": {},
   "outputs": [],
   "source": [
    "import sys\n",
    "sys.path.append('../../../source/ServerlessAppPerfCostMdlOpt')\n",
    "import networkx as nx\n",
    "import itertools\n",
    "import warnings\n",
    "warnings.filterwarnings(\"ignore\")\n",
    "from ServerlessAppWorkflow import ServerlessAppWorkflow\n",
    "from AppGenerator import AppGenerator\n",
    "from PerfOpt import PerfOpt"
   ]
  },
  {
   "cell_type": "markdown",
   "metadata": {},
   "source": [
    "### Define App Orchestration"
   ]
  },
  {
   "cell_type": "code",
   "execution_count": 24,
   "metadata": {},
   "outputs": [
    {
     "data": {
      "image/png": "[encoded data removed]",
      "text/plain": [
       "<Figure size 432x288 with 1 Axes>"
      ]
     },
     "metadata": {},
     "output_type": "display_data"
    }
   ],
   "source": [
    "App12_G = nx.DiGraph()\n",
    "App12_G.add_node('Start', pos=(0, 1))\n",
    "App12_G.add_node(1, pos=(1, 1), mem = mem_config_list['f1'], rt = function_duration_dict['f1'])\n",
    "App12_G.add_node(2, pos=(2, 2), mem = mem_config_list['f2'], rt = function_duration_dict['f2'])\n",
    "App12_G.add_node(3, pos=(2, 0), mem = mem_config_list['f3'], rt = function_duration_dict['f3'])\n",
    "App12_G.add_node(9, pos=(2.5, -0.5), mem = mem_config_list['f9'], rt = function_duration_dict['f9'])\n",
    "App12_G.add_node(10, pos=(2.5, 0.5), mem = mem_config_list['f10'], rt = function_duration_dict['f10'])\n",
    "App12_G.add_node(4, pos=(4, 2.5), mem = mem_config_list['f4'], rt = function_duration_dict['f4'])\n",
    "App12_G.add_node(5, pos=(3, 1.5), mem = mem_config_list['f5'], rt = function_duration_dict['f5'])\n",
    "App12_G.add_node(11, pos=(3.5, 2), mem = mem_config_list['f11'], rt = function_duration_dict['f11'])\n",
    "App12_G.add_node(12, pos=(3.5, 1), mem = mem_config_list['f12'], rt = function_duration_dict['f12'])\n",
    "App12_G.add_node(6, pos=(3, 0), mem = mem_config_list['f6'], rt = function_duration_dict['f6'])\n",
    "App12_G.add_node(7, pos=(5, 1), mem = mem_config_list['f7'], rt = function_duration_dict['f7'])\n",
    "App12_G.add_node(8, pos=(6, 1), mem = mem_config_list['f8'], rt = function_duration_dict['f8'])\n",
    "App12_G.add_node('End', pos=(7, 1))\n",
    "App12_G.add_weighted_edges_from([(1, 2, 1),(1, 3, 1),(2, 4, 0.6),(2, 5, 0.4),(4, 7, 1),(5, 11, 1),(5, 12, 1),(11, 7, 1),(12, 7, 1),(3, 9, 0.8),(3, 10, 0.2),(9, 6, 1),(10, 6, 1), (6, 7, 0.9), (6, 3, 0.1), (7, 8, 0.8),(7, 7, 0.2)])\n",
    "App12_G.add_weighted_edges_from([('Start', 1, 1), (8, 'End', 1)])\n",
    "pos_App12_G = nx.get_node_attributes(App12_G, 'pos')\n",
    "nx.draw(App12_G, pos_App12_G, with_labels=True)\n",
    "labels_App12_G = nx.get_edge_attributes(App12_G, 'weight')\n",
    "nx.draw_networkx_edge_labels(App12_G, pos_App12_G, edge_labels=labels_App12_G)\n",
    "pos_higher_offset_App12_G = {}\n",
    "for k, v in pos_App12_G.items():\n",
    "    pos_higher_offset_App12_G[k] = (v[0], v[1] + 0.15)\n",
    "plt.savefig('App12_G.png')\n",
    "plt.show()"
   ]
  },
  {
   "cell_type": "code",
   "execution_count": 55,
   "metadata": {},
   "outputs": [
    {
     "name": "stdout",
     "output_type": "stream",
     "text": [
      "Relative Number of Executions of Functions Reported by Model:\n",
      "{'Start': 0, 1: 1, 2: 1, 3: 1.1111111111111112, 9: 0.888888888888889, 10: 0.22222222222222224, 4: 0.6, 5: 0.4, 11: 0.4, 12: 0.4, 6: 1.1111111111111112, 7: 1.25, 8: 1, 'End': 0}\n",
      "Average End-to-end Response Time Reported by Model: 3020.2943238486223\n",
      "Average Cost per 1 Million Executions Reported by Model: 104.0457777777778\n",
      "Accuracy of the End-to-end Response Time Modeling:  99.43884114597272\n",
      "Accuracy of the Cost Modeling:  99.97050593919239\n"
     ]
    }
   ],
   "source": [
    "App12 = ServerlessAppWorkflow(G=App12_G.copy(), delayType='SFN')\n",
    "App12.update_NE()\n",
    "print('Relative Number of Executions of Functions Reported by Model:')\n",
    "print(App12.ne)\n",
    "App12cost = App12.get_avg_cost()\n",
    "App12.get_simple_dag()\n",
    "App12rt = App12.get_avg_rt()\n",
    "print(\"Average End-to-end Response Time Reported by Model: {}\".format(App12rt))\n",
    "print(\"Average Cost per 1 Million Executions Reported by Model: {}\".format(App12cost))\n",
    "rt_accuracy = 100-(App12rt-App12_avg_duration_aws)/App12rt*100\n",
    "print(\"Accuracy of the End-to-end Response Time Modeling: \", rt_accuracy)\n",
    "cost_accuracy = 100-(App12cost-App12_avg_cost_aws)/App12rt*100\n",
    "print(\"Accuracy of the Cost Modeling: \", cost_accuracy)"
   ]
  },
  {
   "cell_type": "code",
   "execution_count": 59,
   "metadata": {},
   "outputs": [],
   "source": [
    "with open('results.json', 'w', encoding='utf-8') as f:\n",
    "    json.dump({\"RT_Model\":App12rt, \"RT_Accuracy\":rt_accuracy,\n",
    "               \"Cost_Model\":App12cost, \"Cost_Accuracy\":cost_accuracy\n",
    "              }, f, ensure_ascii=False, indent=4)"
   ]
  },
  {
   "cell_type": "code",
   "execution_count": 57,
   "metadata": {},
   "outputs": [
    {
     "data": {
      "image/png": "[encoded data removed]",
      "text/plain": [
       "<Figure size 720x432 with 1 Axes>"
      ]
     },
     "metadata": {
      "needs_background": "light"
     },
     "output_type": "display_data"
    },
    {
     "name": "stdout",
     "output_type": "stream",
     "text": [
      "Accuracy of the End-to-end Response Time Modeling:  99.43884114597272\n"
     ]
    }
   ],
   "source": [
    "plt.rc('font', size=8)\n",
    "plt.rc('axes', titlesize=6)\n",
    "plt.rc('axes', labelsize=8)\n",
    "fig, ax = plt.subplots(figsize=(10, 6))\n",
    "App12_ExecutionTime_Bplot = ax.boxplot(App12_duration['Duration'], notch=True, patch_artist=False, labels=['App12'], showfliers=False, showmeans=False)\n",
    "App12_rt_aws, = ax.plot(np.average(App12_ExecutionTime_Bplot['medians'][0].get_xdata()), np.average(App12_duration['Duration']), color='red', marker='s', markeredgecolor='red')\n",
    "App12_rt_model, = ax.plot(np.average(App12_ExecutionTime_Bplot['medians'][0].get_xdata()), App12rt, color='blue', marker='x', markeredgecolor='blue')\n",
    "App12_rt_aws.set_label('Average End-to-end RT Reported by AWS')\n",
    "App12_rt_model.set_label('Average End-to-end RT Reported by Model')\n",
    "ax.set_ylabel('End-to-end Response Time in ms')\n",
    "ax.legend()\n",
    "plt.show()\n",
    "print(\"Accuracy of the End-to-end Response Time Modeling: \", rt_accuracy)"
   ]
  },
  {
   "cell_type": "code",
   "execution_count": 58,
   "metadata": {},
   "outputs": [
    {
     "data": {
      "image/png": "[encoded data removed]",
      "text/plain": [
       "<Figure size 720x432 with 1 Axes>"
      ]
     },
     "metadata": {
      "needs_background": "light"
     },
     "output_type": "display_data"
    },
    {
     "name": "stdout",
     "output_type": "stream",
     "text": [
      "Accuracy of the Cost Modeling:  99.97050593919239\n"
     ]
    }
   ],
   "source": [
    "plt.rc('font', size=8)\n",
    "plt.rc('axes', titlesize=6)\n",
    "plt.rc('axes', labelsize=8)\n",
    "fig, ax = plt.subplots(figsize=(10, 6))\n",
    "App12_Cost_Bplot = ax.boxplot(App12_avg_cost_aws_df['1M_Exe_Cost'], notch=True, patch_artist=False, labels=['App12'], showfliers=False, showmeans=False)\n",
    "App12_cost_aws, = ax.plot(np.average(App12_Cost_Bplot['medians'][0].get_xdata()), np.average(App12_avg_cost_aws_df['1M_Exe_Cost']), color='red', marker='s', markeredgecolor='red')\n",
    "App12_cost_model, = ax.plot(np.average(App12_Cost_Bplot['medians'][0].get_xdata()),App12cost, color='blue', marker='x', markeredgecolor='blue')\n",
    "App12_cost_aws.set_label('Average Cost per 1 Million Executions Reported by AWS')\n",
    "App12_cost_model.set_label('Average Cost per 1 Million Executions Reported by Model')\n",
    "ax.set_ylabel('Cost per 1 Million Executions in US Dollars')\n",
    "ax.legend()\n",
    "plt.show()\n",
    "print(\"Accuracy of the Cost Modeling: \", cost_accuracy)"
   ]
  },
  {
   "cell_type": "code",
   "execution_count": null,
   "metadata": {},
   "outputs": [],
   "source": []
  }
 ],
 "metadata": {
  "kernelspec": {
   "display_name": "Python 3.7.6",
   "language": "python",
   "name": "python3.7"
  },
  "language_info": {
   "codemirror_mode": {
    "name": "ipython",
    "version": 3
   },
   "file_extension": ".py",
   "mimetype": "text/x-python",
   "name": "python",
   "nbconvert_exporter": "python",
   "pygments_lexer": "ipython3",
   "version": "3.7.6"
  }
 },
 "nbformat": 4,
 "nbformat_minor": 4
}